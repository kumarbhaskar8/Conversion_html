{
 "cells": [
  {
   "cell_type": "markdown",
   "id": "45cbf071",
   "metadata": {},
   "source": [
    "# Iris"
   ]
  },
  {
   "cell_type": "markdown",
   "id": "a3a93319-620f-47fa-9824-fe01b8fe4471",
   "metadata": {},
   "source": [
    "## Setup"
   ]
  },
  {
   "cell_type": "markdown",
   "id": "77ba13d0-cccb-4396-958a-6fb721695467",
   "metadata": {},
   "source": [
    "### Teradata Setup"
   ]
  },
  {
   "cell_type": "code",
   "execution_count": 1,
   "id": "6160bf37-00dd-40cb-9319-452433b03554",
   "metadata": {},
   "outputs": [],
   "source": [
    "# Teradata Setup\n",
    "from teradatasql import connect\n",
    "from teradataml.context.context import *\n",
    "from teradataml.dataframe.dataframe import DataFrame\n",
    "from teradataml.dataframe.copy_to import copy_to_sql\n",
    "import getpass\n",
    "import teradataml as td"
   ]
  },
  {
   "cell_type": "code",
   "execution_count": 2,
   "id": "b02a2027-6f6c-4447-a466-9996bb81d97b",
   "metadata": {},
   "outputs": [],
   "source": [
    "# connect to database\n",
    "HOST='sdt53564'\n",
    "USER='KA255049'\n",
    "TEMP_DB ='KA255049'\n",
    "# create_context(host=HOST,  username=USER, password=getpass.getpass(),  temp_database_name =TEMP_DB)\n",
    "create_context(host=HOST,  username=USER, password='sahithi30052003',  temp_database_name =TEMP_DB)\n",
    "conn = get_connection()"
   ]
  },
  {
   "cell_type": "markdown",
   "id": "b4d27ddc-0c59-4526-a510-56b822319dd1",
   "metadata": {},
   "source": [
    "### Python Setup"
   ]
  },
  {
   "cell_type": "code",
   "execution_count": 3,
   "id": "577941f3-5e7b-45fb-91d3-90f161c60fe6",
   "metadata": {},
   "outputs": [],
   "source": [
    "import numpy as np\n",
    "import pandas as pd\n",
    "import teradataml as td\n",
    "import pandas as pd\n",
    "import numpy as np\n",
    "import matplotlib.pyplot as plt\n",
    "from sklearn.cluster import KMeans\n",
    "from IPython.display import HTML, TextDisplayObject\n",
    "import toml\n",
    "import plotly.graph_objects as go\n",
    "import plotly.express as px\n",
    "import plotly.graph_objs as go\n",
    "import ipywidgets as widgets\n",
    "import plotly.subplots as sp\n",
    "from itertools import chain, product\n",
    "from sspipe import p as p_, px as px_\n",
    "from sklearn.metrics import silhouette_score\n",
    "import qgrid\n",
    "from custom_functions_queries import Teradata_KMeans, find_most_important_columns\n",
    "import custom_functions_queries\n",
    "from custom_plots import imp_interactive_plot, update_plot"
   ]
  },
  {
   "cell_type": "code",
   "execution_count": 4,
   "id": "c9a100c3",
   "metadata": {},
   "outputs": [],
   "source": [
    "from helpers import (\n",
    "    aic_fig,\n",
    "    coef,\n",
    "    compare_options,\n",
    "    extract_options,\n",
    "    get_option,\n",
    "    namps,\n",
    "    label_cm,\n",
    ")"
   ]
  },
  {
   "cell_type": "markdown",
   "id": "4c32263d-f283-4451-a3a5-00640ace55ca",
   "metadata": {},
   "source": [
    "### Helping functions"
   ]
  },
  {
   "cell_type": "code",
   "execution_count": 5,
   "id": "1b4b3811-8630-4add-9eae-db74e10b397e",
   "metadata": {},
   "outputs": [],
   "source": [
    "def convert(X, y):\n",
    "    df = (\n",
    "        X.reset_index()\n",
    "        .merge(y.reset_index(), on=\"index\")\n",
    "        .rename(columns={\"index\": \"id\"})\n",
    "        .sort_values(by=\"id\")\n",
    "        .reset_index(drop=True)\n",
    "    )\n",
    "    return df\n",
    "\n",
    "def namps(table, pi):\n",
    "    q = (\n",
    "        f\"SELECT HASHAMP(HASHBUCKET(HASHROW({pi}))),COUNT (*) \"\n",
    "        f\"from {table} group by 1 order by 1;\"\n",
    "    )\n",
    "    df = td.get_context().execute(q).fetchall() | p_(\n",
    "        pd.DataFrame, columns=[\"amp\", \"count\"]\n",
    "    ).assign(amp=lambda x: x.amp + 1)\n",
    "    display(HTML(f\"<h3>Data distribution: {table}</h3>\"))\n",
    "    display(df.style.hide())\n",
    "    \n",
    "def dict_to_multi_dict(conv_options):\n",
    "    query_values = [\n",
    "                v if isinstance(v, list) else [v] for v in conv_options.values()\n",
    "            ]\n",
    "    return [\n",
    "                dict(zip(conv_options.keys(), options))\n",
    "                for options in product(*query_values)\n",
    "            ]"
   ]
  },
  {
   "cell_type": "markdown",
   "id": "e4561660",
   "metadata": {},
   "source": [
    "## Data"
   ]
  },
  {
   "cell_type": "code",
   "execution_count": 6,
   "id": "bb70b016",
   "metadata": {},
   "outputs": [],
   "source": [
    "td_table = \"iris\"\n",
    "\n",
    "iris_td = td.DataFrame(td_table)\n",
    "iris_local = iris_td.to_pandas().assign(\n",
    "    target_=lambda x: x.target_.astype(\"category\")\n",
    ")"
   ]
  },
  {
   "cell_type": "code",
   "execution_count": 7,
   "id": "456fd77e",
   "metadata": {},
   "outputs": [
    {
     "data": {
      "text/html": [
       "<h3>Data distribution: iris</h3>"
      ],
      "text/plain": [
       "<IPython.core.display.HTML object>"
      ]
     },
     "metadata": {},
     "output_type": "display_data"
    },
    {
     "data": {
      "text/html": [
       "<style type=\"text/css\">\n",
       "</style>\n",
       "<table id=\"T_104cf\">\n",
       "  <thead>\n",
       "    <tr>\n",
       "      <th id=\"T_104cf_level0_col0\" class=\"col_heading level0 col0\" >amp</th>\n",
       "      <th id=\"T_104cf_level0_col1\" class=\"col_heading level0 col1\" >count</th>\n",
       "    </tr>\n",
       "  </thead>\n",
       "  <tbody>\n",
       "    <tr>\n",
       "      <td id=\"T_104cf_row0_col0\" class=\"data row0 col0\" >1</td>\n",
       "      <td id=\"T_104cf_row0_col1\" class=\"data row0 col1\" >22</td>\n",
       "    </tr>\n",
       "    <tr>\n",
       "      <td id=\"T_104cf_row1_col0\" class=\"data row1 col0\" >2</td>\n",
       "      <td id=\"T_104cf_row1_col1\" class=\"data row1 col1\" >17</td>\n",
       "    </tr>\n",
       "    <tr>\n",
       "      <td id=\"T_104cf_row2_col0\" class=\"data row2 col0\" >3</td>\n",
       "      <td id=\"T_104cf_row2_col1\" class=\"data row2 col1\" >19</td>\n",
       "    </tr>\n",
       "    <tr>\n",
       "      <td id=\"T_104cf_row3_col0\" class=\"data row3 col0\" >4</td>\n",
       "      <td id=\"T_104cf_row3_col1\" class=\"data row3 col1\" >18</td>\n",
       "    </tr>\n",
       "    <tr>\n",
       "      <td id=\"T_104cf_row4_col0\" class=\"data row4 col0\" >5</td>\n",
       "      <td id=\"T_104cf_row4_col1\" class=\"data row4 col1\" >18</td>\n",
       "    </tr>\n",
       "    <tr>\n",
       "      <td id=\"T_104cf_row5_col0\" class=\"data row5 col0\" >6</td>\n",
       "      <td id=\"T_104cf_row5_col1\" class=\"data row5 col1\" >15</td>\n",
       "    </tr>\n",
       "    <tr>\n",
       "      <td id=\"T_104cf_row6_col0\" class=\"data row6 col0\" >7</td>\n",
       "      <td id=\"T_104cf_row6_col1\" class=\"data row6 col1\" >20</td>\n",
       "    </tr>\n",
       "    <tr>\n",
       "      <td id=\"T_104cf_row7_col0\" class=\"data row7 col0\" >8</td>\n",
       "      <td id=\"T_104cf_row7_col1\" class=\"data row7 col1\" >21</td>\n",
       "    </tr>\n",
       "  </tbody>\n",
       "</table>\n"
      ],
      "text/plain": [
       "<pandas.io.formats.style.Styler at 0x7f77c941c4f0>"
      ]
     },
     "metadata": {},
     "output_type": "display_data"
    }
   ],
   "source": [
    "namps(td_table, \"pi\")"
   ]
  },
  {
   "cell_type": "code",
   "execution_count": 8,
   "id": "68628977",
   "metadata": {
    "scrolled": false
   },
   "outputs": [
    {
     "data": {
      "text/html": [
       "<div>\n",
       "<style scoped>\n",
       "    .dataframe tbody tr th:only-of-type {\n",
       "        vertical-align: middle;\n",
       "    }\n",
       "\n",
       "    .dataframe tbody tr th {\n",
       "        vertical-align: top;\n",
       "    }\n",
       "\n",
       "    .dataframe thead th {\n",
       "        text-align: right;\n",
       "    }\n",
       "</style>\n",
       "<table border=\"1\" class=\"dataframe\">\n",
       "  <thead>\n",
       "    <tr style=\"text-align: right;\">\n",
       "      <th></th>\n",
       "      <th>id</th>\n",
       "      <th>sepal_length</th>\n",
       "      <th>sepal_width</th>\n",
       "      <th>petal_length</th>\n",
       "      <th>petal_width</th>\n",
       "      <th>target_</th>\n",
       "    </tr>\n",
       "    <tr>\n",
       "      <th>pi</th>\n",
       "      <th></th>\n",
       "      <th></th>\n",
       "      <th></th>\n",
       "      <th></th>\n",
       "      <th></th>\n",
       "      <th></th>\n",
       "    </tr>\n",
       "  </thead>\n",
       "  <tbody>\n",
       "    <tr>\n",
       "      <th>76</th>\n",
       "      <td>76</td>\n",
       "      <td>1.159173</td>\n",
       "      <td>-0.592373</td>\n",
       "      <td>0.592246</td>\n",
       "      <td>0.264142</td>\n",
       "      <td>1</td>\n",
       "    </tr>\n",
       "    <tr>\n",
       "      <th>101</th>\n",
       "      <td>101</td>\n",
       "      <td>-0.052506</td>\n",
       "      <td>-0.822570</td>\n",
       "      <td>0.762758</td>\n",
       "      <td>0.922303</td>\n",
       "      <td>2</td>\n",
       "    </tr>\n",
       "    <tr>\n",
       "      <th>40</th>\n",
       "      <td>40</td>\n",
       "      <td>-1.021849</td>\n",
       "      <td>1.019004</td>\n",
       "      <td>-1.397064</td>\n",
       "      <td>-1.183812</td>\n",
       "      <td>0</td>\n",
       "    </tr>\n",
       "    <tr>\n",
       "      <th>122</th>\n",
       "      <td>122</td>\n",
       "      <td>2.249683</td>\n",
       "      <td>-0.592373</td>\n",
       "      <td>1.672157</td>\n",
       "      <td>1.053935</td>\n",
       "      <td>2</td>\n",
       "    </tr>\n",
       "    <tr>\n",
       "      <th>80</th>\n",
       "      <td>80</td>\n",
       "      <td>-0.416010</td>\n",
       "      <td>-1.513160</td>\n",
       "      <td>0.023872</td>\n",
       "      <td>-0.130755</td>\n",
       "      <td>1</td>\n",
       "    </tr>\n",
       "    <tr>\n",
       "      <th>...</th>\n",
       "      <td>...</td>\n",
       "      <td>...</td>\n",
       "      <td>...</td>\n",
       "      <td>...</td>\n",
       "      <td>...</td>\n",
       "      <td>...</td>\n",
       "    </tr>\n",
       "    <tr>\n",
       "      <th>103</th>\n",
       "      <td>103</td>\n",
       "      <td>0.553333</td>\n",
       "      <td>-0.362176</td>\n",
       "      <td>1.046945</td>\n",
       "      <td>0.790671</td>\n",
       "      <td>2</td>\n",
       "    </tr>\n",
       "    <tr>\n",
       "      <th>132</th>\n",
       "      <td>132</td>\n",
       "      <td>0.674501</td>\n",
       "      <td>-0.592373</td>\n",
       "      <td>1.046945</td>\n",
       "      <td>1.317199</td>\n",
       "      <td>2</td>\n",
       "    </tr>\n",
       "    <tr>\n",
       "      <th>145</th>\n",
       "      <td>145</td>\n",
       "      <td>1.038005</td>\n",
       "      <td>-0.131979</td>\n",
       "      <td>0.819596</td>\n",
       "      <td>1.448832</td>\n",
       "      <td>2</td>\n",
       "    </tr>\n",
       "    <tr>\n",
       "      <th>23</th>\n",
       "      <td>23</td>\n",
       "      <td>-0.900681</td>\n",
       "      <td>0.558611</td>\n",
       "      <td>-1.169714</td>\n",
       "      <td>-0.920548</td>\n",
       "      <td>0</td>\n",
       "    </tr>\n",
       "    <tr>\n",
       "      <th>2</th>\n",
       "      <td>2</td>\n",
       "      <td>-1.385353</td>\n",
       "      <td>0.328414</td>\n",
       "      <td>-1.397064</td>\n",
       "      <td>-1.315444</td>\n",
       "      <td>0</td>\n",
       "    </tr>\n",
       "  </tbody>\n",
       "</table>\n",
       "<p>150 rows × 6 columns</p>\n",
       "</div>"
      ],
      "text/plain": [
       "      id  sepal_length  sepal_width  petal_length  petal_width target_\n",
       "pi                                                                    \n",
       "76    76      1.159173    -0.592373      0.592246     0.264142       1\n",
       "101  101     -0.052506    -0.822570      0.762758     0.922303       2\n",
       "40    40     -1.021849     1.019004     -1.397064    -1.183812       0\n",
       "122  122      2.249683    -0.592373      1.672157     1.053935       2\n",
       "80    80     -0.416010    -1.513160      0.023872    -0.130755       1\n",
       "..   ...           ...          ...           ...          ...     ...\n",
       "103  103      0.553333    -0.362176      1.046945     0.790671       2\n",
       "132  132      0.674501    -0.592373      1.046945     1.317199       2\n",
       "145  145      1.038005    -0.131979      0.819596     1.448832       2\n",
       "23    23     -0.900681     0.558611     -1.169714    -0.920548       0\n",
       "2      2     -1.385353     0.328414     -1.397064    -1.315444       0\n",
       "\n",
       "[150 rows x 6 columns]"
      ]
     },
     "execution_count": 8,
     "metadata": {},
     "output_type": "execute_result"
    }
   ],
   "source": [
    "iris_local"
   ]
  },
  {
   "cell_type": "code",
   "execution_count": 9,
   "id": "ff725907-15c8-4584-be92-c8ffbdc0d9ff",
   "metadata": {
    "ExecuteTime": {
     "end_time": "2022-01-11T05:45:12.841303Z",
     "start_time": "2022-01-11T05:45:12.837753Z"
    }
   },
   "outputs": [
    {
     "name": "stdout",
     "output_type": "stream",
     "text": [
      "Index(['sepal_length', 'sepal_width', 'petal_length', 'petal_width'], dtype='object')\n",
      "target_\n"
     ]
    }
   ],
   "source": [
    "feature_cols = iris_local.columns[1:-1]\n",
    "target_col = iris_local.columns[-1]\n",
    "print(feature_cols)\n",
    "print(target_col)"
   ]
  },
  {
   "cell_type": "code",
   "execution_count": 10,
   "id": "9a0e16d8-d7b8-4523-9c84-8bf4ba0595b2",
   "metadata": {
    "ExecuteTime": {
     "end_time": "2022-01-11T05:45:12.858010Z",
     "start_time": "2022-01-11T05:45:12.843032Z"
    }
   },
   "outputs": [],
   "source": [
    "X = iris_local[feature_cols]\n",
    "y = iris_local[target_col]"
   ]
  },
  {
   "cell_type": "markdown",
   "id": "c0ea64f0",
   "metadata": {},
   "source": [
    "## Selecting Top 2 Important Features"
   ]
  },
  {
   "cell_type": "code",
   "execution_count": 11,
   "id": "af4f584a",
   "metadata": {},
   "outputs": [
    {
     "name": "stdout",
     "output_type": "stream",
     "text": [
      "Most important columns:\n",
      "['sepal_width', 'sepal_length']\n",
      "Explained variance ratio:\n",
      "[9.9907678e-01 4.8808827e-04]\n"
     ]
    }
   ],
   "source": [
    "imp_cols = find_most_important_columns(iris_local, 2)"
   ]
  },
  {
   "cell_type": "markdown",
   "id": "b821e07e",
   "metadata": {},
   "source": [
    "## SKLearn Kmeans"
   ]
  },
  {
   "cell_type": "code",
   "execution_count": 12,
   "id": "c9fb7498",
   "metadata": {},
   "outputs": [
    {
     "data": {
      "text/html": [
       "<h4>Kmeans Options:</h4>"
      ],
      "text/plain": [
       "<IPython.core.display.HTML object>"
      ]
     },
     "metadata": {},
     "output_type": "display_data"
    },
    {
     "data": {
      "text/plain": [
       "{'n_clusters': [2, 3, 4, 5, 6, 7, 8],\n",
       " 'init': 'k-means++',\n",
       " 'n_init': 1,\n",
       " 'max_iter': 300,\n",
       " 'tol': 0.0001,\n",
       " 'verbose': 0,\n",
       " 'random_state': None,\n",
       " 'copy_x': True,\n",
       " 'algorithm': 'lloyd'}"
      ]
     },
     "metadata": {},
     "output_type": "display_data"
    }
   ],
   "source": [
    "kmeans_options = {\n",
    "    \"n_clusters\": [2,3,4,5,6,7,8], \n",
    "    \"init\":'k-means++', \n",
    "    \"n_init\":1, \n",
    "    \"max_iter\":300, \n",
    "    \"tol\":0.0001, \n",
    "    \"verbose\":0, \n",
    "    \"random_state\":None, \n",
    "    \"copy_x\":True, \n",
    "    \"algorithm\":'lloyd'\n",
    "}\n",
    "\n",
    "display(HTML(\"<h4>Kmeans Options:</h4>\"))\n",
    "display(kmeans_options)"
   ]
  },
  {
   "cell_type": "markdown",
   "id": "e87f62fd",
   "metadata": {},
   "source": [
    "### For Important Columns"
   ]
  },
  {
   "cell_type": "code",
   "execution_count": 13,
   "id": "b74ebb8e",
   "metadata": {},
   "outputs": [],
   "source": [
    "kmeans_multiple_options = dict_to_multi_dict(kmeans_options)\n",
    "sk_results = [pd.DataFrame() for i in range(len(kmeans_multiple_options))]\n",
    "sk_cluster_centers = {}\n",
    "for i in range(len(kmeans_multiple_options)):\n",
    "    sklearn_kmeans = KMeans(**kmeans_multiple_options[i]).fit(X[imp_cols])\n",
    "    sk_results[i] = X[imp_cols].copy()\n",
    "    sk_results[i]['cluster_id'] = sklearn_kmeans.predict(X[imp_cols])\n",
    "    sk_cluster_centers[f'Run {i}'] = sklearn_kmeans.cluster_centers_.tolist()"
   ]
  },
  {
   "cell_type": "code",
   "execution_count": 14,
   "id": "abfbf7c2",
   "metadata": {},
   "outputs": [
    {
     "data": {
      "text/html": [
       "<div>\n",
       "<style scoped>\n",
       "    .dataframe tbody tr th:only-of-type {\n",
       "        vertical-align: middle;\n",
       "    }\n",
       "\n",
       "    .dataframe tbody tr th {\n",
       "        vertical-align: top;\n",
       "    }\n",
       "\n",
       "    .dataframe thead th {\n",
       "        text-align: right;\n",
       "    }\n",
       "</style>\n",
       "<table border=\"1\" class=\"dataframe\">\n",
       "  <thead>\n",
       "    <tr style=\"text-align: right;\">\n",
       "      <th></th>\n",
       "      <th>sepal_width</th>\n",
       "      <th>sepal_length</th>\n",
       "      <th>cluster_id</th>\n",
       "    </tr>\n",
       "    <tr>\n",
       "      <th>pi</th>\n",
       "      <th></th>\n",
       "      <th></th>\n",
       "      <th></th>\n",
       "    </tr>\n",
       "  </thead>\n",
       "  <tbody>\n",
       "    <tr>\n",
       "      <th>76</th>\n",
       "      <td>-0.592373</td>\n",
       "      <td>1.159173</td>\n",
       "      <td>0</td>\n",
       "    </tr>\n",
       "    <tr>\n",
       "      <th>101</th>\n",
       "      <td>-0.822570</td>\n",
       "      <td>-0.052506</td>\n",
       "      <td>0</td>\n",
       "    </tr>\n",
       "    <tr>\n",
       "      <th>40</th>\n",
       "      <td>1.019004</td>\n",
       "      <td>-1.021849</td>\n",
       "      <td>1</td>\n",
       "    </tr>\n",
       "    <tr>\n",
       "      <th>122</th>\n",
       "      <td>-0.592373</td>\n",
       "      <td>2.249683</td>\n",
       "      <td>0</td>\n",
       "    </tr>\n",
       "    <tr>\n",
       "      <th>80</th>\n",
       "      <td>-1.513160</td>\n",
       "      <td>-0.416010</td>\n",
       "      <td>0</td>\n",
       "    </tr>\n",
       "  </tbody>\n",
       "</table>\n",
       "</div>"
      ],
      "text/plain": [
       "     sepal_width  sepal_length  cluster_id\n",
       "pi                                        \n",
       "76     -0.592373      1.159173           0\n",
       "101    -0.822570     -0.052506           0\n",
       "40      1.019004     -1.021849           1\n",
       "122    -0.592373      2.249683           0\n",
       "80     -1.513160     -0.416010           0"
      ]
     },
     "execution_count": 14,
     "metadata": {},
     "output_type": "execute_result"
    }
   ],
   "source": [
    "sk_results[0].head(5)"
   ]
  },
  {
   "cell_type": "code",
   "execution_count": 15,
   "id": "82be0b00",
   "metadata": {},
   "outputs": [],
   "source": [
    "# fig = plt.figure()\n",
    "# ax = fig.add_subplot(111, projection='3d')\n",
    "# ax.scatter(sk_results[0]['petal length (cm)'], sk_results[0]['petal width (cm)'], c=sk_results[0]['cluster_id'])\n",
    "# plt.show()"
   ]
  },
  {
   "cell_type": "code",
   "execution_count": 16,
   "id": "14f63963",
   "metadata": {},
   "outputs": [
    {
     "data": {
      "text/html": [
       "<h1>SkLearn KMeans Clusters for All Runs</h1>"
      ],
      "text/plain": [
       "<IPython.core.display.HTML object>"
      ]
     },
     "metadata": {},
     "output_type": "display_data"
    },
    {
     "data": {
      "application/vnd.jupyter.widget-view+json": {
       "model_id": "cde1605adcc34de3accd09fbc430767f",
       "version_major": 2,
       "version_minor": 0
      },
      "text/plain": [
       "interactive(children=(Dropdown(description='Run', options=(0, 1, 2, 3, 4, 5, 6), value=0), Output()), _dom_cla…"
      ]
     },
     "metadata": {},
     "output_type": "display_data"
    }
   ],
   "source": [
    "display(HTML(\"<h1>SkLearn KMeans Clusters for All Runs</h1>\"))\n",
    "imp_interactive_plot(sk_results, sk_cluster_centers, imp_cols)"
   ]
  },
  {
   "cell_type": "markdown",
   "id": "30773e0b",
   "metadata": {},
   "source": [
    "### For All Columns"
   ]
  },
  {
   "cell_type": "code",
   "execution_count": 17,
   "id": "ef374f70",
   "metadata": {},
   "outputs": [
    {
     "data": {
      "text/html": [
       "<h3>Elbow Method: </h3>"
      ],
      "text/plain": [
       "<IPython.core.display.HTML object>"
      ]
     },
     "metadata": {},
     "output_type": "display_data"
    },
    {
     "data": {
      "image/png": "[encoded data removed]",
      "text/plain": [
       "<Figure size 640x480 with 1 Axes>"
      ]
     },
     "metadata": {},
     "output_type": "display_data"
    }
   ],
   "source": [
    "display(HTML(f\"<h3>Elbow Method: </h3>\"))\n",
    "k_values = range(1, 10)\n",
    "distortions = []\n",
    "for k in k_values:\n",
    "    kmeans = KMeans(n_clusters=k, init = 'k-means++', n_init=1)\n",
    "    kmeans.fit(X)\n",
    "    distortions.append(kmeans.inertia_)\n",
    "\n",
    "# Plot the elbow curve\n",
    "plt.plot(k_values, distortions, marker='o')\n",
    "plt.xlabel('Number of Clusters (K)')\n",
    "plt.ylabel('Distortion')\n",
    "plt.title('Elbow Method')\n",
    "plt.show()"
   ]
  },
  {
   "cell_type": "code",
   "execution_count": 18,
   "id": "1c8668f3",
   "metadata": {},
   "outputs": [],
   "source": [
    "sk_results_all = [pd.DataFrame() for i in range(len(kmeans_multiple_options))]\n",
    "sk_cluster_centers_all = {}\n",
    "silhouette_all = {}\n",
    "for i in range(len(kmeans_multiple_options)):\n",
    "    sklearn_kmeans = KMeans(**kmeans_multiple_options[i]).fit(X)\n",
    "    sk_results_all[i] = X.copy()\n",
    "    sk_results_all[i]['cluster_id'] = sklearn_kmeans.predict(X)\n",
    "    sk_cluster_centers_all[f'Run {i}'] = sklearn_kmeans.cluster_centers_.tolist()\n",
    "    silhouette_all[f'Run {i}'] = silhouette_score(X, sk_results_all[i].cluster_id)"
   ]
  },
  {
   "cell_type": "code",
   "execution_count": 19,
   "id": "fa40e5be",
   "metadata": {},
   "outputs": [
    {
     "data": {
      "text/html": [
       "<div>\n",
       "<style scoped>\n",
       "    .dataframe tbody tr th:only-of-type {\n",
       "        vertical-align: middle;\n",
       "    }\n",
       "\n",
       "    .dataframe tbody tr th {\n",
       "        vertical-align: top;\n",
       "    }\n",
       "\n",
       "    .dataframe thead th {\n",
       "        text-align: right;\n",
       "    }\n",
       "</style>\n",
       "<table border=\"1\" class=\"dataframe\">\n",
       "  <thead>\n",
       "    <tr style=\"text-align: right;\">\n",
       "      <th></th>\n",
       "      <th>sepal_length</th>\n",
       "      <th>sepal_width</th>\n",
       "      <th>petal_length</th>\n",
       "      <th>petal_width</th>\n",
       "      <th>cluster_id</th>\n",
       "    </tr>\n",
       "    <tr>\n",
       "      <th>pi</th>\n",
       "      <th></th>\n",
       "      <th></th>\n",
       "      <th></th>\n",
       "      <th></th>\n",
       "      <th></th>\n",
       "    </tr>\n",
       "  </thead>\n",
       "  <tbody>\n",
       "    <tr>\n",
       "      <th>76</th>\n",
       "      <td>1.159173</td>\n",
       "      <td>-0.592373</td>\n",
       "      <td>0.592246</td>\n",
       "      <td>0.264142</td>\n",
       "      <td>0</td>\n",
       "    </tr>\n",
       "    <tr>\n",
       "      <th>101</th>\n",
       "      <td>-0.052506</td>\n",
       "      <td>-0.822570</td>\n",
       "      <td>0.762758</td>\n",
       "      <td>0.922303</td>\n",
       "      <td>0</td>\n",
       "    </tr>\n",
       "    <tr>\n",
       "      <th>40</th>\n",
       "      <td>-1.021849</td>\n",
       "      <td>1.019004</td>\n",
       "      <td>-1.397064</td>\n",
       "      <td>-1.183812</td>\n",
       "      <td>1</td>\n",
       "    </tr>\n",
       "    <tr>\n",
       "      <th>122</th>\n",
       "      <td>2.249683</td>\n",
       "      <td>-0.592373</td>\n",
       "      <td>1.672157</td>\n",
       "      <td>1.053935</td>\n",
       "      <td>0</td>\n",
       "    </tr>\n",
       "    <tr>\n",
       "      <th>80</th>\n",
       "      <td>-0.416010</td>\n",
       "      <td>-1.513160</td>\n",
       "      <td>0.023872</td>\n",
       "      <td>-0.130755</td>\n",
       "      <td>0</td>\n",
       "    </tr>\n",
       "  </tbody>\n",
       "</table>\n",
       "</div>"
      ],
      "text/plain": [
       "     sepal_length  sepal_width  petal_length  petal_width  cluster_id\n",
       "pi                                                                   \n",
       "76       1.159173    -0.592373      0.592246     0.264142           0\n",
       "101     -0.052506    -0.822570      0.762758     0.922303           0\n",
       "40      -1.021849     1.019004     -1.397064    -1.183812           1\n",
       "122      2.249683    -0.592373      1.672157     1.053935           0\n",
       "80      -0.416010    -1.513160      0.023872    -0.130755           0"
      ]
     },
     "execution_count": 19,
     "metadata": {},
     "output_type": "execute_result"
    }
   ],
   "source": [
    "sk_results_all[0].head()"
   ]
  },
  {
   "cell_type": "code",
   "execution_count": 20,
   "id": "60dbcc74",
   "metadata": {},
   "outputs": [
    {
     "data": {
      "text/html": [
       "<h3>Silhouette Scores: </h3>"
      ],
      "text/plain": [
       "<IPython.core.display.HTML object>"
      ]
     },
     "metadata": {},
     "output_type": "display_data"
    },
    {
     "data": {
      "text/plain": [
       "{'Run 0': 0.5817500491982808,\n",
       " 'Run 1': 0.45994823920518646,\n",
       " 'Run 2': 0.38694104154427816,\n",
       " 'Run 3': 0.35316019854021224,\n",
       " 'Run 4': 0.34696953015575616,\n",
       " 'Run 5': 0.34086959305067116,\n",
       " 'Run 6': 0.3426312720765483}"
      ]
     },
     "metadata": {},
     "output_type": "display_data"
    }
   ],
   "source": [
    "display(HTML(f\"<h3>Silhouette Scores: </h3>\"))\n",
    "display(silhouette_all)"
   ]
  },
  {
   "cell_type": "code",
   "execution_count": 21,
   "id": "5b8b2459",
   "metadata": {},
   "outputs": [
    {
     "data": {
      "application/vnd.plotly.v1+json": {
       "config": {
        "plotlyServerURL": "https://plot.ly"
       },
       "data": [
        {
         "hovertext": [
          "Run 0: {'n_clusters': 2, 'init': 'k-means++', 'n_init': 1, 'max_iter': 300, 'tol': 0.0001, 'verbose': 0, 'random_state': None, 'copy_x': True, 'algorithm': 'lloyd'}",
          "Run 1: {'n_clusters': 3, 'init': 'k-means++', 'n_init': 1, 'max_iter': 300, 'tol': 0.0001, 'verbose': 0, 'random_state': None, 'copy_x': True, 'algorithm': 'lloyd'}",
          "Run 2: {'n_clusters': 4, 'init': 'k-means++', 'n_init': 1, 'max_iter': 300, 'tol': 0.0001, 'verbose': 0, 'random_state': None, 'copy_x': True, 'algorithm': 'lloyd'}",
          "Run 3: {'n_clusters': 5, 'init': 'k-means++', 'n_init': 1, 'max_iter': 300, 'tol': 0.0001, 'verbose': 0, 'random_state': None, 'copy_x': True, 'algorithm': 'lloyd'}",
          "Run 4: {'n_clusters': 6, 'init': 'k-means++', 'n_init': 1, 'max_iter': 300, 'tol': 0.0001, 'verbose': 0, 'random_state': None, 'copy_x': True, 'algorithm': 'lloyd'}",
          "Run 5: {'n_clusters': 7, 'init': 'k-means++', 'n_init': 1, 'max_iter': 300, 'tol': 0.0001, 'verbose': 0, 'random_state': None, 'copy_x': True, 'algorithm': 'lloyd'}",
          "Run 6: {'n_clusters': 8, 'init': 'k-means++', 'n_init': 1, 'max_iter': 300, 'tol': 0.0001, 'verbose': 0, 'random_state': None, 'copy_x': True, 'algorithm': 'lloyd'}"
         ],
         "type": "bar",
         "x": [
          "Run 0",
          "Run 1",
          "Run 2",
          "Run 3",
          "Run 4",
          "Run 5",
          "Run 6"
         ],
         "y": [
          0.5817500491982808,
          0.45994823920518646,
          0.38694104154427816,
          0.35316019854021224,
          0.34696953015575616,
          0.34086959305067116,
          0.3426312720765483
         ]
        }
       ],
       "layout": {
        "template": {
         "data": {
          "bar": [
           {
            "error_x": {
             "color": "#2a3f5f"
            },
            "error_y": {
             "color": "#2a3f5f"
            },
            "marker": {
             "line": {
              "color": "#E5ECF6",
              "width": 0.5
             },
             "pattern": {
              "fillmode": "overlay",
              "size": 10,
              "solidity": 0.2
             }
            },
            "type": "bar"
           }
          ],
          "barpolar": [
           {
            "marker": {
             "line": {
              "color": "#E5ECF6",
              "width": 0.5
             },
             "pattern": {
              "fillmode": "overlay",
              "size": 10,
              "solidity": 0.2
             }
            },
            "type": "barpolar"
           }
          ],
          "carpet": [
           {
            "aaxis": {
             "endlinecolor": "#2a3f5f",
             "gridcolor": "white",
             "linecolor": "white",
             "minorgridcolor": "white",
             "startlinecolor": "#2a3f5f"
            },
            "baxis": {
             "endlinecolor": "#2a3f5f",
             "gridcolor": "white",
             "linecolor": "white",
             "minorgridcolor": "white",
             "startlinecolor": "#2a3f5f"
            },
            "type": "carpet"
           }
          ],
          "choropleth": [
           {
            "colorbar": {
             "outlinewidth": 0,
             "ticks": ""
            },
            "type": "choropleth"
           }
          ],
          "contour": [
           {
            "colorbar": {
             "outlinewidth": 0,
             "ticks": ""
            },
            "colorscale": [
             [
              0,
              "#0d0887"
             ],
             [
              0.1111111111111111,
              "#46039f"
             ],
             [
              0.2222222222222222,
              "#7201a8"
             ],
             [
              0.3333333333333333,
              "#9c179e"
             ],
             [
              0.4444444444444444,
              "#bd3786"
             ],
             [
              0.5555555555555556,
              "#d8576b"
             ],
             [
              0.6666666666666666,
              "#ed7953"
             ],
             [
              0.7777777777777778,
              "#fb9f3a"
             ],
             [
              0.8888888888888888,
              "#fdca26"
             ],
             [
              1,
              "#f0f921"
             ]
            ],
            "type": "contour"
           }
          ],
          "contourcarpet": [
           {
            "colorbar": {
             "outlinewidth": 0,
             "ticks": ""
            },
            "type": "contourcarpet"
           }
          ],
          "heatmap": [
           {
            "colorbar": {
             "outlinewidth": 0,
             "ticks": ""
            },
            "colorscale": [
             [
              0,
              "#0d0887"
             ],
             [
              0.1111111111111111,
              "#46039f"
             ],
             [
              0.2222222222222222,
              "#7201a8"
             ],
             [
              0.3333333333333333,
              "#9c179e"
             ],
             [
              0.4444444444444444,
              "#bd3786"
             ],
             [
              0.5555555555555556,
              "#d8576b"
             ],
             [
              0.6666666666666666,
              "#ed7953"
             ],
             [
              0.7777777777777778,
              "#fb9f3a"
             ],
             [
              0.8888888888888888,
              "#fdca26"
             ],
             [
              1,
              "#f0f921"
             ]
            ],
            "type": "heatmap"
           }
          ],
          "heatmapgl": [
           {
            "colorbar": {
             "outlinewidth": 0,
             "ticks": ""
            },
            "colorscale": [
             [
              0,
              "#0d0887"
             ],
             [
              0.1111111111111111,
              "#46039f"
             ],
             [
              0.2222222222222222,
              "#7201a8"
             ],
             [
              0.3333333333333333,
              "#9c179e"
             ],
             [
              0.4444444444444444,
              "#bd3786"
             ],
             [
              0.5555555555555556,
              "#d8576b"
             ],
             [
              0.6666666666666666,
              "#ed7953"
             ],
             [
              0.7777777777777778,
              "#fb9f3a"
             ],
             [
              0.8888888888888888,
              "#fdca26"
             ],
             [
              1,
              "#f0f921"
             ]
            ],
            "type": "heatmapgl"
           }
          ],
          "histogram": [
           {
            "marker": {
             "pattern": {
              "fillmode": "overlay",
              "size": 10,
              "solidity": 0.2
             }
            },
            "type": "histogram"
           }
          ],
          "histogram2d": [
           {
            "colorbar": {
             "outlinewidth": 0,
             "ticks": ""
            },
            "colorscale": [
             [
              0,
              "#0d0887"
             ],
             [
              0.1111111111111111,
              "#46039f"
             ],
             [
              0.2222222222222222,
              "#7201a8"
             ],
             [
              0.3333333333333333,
              "#9c179e"
             ],
             [
              0.4444444444444444,
              "#bd3786"
             ],
             [
              0.5555555555555556,
              "#d8576b"
             ],
             [
              0.6666666666666666,
              "#ed7953"
             ],
             [
              0.7777777777777778,
              "#fb9f3a"
             ],
             [
              0.8888888888888888,
              "#fdca26"
             ],
             [
              1,
              "#f0f921"
             ]
            ],
            "type": "histogram2d"
           }
          ],
          "histogram2dcontour": [
           {
            "colorbar": {
             "outlinewidth": 0,
             "ticks": ""
            },
            "colorscale": [
             [
              0,
              "#0d0887"
             ],
             [
              0.1111111111111111,
              "#46039f"
             ],
             [
              0.2222222222222222,
              "#7201a8"
             ],
             [
              0.3333333333333333,
              "#9c179e"
             ],
             [
              0.4444444444444444,
              "#bd3786"
             ],
             [
              0.5555555555555556,
              "#d8576b"
             ],
             [
              0.6666666666666666,
              "#ed7953"
             ],
             [
              0.7777777777777778,
              "#fb9f3a"
             ],
             [
              0.8888888888888888,
              "#fdca26"
             ],
             [
              1,
              "#f0f921"
             ]
            ],
            "type": "histogram2dcontour"
           }
          ],
          "mesh3d": [
           {
            "colorbar": {
             "outlinewidth": 0,
             "ticks": ""
            },
            "type": "mesh3d"
           }
          ],
          "parcoords": [
           {
            "line": {
             "colorbar": {
              "outlinewidth": 0,
              "ticks": ""
             }
            },
            "type": "parcoords"
           }
          ],
          "pie": [
           {
            "automargin": true,
            "type": "pie"
           }
          ],
          "scatter": [
           {
            "fillpattern": {
             "fillmode": "overlay",
             "size": 10,
             "solidity": 0.2
            },
            "type": "scatter"
           }
          ],
          "scatter3d": [
           {
            "line": {
             "colorbar": {
              "outlinewidth": 0,
              "ticks": ""
             }
            },
            "marker": {
             "colorbar": {
              "outlinewidth": 0,
              "ticks": ""
             }
            },
            "type": "scatter3d"
           }
          ],
          "scattercarpet": [
           {
            "marker": {
             "colorbar": {
              "outlinewidth": 0,
              "ticks": ""
             }
            },
            "type": "scattercarpet"
           }
          ],
          "scattergeo": [
           {
            "marker": {
             "colorbar": {
              "outlinewidth": 0,
              "ticks": ""
             }
            },
            "type": "scattergeo"
           }
          ],
          "scattergl": [
           {
            "marker": {
             "colorbar": {
              "outlinewidth": 0,
              "ticks": ""
             }
            },
            "type": "scattergl"
           }
          ],
          "scattermapbox": [
           {
            "marker": {
             "colorbar": {
              "outlinewidth": 0,
              "ticks": ""
             }
            },
            "type": "scattermapbox"
           }
          ],
          "scatterpolar": [
           {
            "marker": {
             "colorbar": {
              "outlinewidth": 0,
              "ticks": ""
             }
            },
            "type": "scatterpolar"
           }
          ],
          "scatterpolargl": [
           {
            "marker": {
             "colorbar": {
              "outlinewidth": 0,
              "ticks": ""
             }
            },
            "type": "scatterpolargl"
           }
          ],
          "scatterternary": [
           {
            "marker": {
             "colorbar": {
              "outlinewidth": 0,
              "ticks": ""
             }
            },
            "type": "scatterternary"
           }
          ],
          "surface": [
           {
            "colorbar": {
             "outlinewidth": 0,
             "ticks": ""
            },
            "colorscale": [
             [
              0,
              "#0d0887"
             ],
             [
              0.1111111111111111,
              "#46039f"
             ],
             [
              0.2222222222222222,
              "#7201a8"
             ],
             [
              0.3333333333333333,
              "#9c179e"
             ],
             [
              0.4444444444444444,
              "#bd3786"
             ],
             [
              0.5555555555555556,
              "#d8576b"
             ],
             [
              0.6666666666666666,
              "#ed7953"
             ],
             [
              0.7777777777777778,
              "#fb9f3a"
             ],
             [
              0.8888888888888888,
              "#fdca26"
             ],
             [
              1,
              "#f0f921"
             ]
            ],
            "type": "surface"
           }
          ],
          "table": [
           {
            "cells": {
             "fill": {
              "color": "#EBF0F8"
             },
             "line": {
              "color": "white"
             }
            },
            "header": {
             "fill": {
              "color": "#C8D4E3"
             },
             "line": {
              "color": "white"
             }
            },
            "type": "table"
           }
          ]
         },
         "layout": {
          "annotationdefaults": {
           "arrowcolor": "#2a3f5f",
           "arrowhead": 0,
           "arrowwidth": 1
          },
          "autotypenumbers": "strict",
          "coloraxis": {
           "colorbar": {
            "outlinewidth": 0,
            "ticks": ""
           }
          },
          "colorscale": {
           "diverging": [
            [
             0,
             "#8e0152"
            ],
            [
             0.1,
             "#c51b7d"
            ],
            [
             0.2,
             "#de77ae"
            ],
            [
             0.3,
             "#f1b6da"
            ],
            [
             0.4,
             "#fde0ef"
            ],
            [
             0.5,
             "#f7f7f7"
            ],
            [
             0.6,
             "#e6f5d0"
            ],
            [
             0.7,
             "#b8e186"
            ],
            [
             0.8,
             "#7fbc41"
            ],
            [
             0.9,
             "#4d9221"
            ],
            [
             1,
             "#276419"
            ]
           ],
           "sequential": [
            [
             0,
             "#0d0887"
            ],
            [
             0.1111111111111111,
             "#46039f"
            ],
            [
             0.2222222222222222,
             "#7201a8"
            ],
            [
             0.3333333333333333,
             "#9c179e"
            ],
            [
             0.4444444444444444,
             "#bd3786"
            ],
            [
             0.5555555555555556,
             "#d8576b"
            ],
            [
             0.6666666666666666,
             "#ed7953"
            ],
            [
             0.7777777777777778,
             "#fb9f3a"
            ],
            [
             0.8888888888888888,
             "#fdca26"
            ],
            [
             1,
             "#f0f921"
            ]
           ],
           "sequentialminus": [
            [
             0,
             "#0d0887"
            ],
            [
             0.1111111111111111,
             "#46039f"
            ],
            [
             0.2222222222222222,
             "#7201a8"
            ],
            [
             0.3333333333333333,
             "#9c179e"
            ],
            [
             0.4444444444444444,
             "#bd3786"
            ],
            [
             0.5555555555555556,
             "#d8576b"
            ],
            [
             0.6666666666666666,
             "#ed7953"
            ],
            [
             0.7777777777777778,
             "#fb9f3a"
            ],
            [
             0.8888888888888888,
             "#fdca26"
            ],
            [
             1,
             "#f0f921"
            ]
           ]
          },
          "colorway": [
           "#636efa",
           "#EF553B",
           "#00cc96",
           "#ab63fa",
           "#FFA15A",
           "#19d3f3",
           "#FF6692",
           "#B6E880",
           "#FF97FF",
           "#FECB52"
          ],
          "font": {
           "color": "#2a3f5f"
          },
          "geo": {
           "bgcolor": "white",
           "lakecolor": "white",
           "landcolor": "#E5ECF6",
           "showlakes": true,
           "showland": true,
           "subunitcolor": "white"
          },
          "hoverlabel": {
           "align": "left"
          },
          "hovermode": "closest",
          "mapbox": {
           "style": "light"
          },
          "paper_bgcolor": "white",
          "plot_bgcolor": "#E5ECF6",
          "polar": {
           "angularaxis": {
            "gridcolor": "white",
            "linecolor": "white",
            "ticks": ""
           },
           "bgcolor": "#E5ECF6",
           "radialaxis": {
            "gridcolor": "white",
            "linecolor": "white",
            "ticks": ""
           }
          },
          "scene": {
           "xaxis": {
            "backgroundcolor": "#E5ECF6",
            "gridcolor": "white",
            "gridwidth": 2,
            "linecolor": "white",
            "showbackground": true,
            "ticks": "",
            "zerolinecolor": "white"
           },
           "yaxis": {
            "backgroundcolor": "#E5ECF6",
            "gridcolor": "white",
            "gridwidth": 2,
            "linecolor": "white",
            "showbackground": true,
            "ticks": "",
            "zerolinecolor": "white"
           },
           "zaxis": {
            "backgroundcolor": "#E5ECF6",
            "gridcolor": "white",
            "gridwidth": 2,
            "linecolor": "white",
            "showbackground": true,
            "ticks": "",
            "zerolinecolor": "white"
           }
          },
          "shapedefaults": {
           "line": {
            "color": "#2a3f5f"
           }
          },
          "ternary": {
           "aaxis": {
            "gridcolor": "white",
            "linecolor": "white",
            "ticks": ""
           },
           "baxis": {
            "gridcolor": "white",
            "linecolor": "white",
            "ticks": ""
           },
           "bgcolor": "#E5ECF6",
           "caxis": {
            "gridcolor": "white",
            "linecolor": "white",
            "ticks": ""
           }
          },
          "title": {
           "x": 0.05
          },
          "xaxis": {
           "automargin": true,
           "gridcolor": "white",
           "linecolor": "white",
           "ticks": "",
           "title": {
            "standoff": 15
           },
           "zerolinecolor": "white",
           "zerolinewidth": 2
          },
          "yaxis": {
           "automargin": true,
           "gridcolor": "white",
           "linecolor": "white",
           "ticks": "",
           "title": {
            "standoff": 15
           },
           "zerolinecolor": "white",
           "zerolinewidth": 2
          }
         }
        },
        "title": {
         "text": "Silhouette Scores for Multiple Runs"
        },
        "xaxis": {
         "title": {
          "text": "Run"
         }
        },
        "yaxis": {
         "title": {
          "text": "Silhouette Score"
         }
        }
       }
      },
      "text/html": [
       "<div>                            <div id=\"9af36206-5f38-4989-b250-551d88ce4b12\" class=\"plotly-graph-div\" style=\"height:525px; width:100%;\"></div>            <script type=\"text/javascript\">                require([\"plotly\"], function(Plotly) {                    window.PLOTLYENV=window.PLOTLYENV || {};                                    if (document.getElementById(\"9af36206-5f38-4989-b250-551d88ce4b12\")) {                    Plotly.newPlot(                        \"9af36206-5f38-4989-b250-551d88ce4b12\",                        [{\"hovertext\":[\"Run 0: {'n_clusters': 2, 'init': 'k-means++', 'n_init': 1, 'max_iter': 300, 'tol': 0.0001, 'verbose': 0, 'random_state': None, 'copy_x': True, 'algorithm': 'lloyd'}\",\"Run 1: {'n_clusters': 3, 'init': 'k-means++', 'n_init': 1, 'max_iter': 300, 'tol': 0.0001, 'verbose': 0, 'random_state': None, 'copy_x': True, 'algorithm': 'lloyd'}\",\"Run 2: {'n_clusters': 4, 'init': 'k-means++', 'n_init': 1, 'max_iter': 300, 'tol': 0.0001, 'verbose': 0, 'random_state': None, 'copy_x': True, 'algorithm': 'lloyd'}\",\"Run 3: {'n_clusters': 5, 'init': 'k-means++', 'n_init': 1, 'max_iter': 300, 'tol': 0.0001, 'verbose': 0, 'random_state': None, 'copy_x': True, 'algorithm': 'lloyd'}\",\"Run 4: {'n_clusters': 6, 'init': 'k-means++', 'n_init': 1, 'max_iter': 300, 'tol': 0.0001, 'verbose': 0, 'random_state': None, 'copy_x': True, 'algorithm': 'lloyd'}\",\"Run 5: {'n_clusters': 7, 'init': 'k-means++', 'n_init': 1, 'max_iter': 300, 'tol': 0.0001, 'verbose': 0, 'random_state': None, 'copy_x': True, 'algorithm': 'lloyd'}\",\"Run 6: {'n_clusters': 8, 'init': 'k-means++', 'n_init': 1, 'max_iter': 300, 'tol': 0.0001, 'verbose': 0, 'random_state': None, 'copy_x': True, 'algorithm': 'lloyd'}\"],\"x\":[\"Run 0\",\"Run 1\",\"Run 2\",\"Run 3\",\"Run 4\",\"Run 5\",\"Run 6\"],\"y\":[0.5817500491982808,0.45994823920518646,0.38694104154427816,0.35316019854021224,0.34696953015575616,0.34086959305067116,0.3426312720765483],\"type\":\"bar\"}],                        {\"template\":{\"data\":{\"histogram2dcontour\":[{\"type\":\"histogram2dcontour\",\"colorbar\":{\"outlinewidth\":0,\"ticks\":\"\"},\"colorscale\":[[0.0,\"#0d0887\"],[0.1111111111111111,\"#46039f\"],[0.2222222222222222,\"#7201a8\"],[0.3333333333333333,\"#9c179e\"],[0.4444444444444444,\"#bd3786\"],[0.5555555555555556,\"#d8576b\"],[0.6666666666666666,\"#ed7953\"],[0.7777777777777778,\"#fb9f3a\"],[0.8888888888888888,\"#fdca26\"],[1.0,\"#f0f921\"]]}],\"choropleth\":[{\"type\":\"choropleth\",\"colorbar\":{\"outlinewidth\":0,\"ticks\":\"\"}}],\"histogram2d\":[{\"type\":\"histogram2d\",\"colorbar\":{\"outlinewidth\":0,\"ticks\":\"\"},\"colorscale\":[[0.0,\"#0d0887\"],[0.1111111111111111,\"#46039f\"],[0.2222222222222222,\"#7201a8\"],[0.3333333333333333,\"#9c179e\"],[0.4444444444444444,\"#bd3786\"],[0.5555555555555556,\"#d8576b\"],[0.6666666666666666,\"#ed7953\"],[0.7777777777777778,\"#fb9f3a\"],[0.8888888888888888,\"#fdca26\"],[1.0,\"#f0f921\"]]}],\"heatmap\":[{\"type\":\"heatmap\",\"colorbar\":{\"outlinewidth\":0,\"ticks\":\"\"},\"colorscale\":[[0.0,\"#0d0887\"],[0.1111111111111111,\"#46039f\"],[0.2222222222222222,\"#7201a8\"],[0.3333333333333333,\"#9c179e\"],[0.4444444444444444,\"#bd3786\"],[0.5555555555555556,\"#d8576b\"],[0.6666666666666666,\"#ed7953\"],[0.7777777777777778,\"#fb9f3a\"],[0.8888888888888888,\"#fdca26\"],[1.0,\"#f0f921\"]]}],\"heatmapgl\":[{\"type\":\"heatmapgl\",\"colorbar\":{\"outlinewidth\":0,\"ticks\":\"\"},\"colorscale\":[[0.0,\"#0d0887\"],[0.1111111111111111,\"#46039f\"],[0.2222222222222222,\"#7201a8\"],[0.3333333333333333,\"#9c179e\"],[0.4444444444444444,\"#bd3786\"],[0.5555555555555556,\"#d8576b\"],[0.6666666666666666,\"#ed7953\"],[0.7777777777777778,\"#fb9f3a\"],[0.8888888888888888,\"#fdca26\"],[1.0,\"#f0f921\"]]}],\"contourcarpet\":[{\"type\":\"contourcarpet\",\"colorbar\":{\"outlinewidth\":0,\"ticks\":\"\"}}],\"contour\":[{\"type\":\"contour\",\"colorbar\":{\"outlinewidth\":0,\"ticks\":\"\"},\"colorscale\":[[0.0,\"#0d0887\"],[0.1111111111111111,\"#46039f\"],[0.2222222222222222,\"#7201a8\"],[0.3333333333333333,\"#9c179e\"],[0.4444444444444444,\"#bd3786\"],[0.5555555555555556,\"#d8576b\"],[0.6666666666666666,\"#ed7953\"],[0.7777777777777778,\"#fb9f3a\"],[0.8888888888888888,\"#fdca26\"],[1.0,\"#f0f921\"]]}],\"surface\":[{\"type\":\"surface\",\"colorbar\":{\"outlinewidth\":0,\"ticks\":\"\"},\"colorscale\":[[0.0,\"#0d0887\"],[0.1111111111111111,\"#46039f\"],[0.2222222222222222,\"#7201a8\"],[0.3333333333333333,\"#9c179e\"],[0.4444444444444444,\"#bd3786\"],[0.5555555555555556,\"#d8576b\"],[0.6666666666666666,\"#ed7953\"],[0.7777777777777778,\"#fb9f3a\"],[0.8888888888888888,\"#fdca26\"],[1.0,\"#f0f921\"]]}],\"mesh3d\":[{\"type\":\"mesh3d\",\"colorbar\":{\"outlinewidth\":0,\"ticks\":\"\"}}],\"scatter\":[{\"fillpattern\":{\"fillmode\":\"overlay\",\"size\":10,\"solidity\":0.2},\"type\":\"scatter\"}],\"parcoords\":[{\"type\":\"parcoords\",\"line\":{\"colorbar\":{\"outlinewidth\":0,\"ticks\":\"\"}}}],\"scatterpolargl\":[{\"type\":\"scatterpolargl\",\"marker\":{\"colorbar\":{\"outlinewidth\":0,\"ticks\":\"\"}}}],\"bar\":[{\"error_x\":{\"color\":\"#2a3f5f\"},\"error_y\":{\"color\":\"#2a3f5f\"},\"marker\":{\"line\":{\"color\":\"#E5ECF6\",\"width\":0.5},\"pattern\":{\"fillmode\":\"overlay\",\"size\":10,\"solidity\":0.2}},\"type\":\"bar\"}],\"scattergeo\":[{\"type\":\"scattergeo\",\"marker\":{\"colorbar\":{\"outlinewidth\":0,\"ticks\":\"\"}}}],\"scatterpolar\":[{\"type\":\"scatterpolar\",\"marker\":{\"colorbar\":{\"outlinewidth\":0,\"ticks\":\"\"}}}],\"histogram\":[{\"marker\":{\"pattern\":{\"fillmode\":\"overlay\",\"size\":10,\"solidity\":0.2}},\"type\":\"histogram\"}],\"scattergl\":[{\"type\":\"scattergl\",\"marker\":{\"colorbar\":{\"outlinewidth\":0,\"ticks\":\"\"}}}],\"scatter3d\":[{\"type\":\"scatter3d\",\"line\":{\"colorbar\":{\"outlinewidth\":0,\"ticks\":\"\"}},\"marker\":{\"colorbar\":{\"outlinewidth\":0,\"ticks\":\"\"}}}],\"scattermapbox\":[{\"type\":\"scattermapbox\",\"marker\":{\"colorbar\":{\"outlinewidth\":0,\"ticks\":\"\"}}}],\"scatterternary\":[{\"type\":\"scatterternary\",\"marker\":{\"colorbar\":{\"outlinewidth\":0,\"ticks\":\"\"}}}],\"scattercarpet\":[{\"type\":\"scattercarpet\",\"marker\":{\"colorbar\":{\"outlinewidth\":0,\"ticks\":\"\"}}}],\"carpet\":[{\"aaxis\":{\"endlinecolor\":\"#2a3f5f\",\"gridcolor\":\"white\",\"linecolor\":\"white\",\"minorgridcolor\":\"white\",\"startlinecolor\":\"#2a3f5f\"},\"baxis\":{\"endlinecolor\":\"#2a3f5f\",\"gridcolor\":\"white\",\"linecolor\":\"white\",\"minorgridcolor\":\"white\",\"startlinecolor\":\"#2a3f5f\"},\"type\":\"carpet\"}],\"table\":[{\"cells\":{\"fill\":{\"color\":\"#EBF0F8\"},\"line\":{\"color\":\"white\"}},\"header\":{\"fill\":{\"color\":\"#C8D4E3\"},\"line\":{\"color\":\"white\"}},\"type\":\"table\"}],\"barpolar\":[{\"marker\":{\"line\":{\"color\":\"#E5ECF6\",\"width\":0.5},\"pattern\":{\"fillmode\":\"overlay\",\"size\":10,\"solidity\":0.2}},\"type\":\"barpolar\"}],\"pie\":[{\"automargin\":true,\"type\":\"pie\"}]},\"layout\":{\"autotypenumbers\":\"strict\",\"colorway\":[\"#636efa\",\"#EF553B\",\"#00cc96\",\"#ab63fa\",\"#FFA15A\",\"#19d3f3\",\"#FF6692\",\"#B6E880\",\"#FF97FF\",\"#FECB52\"],\"font\":{\"color\":\"#2a3f5f\"},\"hovermode\":\"closest\",\"hoverlabel\":{\"align\":\"left\"},\"paper_bgcolor\":\"white\",\"plot_bgcolor\":\"#E5ECF6\",\"polar\":{\"bgcolor\":\"#E5ECF6\",\"angularaxis\":{\"gridcolor\":\"white\",\"linecolor\":\"white\",\"ticks\":\"\"},\"radialaxis\":{\"gridcolor\":\"white\",\"linecolor\":\"white\",\"ticks\":\"\"}},\"ternary\":{\"bgcolor\":\"#E5ECF6\",\"aaxis\":{\"gridcolor\":\"white\",\"linecolor\":\"white\",\"ticks\":\"\"},\"baxis\":{\"gridcolor\":\"white\",\"linecolor\":\"white\",\"ticks\":\"\"},\"caxis\":{\"gridcolor\":\"white\",\"linecolor\":\"white\",\"ticks\":\"\"}},\"coloraxis\":{\"colorbar\":{\"outlinewidth\":0,\"ticks\":\"\"}},\"colorscale\":{\"sequential\":[[0.0,\"#0d0887\"],[0.1111111111111111,\"#46039f\"],[0.2222222222222222,\"#7201a8\"],[0.3333333333333333,\"#9c179e\"],[0.4444444444444444,\"#bd3786\"],[0.5555555555555556,\"#d8576b\"],[0.6666666666666666,\"#ed7953\"],[0.7777777777777778,\"#fb9f3a\"],[0.8888888888888888,\"#fdca26\"],[1.0,\"#f0f921\"]],\"sequentialminus\":[[0.0,\"#0d0887\"],[0.1111111111111111,\"#46039f\"],[0.2222222222222222,\"#7201a8\"],[0.3333333333333333,\"#9c179e\"],[0.4444444444444444,\"#bd3786\"],[0.5555555555555556,\"#d8576b\"],[0.6666666666666666,\"#ed7953\"],[0.7777777777777778,\"#fb9f3a\"],[0.8888888888888888,\"#fdca26\"],[1.0,\"#f0f921\"]],\"diverging\":[[0,\"#8e0152\"],[0.1,\"#c51b7d\"],[0.2,\"#de77ae\"],[0.3,\"#f1b6da\"],[0.4,\"#fde0ef\"],[0.5,\"#f7f7f7\"],[0.6,\"#e6f5d0\"],[0.7,\"#b8e186\"],[0.8,\"#7fbc41\"],[0.9,\"#4d9221\"],[1,\"#276419\"]]},\"xaxis\":{\"gridcolor\":\"white\",\"linecolor\":\"white\",\"ticks\":\"\",\"title\":{\"standoff\":15},\"zerolinecolor\":\"white\",\"automargin\":true,\"zerolinewidth\":2},\"yaxis\":{\"gridcolor\":\"white\",\"linecolor\":\"white\",\"ticks\":\"\",\"title\":{\"standoff\":15},\"zerolinecolor\":\"white\",\"automargin\":true,\"zerolinewidth\":2},\"scene\":{\"xaxis\":{\"backgroundcolor\":\"#E5ECF6\",\"gridcolor\":\"white\",\"linecolor\":\"white\",\"showbackground\":true,\"ticks\":\"\",\"zerolinecolor\":\"white\",\"gridwidth\":2},\"yaxis\":{\"backgroundcolor\":\"#E5ECF6\",\"gridcolor\":\"white\",\"linecolor\":\"white\",\"showbackground\":true,\"ticks\":\"\",\"zerolinecolor\":\"white\",\"gridwidth\":2},\"zaxis\":{\"backgroundcolor\":\"#E5ECF6\",\"gridcolor\":\"white\",\"linecolor\":\"white\",\"showbackground\":true,\"ticks\":\"\",\"zerolinecolor\":\"white\",\"gridwidth\":2}},\"shapedefaults\":{\"line\":{\"color\":\"#2a3f5f\"}},\"annotationdefaults\":{\"arrowcolor\":\"#2a3f5f\",\"arrowhead\":0,\"arrowwidth\":1},\"geo\":{\"bgcolor\":\"white\",\"landcolor\":\"#E5ECF6\",\"subunitcolor\":\"white\",\"showland\":true,\"showlakes\":true,\"lakecolor\":\"white\"},\"title\":{\"x\":0.05},\"mapbox\":{\"style\":\"light\"}}},\"title\":{\"text\":\"Silhouette Scores for Multiple Runs\"},\"xaxis\":{\"title\":{\"text\":\"Run\"}},\"yaxis\":{\"title\":{\"text\":\"Silhouette Score\"}}},                        {\"responsive\": true}                    ).then(function(){\n",
       "                            \n",
       "var gd = document.getElementById('9af36206-5f38-4989-b250-551d88ce4b12');\n",
       "var x = new MutationObserver(function (mutations, observer) {{\n",
       "        var display = window.getComputedStyle(gd).display;\n",
       "        if (!display || display === 'none') {{\n",
       "            console.log([gd, 'removed!']);\n",
       "            Plotly.purge(gd);\n",
       "            observer.disconnect();\n",
       "        }}\n",
       "}});\n",
       "\n",
       "// Listen for the removal of the full notebook cells\n",
       "var notebookContainer = gd.closest('#notebook-container');\n",
       "if (notebookContainer) {{\n",
       "    x.observe(notebookContainer, {childList: true});\n",
       "}}\n",
       "\n",
       "// Listen for the clearing of the current output cell\n",
       "var outputEl = gd.closest('.output');\n",
       "if (outputEl) {{\n",
       "    x.observe(outputEl, {childList: true});\n",
       "}}\n",
       "\n",
       "                        })                };                });            </script>        </div>"
      ]
     },
     "metadata": {},
     "output_type": "display_data"
    }
   ],
   "source": [
    "run_names = list(silhouette_all.keys())\n",
    "scores = list(silhouette_all.values())\n",
    "run_details = [f\"Run {i}: {kmeans_multiple_options[i]}\" for i in range(len(kmeans_multiple_options))]\n",
    "\n",
    "\n",
    "fig = go.Figure(data=go.Bar(x=run_names, y=scores, hovertext=run_details))\n",
    "fig.update_layout(title='Silhouette Scores for Multiple Runs',\n",
    "                  xaxis_title='Run',\n",
    "                  yaxis_title='Silhouette Score')\n",
    "\n",
    "# Show the interactive graph\n",
    "fig.show()"
   ]
  },
  {
   "cell_type": "markdown",
   "id": "4e9c8430",
   "metadata": {},
   "source": [
    "## TD KMeans \n",
    "\n",
    "from [TD_KMeans:Syntax](https://teradata-pe.atlassian.net/wiki/spaces/SQLEA/pages/26806435/TD+KMeans#TD_KMeans-Section4.Signature)\n",
    "\n",
    "    SELECT * FROM TD_KMeans (\n",
    "    ON { table | view | (query) } as InputTable\n",
    "    [ ON { table | view | (query) } as InitialCentroidsTable DIMENSION ]\n",
    "    [ OUT [ PERMANENT | VOLATILE ] TABLE ModelTable(model_output_table_name) ]\n",
    "    USING\n",
    "    IdColumn('id_column')\n",
    "    TargetColumns({'target_column'|'target_column_range'}[,...])\n",
    "    [ InitialCentroidsMethod({'random'|'kmeans++'}) ]\n",
    "    [ NumClusters(number_of_clusters) ]\n",
    "    [ Seed(seed_value) ]\n",
    "    [ StopThreshold(threshold_value) ]\n",
    "    [ MaxIterNum(number_of_iterations) ]\n",
    "    [ NumInit(num_init) ]\n",
    "    [ OutputClusterAssignment({'true'|'t'|'yes'|'y'|'1'|'false'|'f'|'no'|'n'|'0'}) ]\n",
    "    ) as alias;"
   ]
  },
  {
   "cell_type": "code",
   "execution_count": 22,
   "id": "859589ee",
   "metadata": {},
   "outputs": [
    {
     "data": {
      "text/html": [
       "<h3>Model Options:</h3>"
      ],
      "text/plain": [
       "<IPython.core.display.HTML object>"
      ]
     },
     "metadata": {},
     "output_type": "display_data"
    },
    {
     "data": {
      "text/plain": [
       "{'InitialCentroidsMethod': 'kmeans++',\n",
       " 'NumClusters': [2, 3, 4, 5, 6, 7],\n",
       " 'MaxIterNum': 10,\n",
       " 'Seed': 42,\n",
       " 'StopThreshold': 0.0395,\n",
       " 'NumInit': 1,\n",
       " 'output_table': 'kmeans_iris',\n",
       " 'fit_input_table': 'iris',\n",
       " 'predict_input_table': 'iris'}"
      ]
     },
     "metadata": {},
     "output_type": "display_data"
    },
    {
     "data": {
      "text/html": [
       "<b>This will result in 6 combinations being tested.</b>"
      ],
      "text/plain": [
       "<IPython.core.display.HTML object>"
      ]
     },
     "metadata": {},
     "output_type": "display_data"
    }
   ],
   "source": [
    "td_options = {'InitialCentroidsMethod': 'kmeans++',\n",
    "             'NumClusters': [2,3,4,5,6,7],\n",
    "             'MaxIterNum': 10,\n",
    "             'Seed': 42,\n",
    "             'StopThreshold': 0.0395,\n",
    "             'NumInit': 1,\n",
    "             'output_table': 'kmeans_iris',\n",
    "             'fit_input_table': 'iris',\n",
    "             'predict_input_table':'iris'\n",
    "             }\n",
    "\n",
    "display(HTML(\"<h3>Model Options:</h3>\"))\n",
    "display(td_options)\n",
    "variable_options = [\n",
    "    c for c in td_options.keys() if isinstance(td_options[c], list)\n",
    "]\n",
    "ncombinations = np.prod([len(td_options[k]) for k in variable_options])\n",
    "display(HTML(f\"<b>This will result in {ncombinations} combinations being tested.</b>\"))"
   ]
  },
  {
   "cell_type": "markdown",
   "id": "04bcdeca",
   "metadata": {},
   "source": [
    "### For Important Columns"
   ]
  },
  {
   "cell_type": "code",
   "execution_count": 23,
   "id": "70f8e510",
   "metadata": {
    "scrolled": false
   },
   "outputs": [
    {
     "name": "stdout",
     "output_type": "stream",
     "text": [
      "TD_KMeans Fit, Predict and Sillhouette Calculation Successful for All Iterations in 0.874 secs\n"
     ]
    }
   ],
   "source": [
    "tdkmeans = Teradata_KMeans()\n",
    "tdkmeans.td_kmeans(conn, pd.Index(imp_cols), td_options)"
   ]
  },
  {
   "cell_type": "code",
   "execution_count": 24,
   "id": "86647cb9",
   "metadata": {
    "scrolled": false
   },
   "outputs": [
    {
     "data": {
      "text/html": [
       "<h2>First Iteration</h2>"
      ],
      "text/plain": [
       "<IPython.core.display.HTML object>"
      ]
     },
     "metadata": {},
     "output_type": "display_data"
    },
    {
     "name": "stdout",
     "output_type": "stream",
     "text": [
      "Fit Query\n",
      "----------------------------------------------------------------------------------------------------\n",
      "\n",
      "    CREATE MULTISET VOLATILE TABLE kmeans_iris AS(\n",
      "    SELECT * FROM TD_KMeans(\n",
      "        ON iris AS InputTable\n",
      "        USING\n",
      "        IdColumn('id')\n",
      "        TargetColumns('sepal_width', 'sepal_length')\n",
      "        InitialCentroidsMethod('kmeans++')\n",
      "        NumClusters(2)\n",
      "        Seed(42)\n",
      "        StopThreshold(0.0395)\n",
      "        MaxIterNum(10)\n",
      "        NumInit(1)\n",
      "    ) AS dt\n",
      "    ) WITH DATA ON COMMIT PRESERVE ROWS;\n",
      "\n",
      "\n",
      "Predict Query\n",
      "----------------------------------------------------------------------------------------------------\n",
      "\n",
      "    CREATE MULTISET VOLATILE TABLE kmeans_results AS (\n",
      "    SELECT * FROM TD_KMeansPredict ( \n",
      "    ON iris as InputTable\n",
      "    ON kmeans_iris as ModelTable DIMENSION\n",
      "    USING\n",
      "    OutputDistance('True')\n",
      "    Accumulate('sepal_width', 'sepal_length')\n",
      "    ) as dt\n",
      "    ) WITH DATA ON COMMIT PRESERVE ROWS;\n",
      "\n",
      "\n",
      "----------------------------------------------------------------------------------------------------\n",
      "Model Table\n"
     ]
    },
    {
     "data": {
      "text/html": [
       "<div>\n",
       "<style scoped>\n",
       "    .dataframe tbody tr th:only-of-type {\n",
       "        vertical-align: middle;\n",
       "    }\n",
       "\n",
       "    .dataframe tbody tr th {\n",
       "        vertical-align: top;\n",
       "    }\n",
       "\n",
       "    .dataframe thead th {\n",
       "        text-align: right;\n",
       "    }\n",
       "</style>\n",
       "<table border=\"1\" class=\"dataframe\">\n",
       "  <thead>\n",
       "    <tr style=\"text-align: right;\">\n",
       "      <th></th>\n",
       "      <th>td_clusterid_kmeans</th>\n",
       "      <th>sepal_width</th>\n",
       "      <th>sepal_length</th>\n",
       "      <th>td_size_kmeans</th>\n",
       "      <th>td_withinss_kmeans</th>\n",
       "      <th>id</th>\n",
       "      <th>td_modelinfo_kmeans</th>\n",
       "    </tr>\n",
       "  </thead>\n",
       "  <tbody>\n",
       "    <tr>\n",
       "      <th>0</th>\n",
       "      <td>1.0</td>\n",
       "      <td>0.903906</td>\n",
       "      <td>-0.978229</td>\n",
       "      <td>50.0</td>\n",
       "      <td>40.390185</td>\n",
       "      <td>None</td>\n",
       "      <td>None</td>\n",
       "    </tr>\n",
       "    <tr>\n",
       "      <th>1</th>\n",
       "      <td>NaN</td>\n",
       "      <td>NaN</td>\n",
       "      <td>NaN</td>\n",
       "      <td>NaN</td>\n",
       "      <td>NaN</td>\n",
       "      <td>None</td>\n",
       "      <td>Number of Iterations : 5</td>\n",
       "    </tr>\n",
       "    <tr>\n",
       "      <th>2</th>\n",
       "      <td>NaN</td>\n",
       "      <td>NaN</td>\n",
       "      <td>NaN</td>\n",
       "      <td>NaN</td>\n",
       "      <td>NaN</td>\n",
       "      <td>None</td>\n",
       "      <td>Total_WithinSS : 1.66951709339345E+02</td>\n",
       "    </tr>\n",
       "    <tr>\n",
       "      <th>3</th>\n",
       "      <td>NaN</td>\n",
       "      <td>NaN</td>\n",
       "      <td>NaN</td>\n",
       "      <td>NaN</td>\n",
       "      <td>NaN</td>\n",
       "      <td>None</td>\n",
       "      <td>Between_SS : 1.33048290660655E+02</td>\n",
       "    </tr>\n",
       "    <tr>\n",
       "      <th>4</th>\n",
       "      <td>NaN</td>\n",
       "      <td>NaN</td>\n",
       "      <td>NaN</td>\n",
       "      <td>NaN</td>\n",
       "      <td>NaN</td>\n",
       "      <td>None</td>\n",
       "      <td>Method for InitialCentroids : KMeans++</td>\n",
       "    </tr>\n",
       "    <tr>\n",
       "      <th>5</th>\n",
       "      <td>NaN</td>\n",
       "      <td>NaN</td>\n",
       "      <td>NaN</td>\n",
       "      <td>NaN</td>\n",
       "      <td>NaN</td>\n",
       "      <td>None</td>\n",
       "      <td>Number of Clusters : 2</td>\n",
       "    </tr>\n",
       "    <tr>\n",
       "      <th>6</th>\n",
       "      <td>NaN</td>\n",
       "      <td>NaN</td>\n",
       "      <td>NaN</td>\n",
       "      <td>NaN</td>\n",
       "      <td>NaN</td>\n",
       "      <td>None</td>\n",
       "      <td>Converged : True</td>\n",
       "    </tr>\n",
       "    <tr>\n",
       "      <th>7</th>\n",
       "      <td>0.0</td>\n",
       "      <td>-0.451953</td>\n",
       "      <td>0.489114</td>\n",
       "      <td>100.0</td>\n",
       "      <td>126.561524</td>\n",
       "      <td>None</td>\n",
       "      <td>None</td>\n",
       "    </tr>\n",
       "  </tbody>\n",
       "</table>\n",
       "</div>"
      ],
      "text/plain": [
       "   td_clusterid_kmeans  sepal_width  sepal_length  td_size_kmeans   \n",
       "0                  1.0     0.903906     -0.978229            50.0  \\\n",
       "1                  NaN          NaN           NaN             NaN   \n",
       "2                  NaN          NaN           NaN             NaN   \n",
       "3                  NaN          NaN           NaN             NaN   \n",
       "4                  NaN          NaN           NaN             NaN   \n",
       "5                  NaN          NaN           NaN             NaN   \n",
       "6                  NaN          NaN           NaN             NaN   \n",
       "7                  0.0    -0.451953      0.489114           100.0   \n",
       "\n",
       "   td_withinss_kmeans    id                     td_modelinfo_kmeans  \n",
       "0           40.390185  None                                    None  \n",
       "1                 NaN  None                Number of Iterations : 5  \n",
       "2                 NaN  None   Total_WithinSS : 1.66951709339345E+02  \n",
       "3                 NaN  None       Between_SS : 1.33048290660655E+02  \n",
       "4                 NaN  None  Method for InitialCentroids : KMeans++  \n",
       "5                 NaN  None                  Number of Clusters : 2  \n",
       "6                 NaN  None                        Converged : True  \n",
       "7          126.561524  None                                    None  "
      ]
     },
     "execution_count": 24,
     "metadata": {},
     "output_type": "execute_result"
    }
   ],
   "source": [
    "display(HTML(\"<h2>First Iteration</h2>\"))\n",
    "print('Fit Query')\n",
    "print(100*'-')\n",
    "print(custom_functions_queries.query.render(**tdkmeans.option_dicts[0], target_col_list = tdkmeans.target_col_list))\n",
    "print('\\n')\n",
    "print('Predict Query')\n",
    "print(100*'-')\n",
    "print(custom_functions_queries.predict_query.render(**tdkmeans.option_dicts[0], target_col_list = tdkmeans.target_col_list))\n",
    "print('\\n')\n",
    "print(100*'-')\n",
    "print('Model Table')\n",
    "tdkmeans.model_tables[0].sort_index()"
   ]
  },
  {
   "cell_type": "code",
   "execution_count": 25,
   "id": "fbd6b76c",
   "metadata": {},
   "outputs": [],
   "source": [
    "#preparing the tdresults obtained to work with plots\n",
    "tdk_cluster_centers_imp = {}\n",
    "for i in range(len(tdkmeans.option_dicts)):\n",
    "    tdkmeans.results_tables[i] = tdkmeans.results_tables[i].rename(columns={'td_clusterid_kmeans':'cluster_id'})\n",
    "    tdk_cluster_centers_imp[f'Run {i}'] = sorted(tdkmeans.model_tables[i][[\"td_clusterid_kmeans\"]+imp_cols].dropna().values.tolist(), key = lambda x: x[0])\n",
    "    tdk_cluster_centers_imp[f'Run {i}'] = [row[1:] for row in tdk_cluster_centers_imp[f'Run {i}']]"
   ]
  },
  {
   "cell_type": "code",
   "execution_count": 26,
   "id": "e1ef5e25",
   "metadata": {},
   "outputs": [
    {
     "data": {
      "text/html": [
       "<h1>TD_KMeans Clusters for All Runs</h1>"
      ],
      "text/plain": [
       "<IPython.core.display.HTML object>"
      ]
     },
     "metadata": {},
     "output_type": "display_data"
    },
    {
     "data": {
      "application/vnd.jupyter.widget-view+json": {
       "model_id": "961cb3f088b845aaadffd7272cfe3fee",
       "version_major": 2,
       "version_minor": 0
      },
      "text/plain": [
       "interactive(children=(Dropdown(description='Run', options=(0, 1, 2, 3, 4, 5), value=0), Output()), _dom_classe…"
      ]
     },
     "metadata": {},
     "output_type": "display_data"
    }
   ],
   "source": [
    "from custom_plots import imp_interactive_plot\n",
    "display(HTML(\"<h1>TD_KMeans Clusters for All Runs</h1>\"))\n",
    "imp_interactive_plot(tdkmeans.results_tables, tdk_cluster_centers_imp, imp_cols)"
   ]
  },
  {
   "cell_type": "markdown",
   "id": "2341442c",
   "metadata": {},
   "source": [
    "### For All Columns"
   ]
  },
  {
   "cell_type": "code",
   "execution_count": 27,
   "id": "5abd3187",
   "metadata": {
    "scrolled": false
   },
   "outputs": [
    {
     "name": "stdout",
     "output_type": "stream",
     "text": [
      "TD_KMeans Fit, Predict and Sillhouette Calculation Successful for All Iterations in 0.648 secs\n"
     ]
    }
   ],
   "source": [
    "tdkmeans_all = Teradata_KMeans()\n",
    "tdkmeans_all.td_kmeans(conn, feature_cols, td_options)"
   ]
  },
  {
   "cell_type": "code",
   "execution_count": 28,
   "id": "27234aa4",
   "metadata": {},
   "outputs": [
    {
     "data": {
      "text/html": [
       "<h2>First Iteration</h2>"
      ],
      "text/plain": [
       "<IPython.core.display.HTML object>"
      ]
     },
     "metadata": {},
     "output_type": "display_data"
    },
    {
     "name": "stdout",
     "output_type": "stream",
     "text": [
      "Fit Query\n",
      "----------------------------------------------------------------------------------------------------\n",
      "\n",
      "    CREATE MULTISET VOLATILE TABLE kmeans_iris AS(\n",
      "    SELECT * FROM TD_KMeans(\n",
      "        ON iris AS InputTable\n",
      "        USING\n",
      "        IdColumn('id')\n",
      "        TargetColumns('sepal_length', 'sepal_width', 'petal_length', 'petal_width')\n",
      "        InitialCentroidsMethod('kmeans++')\n",
      "        NumClusters(2)\n",
      "        Seed(42)\n",
      "        StopThreshold(0.0395)\n",
      "        MaxIterNum(10)\n",
      "        NumInit(1)\n",
      "    ) AS dt\n",
      "    ) WITH DATA ON COMMIT PRESERVE ROWS;\n",
      "\n",
      "\n",
      "Predict Query\n",
      "----------------------------------------------------------------------------------------------------\n",
      "\n",
      "    CREATE MULTISET VOLATILE TABLE kmeans_results AS (\n",
      "    SELECT * FROM TD_KMeansPredict ( \n",
      "    ON iris as InputTable\n",
      "    ON kmeans_iris as ModelTable DIMENSION\n",
      "    USING\n",
      "    OutputDistance('True')\n",
      "    Accumulate('sepal_length', 'sepal_width', 'petal_length', 'petal_width')\n",
      "    ) as dt\n",
      "    ) WITH DATA ON COMMIT PRESERVE ROWS;\n",
      "\n",
      "\n",
      "----------------------------------------------------------------------------------------------------\n",
      "Model Table\n"
     ]
    },
    {
     "data": {
      "text/html": [
       "<div>\n",
       "<style scoped>\n",
       "    .dataframe tbody tr th:only-of-type {\n",
       "        vertical-align: middle;\n",
       "    }\n",
       "\n",
       "    .dataframe tbody tr th {\n",
       "        vertical-align: top;\n",
       "    }\n",
       "\n",
       "    .dataframe thead th {\n",
       "        text-align: right;\n",
       "    }\n",
       "</style>\n",
       "<table border=\"1\" class=\"dataframe\">\n",
       "  <thead>\n",
       "    <tr style=\"text-align: right;\">\n",
       "      <th></th>\n",
       "      <th>td_clusterid_kmeans</th>\n",
       "      <th>sepal_length</th>\n",
       "      <th>sepal_width</th>\n",
       "      <th>petal_length</th>\n",
       "      <th>petal_width</th>\n",
       "      <th>td_size_kmeans</th>\n",
       "      <th>td_withinss_kmeans</th>\n",
       "      <th>id</th>\n",
       "      <th>td_modelinfo_kmeans</th>\n",
       "    </tr>\n",
       "  </thead>\n",
       "  <tbody>\n",
       "    <tr>\n",
       "      <th>0</th>\n",
       "      <td>1.0</td>\n",
       "      <td>-1.014579</td>\n",
       "      <td>0.853263</td>\n",
       "      <td>-1.304987</td>\n",
       "      <td>-1.254893</td>\n",
       "      <td>50.0</td>\n",
       "      <td>47.668411</td>\n",
       "      <td>None</td>\n",
       "      <td>None</td>\n",
       "    </tr>\n",
       "    <tr>\n",
       "      <th>1</th>\n",
       "      <td>NaN</td>\n",
       "      <td>NaN</td>\n",
       "      <td>NaN</td>\n",
       "      <td>NaN</td>\n",
       "      <td>NaN</td>\n",
       "      <td>NaN</td>\n",
       "      <td>NaN</td>\n",
       "      <td>None</td>\n",
       "      <td>Number of Iterations : 4</td>\n",
       "    </tr>\n",
       "    <tr>\n",
       "      <th>2</th>\n",
       "      <td>NaN</td>\n",
       "      <td>NaN</td>\n",
       "      <td>NaN</td>\n",
       "      <td>NaN</td>\n",
       "      <td>NaN</td>\n",
       "      <td>NaN</td>\n",
       "      <td>NaN</td>\n",
       "      <td>None</td>\n",
       "      <td>Total_WithinSS : 2.22361704965023E+02</td>\n",
       "    </tr>\n",
       "    <tr>\n",
       "      <th>3</th>\n",
       "      <td>NaN</td>\n",
       "      <td>NaN</td>\n",
       "      <td>NaN</td>\n",
       "      <td>NaN</td>\n",
       "      <td>NaN</td>\n",
       "      <td>NaN</td>\n",
       "      <td>NaN</td>\n",
       "      <td>None</td>\n",
       "      <td>Between_SS : 3.77638295034977E+02</td>\n",
       "    </tr>\n",
       "    <tr>\n",
       "      <th>4</th>\n",
       "      <td>NaN</td>\n",
       "      <td>NaN</td>\n",
       "      <td>NaN</td>\n",
       "      <td>NaN</td>\n",
       "      <td>NaN</td>\n",
       "      <td>NaN</td>\n",
       "      <td>NaN</td>\n",
       "      <td>None</td>\n",
       "      <td>Method for InitialCentroids : KMeans++</td>\n",
       "    </tr>\n",
       "    <tr>\n",
       "      <th>5</th>\n",
       "      <td>NaN</td>\n",
       "      <td>NaN</td>\n",
       "      <td>NaN</td>\n",
       "      <td>NaN</td>\n",
       "      <td>NaN</td>\n",
       "      <td>NaN</td>\n",
       "      <td>NaN</td>\n",
       "      <td>None</td>\n",
       "      <td>Number of Clusters : 2</td>\n",
       "    </tr>\n",
       "    <tr>\n",
       "      <th>6</th>\n",
       "      <td>NaN</td>\n",
       "      <td>NaN</td>\n",
       "      <td>NaN</td>\n",
       "      <td>NaN</td>\n",
       "      <td>NaN</td>\n",
       "      <td>NaN</td>\n",
       "      <td>NaN</td>\n",
       "      <td>None</td>\n",
       "      <td>Converged : True</td>\n",
       "    </tr>\n",
       "    <tr>\n",
       "      <th>7</th>\n",
       "      <td>0.0</td>\n",
       "      <td>0.507289</td>\n",
       "      <td>-0.426631</td>\n",
       "      <td>0.652494</td>\n",
       "      <td>0.627447</td>\n",
       "      <td>100.0</td>\n",
       "      <td>174.693294</td>\n",
       "      <td>None</td>\n",
       "      <td>None</td>\n",
       "    </tr>\n",
       "  </tbody>\n",
       "</table>\n",
       "</div>"
      ],
      "text/plain": [
       "   td_clusterid_kmeans  sepal_length  sepal_width  petal_length  petal_width   \n",
       "0                  1.0     -1.014579     0.853263     -1.304987    -1.254893  \\\n",
       "1                  NaN           NaN          NaN           NaN          NaN   \n",
       "2                  NaN           NaN          NaN           NaN          NaN   \n",
       "3                  NaN           NaN          NaN           NaN          NaN   \n",
       "4                  NaN           NaN          NaN           NaN          NaN   \n",
       "5                  NaN           NaN          NaN           NaN          NaN   \n",
       "6                  NaN           NaN          NaN           NaN          NaN   \n",
       "7                  0.0      0.507289    -0.426631      0.652494     0.627447   \n",
       "\n",
       "   td_size_kmeans  td_withinss_kmeans    id   \n",
       "0            50.0           47.668411  None  \\\n",
       "1             NaN                 NaN  None   \n",
       "2             NaN                 NaN  None   \n",
       "3             NaN                 NaN  None   \n",
       "4             NaN                 NaN  None   \n",
       "5             NaN                 NaN  None   \n",
       "6             NaN                 NaN  None   \n",
       "7           100.0          174.693294  None   \n",
       "\n",
       "                      td_modelinfo_kmeans  \n",
       "0                                    None  \n",
       "1                Number of Iterations : 4  \n",
       "2   Total_WithinSS : 2.22361704965023E+02  \n",
       "3       Between_SS : 3.77638295034977E+02  \n",
       "4  Method for InitialCentroids : KMeans++  \n",
       "5                  Number of Clusters : 2  \n",
       "6                        Converged : True  \n",
       "7                                    None  "
      ]
     },
     "execution_count": 28,
     "metadata": {},
     "output_type": "execute_result"
    }
   ],
   "source": [
    "display(HTML(\"<h2>First Iteration</h2>\"))\n",
    "print('Fit Query')\n",
    "print(100*'-')\n",
    "print(custom_functions_queries.query.render(**tdkmeans_all.option_dicts[0], target_col_list = tdkmeans_all.target_col_list))\n",
    "print('\\n')\n",
    "print('Predict Query')\n",
    "print(100*'-')\n",
    "print(custom_functions_queries.predict_query.render(**tdkmeans_all.option_dicts[0], target_col_list = tdkmeans_all.target_col_list))\n",
    "print('\\n')\n",
    "print(100*'-')\n",
    "print('Model Table')\n",
    "tdkmeans_all.model_tables[0].sort_index()"
   ]
  },
  {
   "cell_type": "code",
   "execution_count": 29,
   "id": "c9b93c1e",
   "metadata": {},
   "outputs": [
    {
     "data": {
      "text/html": [
       "<h3>Silhouette Scores: </h3>"
      ],
      "text/plain": [
       "<IPython.core.display.HTML object>"
      ]
     },
     "metadata": {},
     "output_type": "display_data"
    },
    {
     "data": {
      "text/plain": [
       "{'Run 0': 0.5817500491982808,\n",
       " 'Run 1': 0.4734674296398449,\n",
       " 'Run 2': 0.4188923398171004,\n",
       " 'Run 3': 0.41451382932660846,\n",
       " 'Run 4': 0.36286119699458974,\n",
       " 'Run 5': 0.3155063513357689}"
      ]
     },
     "metadata": {},
     "output_type": "display_data"
    }
   ],
   "source": [
    "display(HTML(f\"<h3>Silhouette Scores: </h3>\"))\n",
    "display(tdkmeans_all.silhouette_scores)"
   ]
  },
  {
   "cell_type": "code",
   "execution_count": 30,
   "id": "6b33a0bf",
   "metadata": {},
   "outputs": [
    {
     "data": {
      "application/vnd.plotly.v1+json": {
       "config": {
        "plotlyServerURL": "https://plot.ly"
       },
       "data": [
        {
         "hovertext": [
          "Run 0: {'InitialCentroidsMethod': 'kmeans++', 'NumClusters': 2, 'MaxIterNum': 10, 'Seed': 42, 'StopThreshold': 0.0395, 'NumInit': 1, 'output_table': 'kmeans_iris', 'fit_input_table': 'iris', 'predict_input_table': 'iris'}",
          "Run 1: {'InitialCentroidsMethod': 'kmeans++', 'NumClusters': 3, 'MaxIterNum': 10, 'Seed': 42, 'StopThreshold': 0.0395, 'NumInit': 1, 'output_table': 'kmeans_iris', 'fit_input_table': 'iris', 'predict_input_table': 'iris'}",
          "Run 2: {'InitialCentroidsMethod': 'kmeans++', 'NumClusters': 4, 'MaxIterNum': 10, 'Seed': 42, 'StopThreshold': 0.0395, 'NumInit': 1, 'output_table': 'kmeans_iris', 'fit_input_table': 'iris', 'predict_input_table': 'iris'}",
          "Run 3: {'InitialCentroidsMethod': 'kmeans++', 'NumClusters': 5, 'MaxIterNum': 10, 'Seed': 42, 'StopThreshold': 0.0395, 'NumInit': 1, 'output_table': 'kmeans_iris', 'fit_input_table': 'iris', 'predict_input_table': 'iris'}",
          "Run 4: {'InitialCentroidsMethod': 'kmeans++', 'NumClusters': 6, 'MaxIterNum': 10, 'Seed': 42, 'StopThreshold': 0.0395, 'NumInit': 1, 'output_table': 'kmeans_iris', 'fit_input_table': 'iris', 'predict_input_table': 'iris'}",
          "Run 5: {'InitialCentroidsMethod': 'kmeans++', 'NumClusters': 7, 'MaxIterNum': 10, 'Seed': 42, 'StopThreshold': 0.0395, 'NumInit': 1, 'output_table': 'kmeans_iris', 'fit_input_table': 'iris', 'predict_input_table': 'iris'}"
         ],
         "type": "bar",
         "x": [
          "Run 0",
          "Run 1",
          "Run 2",
          "Run 3",
          "Run 4",
          "Run 5"
         ],
         "y": [
          0.5817500491982808,
          0.4734674296398449,
          0.4188923398171004,
          0.41451382932660846,
          0.36286119699458974,
          0.3155063513357689
         ]
        }
       ],
       "layout": {
        "template": {
         "data": {
          "bar": [
           {
            "error_x": {
             "color": "#2a3f5f"
            },
            "error_y": {
             "color": "#2a3f5f"
            },
            "marker": {
             "line": {
              "color": "#E5ECF6",
              "width": 0.5
             },
             "pattern": {
              "fillmode": "overlay",
              "size": 10,
              "solidity": 0.2
             }
            },
            "type": "bar"
           }
          ],
          "barpolar": [
           {
            "marker": {
             "line": {
              "color": "#E5ECF6",
              "width": 0.5
             },
             "pattern": {
              "fillmode": "overlay",
              "size": 10,
              "solidity": 0.2
             }
            },
            "type": "barpolar"
           }
          ],
          "carpet": [
           {
            "aaxis": {
             "endlinecolor": "#2a3f5f",
             "gridcolor": "white",
             "linecolor": "white",
             "minorgridcolor": "white",
             "startlinecolor": "#2a3f5f"
            },
            "baxis": {
             "endlinecolor": "#2a3f5f",
             "gridcolor": "white",
             "linecolor": "white",
             "minorgridcolor": "white",
             "startlinecolor": "#2a3f5f"
            },
            "type": "carpet"
           }
          ],
          "choropleth": [
           {
            "colorbar": {
             "outlinewidth": 0,
             "ticks": ""
            },
            "type": "choropleth"
           }
          ],
          "contour": [
           {
            "colorbar": {
             "outlinewidth": 0,
             "ticks": ""
            },
            "colorscale": [
             [
              0,
              "#0d0887"
             ],
             [
              0.1111111111111111,
              "#46039f"
             ],
             [
              0.2222222222222222,
              "#7201a8"
             ],
             [
              0.3333333333333333,
              "#9c179e"
             ],
             [
              0.4444444444444444,
              "#bd3786"
             ],
             [
              0.5555555555555556,
              "#d8576b"
             ],
             [
              0.6666666666666666,
              "#ed7953"
             ],
             [
              0.7777777777777778,
              "#fb9f3a"
             ],
             [
              0.8888888888888888,
              "#fdca26"
             ],
             [
              1,
              "#f0f921"
             ]
            ],
            "type": "contour"
           }
          ],
          "contourcarpet": [
           {
            "colorbar": {
             "outlinewidth": 0,
             "ticks": ""
            },
            "type": "contourcarpet"
           }
          ],
          "heatmap": [
           {
            "colorbar": {
             "outlinewidth": 0,
             "ticks": ""
            },
            "colorscale": [
             [
              0,
              "#0d0887"
             ],
             [
              0.1111111111111111,
              "#46039f"
             ],
             [
              0.2222222222222222,
              "#7201a8"
             ],
             [
              0.3333333333333333,
              "#9c179e"
             ],
             [
              0.4444444444444444,
              "#bd3786"
             ],
             [
              0.5555555555555556,
              "#d8576b"
             ],
             [
              0.6666666666666666,
              "#ed7953"
             ],
             [
              0.7777777777777778,
              "#fb9f3a"
             ],
             [
              0.8888888888888888,
              "#fdca26"
             ],
             [
              1,
              "#f0f921"
             ]
            ],
            "type": "heatmap"
           }
          ],
          "heatmapgl": [
           {
            "colorbar": {
             "outlinewidth": 0,
             "ticks": ""
            },
            "colorscale": [
             [
              0,
              "#0d0887"
             ],
             [
              0.1111111111111111,
              "#46039f"
             ],
             [
              0.2222222222222222,
              "#7201a8"
             ],
             [
              0.3333333333333333,
              "#9c179e"
             ],
             [
              0.4444444444444444,
              "#bd3786"
             ],
             [
              0.5555555555555556,
              "#d8576b"
             ],
             [
              0.6666666666666666,
              "#ed7953"
             ],
             [
              0.7777777777777778,
              "#fb9f3a"
             ],
             [
              0.8888888888888888,
              "#fdca26"
             ],
             [
              1,
              "#f0f921"
             ]
            ],
            "type": "heatmapgl"
           }
          ],
          "histogram": [
           {
            "marker": {
             "pattern": {
              "fillmode": "overlay",
              "size": 10,
              "solidity": 0.2
             }
            },
            "type": "histogram"
           }
          ],
          "histogram2d": [
           {
            "colorbar": {
             "outlinewidth": 0,
             "ticks": ""
            },
            "colorscale": [
             [
              0,
              "#0d0887"
             ],
             [
              0.1111111111111111,
              "#46039f"
             ],
             [
              0.2222222222222222,
              "#7201a8"
             ],
             [
              0.3333333333333333,
              "#9c179e"
             ],
             [
              0.4444444444444444,
              "#bd3786"
             ],
             [
              0.5555555555555556,
              "#d8576b"
             ],
             [
              0.6666666666666666,
              "#ed7953"
             ],
             [
              0.7777777777777778,
              "#fb9f3a"
             ],
             [
              0.8888888888888888,
              "#fdca26"
             ],
             [
              1,
              "#f0f921"
             ]
            ],
            "type": "histogram2d"
           }
          ],
          "histogram2dcontour": [
           {
            "colorbar": {
             "outlinewidth": 0,
             "ticks": ""
            },
            "colorscale": [
             [
              0,
              "#0d0887"
             ],
             [
              0.1111111111111111,
              "#46039f"
             ],
             [
              0.2222222222222222,
              "#7201a8"
             ],
             [
              0.3333333333333333,
              "#9c179e"
             ],
             [
              0.4444444444444444,
              "#bd3786"
             ],
             [
              0.5555555555555556,
              "#d8576b"
             ],
             [
              0.6666666666666666,
              "#ed7953"
             ],
             [
              0.7777777777777778,
              "#fb9f3a"
             ],
             [
              0.8888888888888888,
              "#fdca26"
             ],
             [
              1,
              "#f0f921"
             ]
            ],
            "type": "histogram2dcontour"
           }
          ],
          "mesh3d": [
           {
            "colorbar": {
             "outlinewidth": 0,
             "ticks": ""
            },
            "type": "mesh3d"
           }
          ],
          "parcoords": [
           {
            "line": {
             "colorbar": {
              "outlinewidth": 0,
              "ticks": ""
             }
            },
            "type": "parcoords"
           }
          ],
          "pie": [
           {
            "automargin": true,
            "type": "pie"
           }
          ],
          "scatter": [
           {
            "fillpattern": {
             "fillmode": "overlay",
             "size": 10,
             "solidity": 0.2
            },
            "type": "scatter"
           }
          ],
          "scatter3d": [
           {
            "line": {
             "colorbar": {
              "outlinewidth": 0,
              "ticks": ""
             }
            },
            "marker": {
             "colorbar": {
              "outlinewidth": 0,
              "ticks": ""
             }
            },
            "type": "scatter3d"
           }
          ],
          "scattercarpet": [
           {
            "marker": {
             "colorbar": {
              "outlinewidth": 0,
              "ticks": ""
             }
            },
            "type": "scattercarpet"
           }
          ],
          "scattergeo": [
           {
            "marker": {
             "colorbar": {
              "outlinewidth": 0,
              "ticks": ""
             }
            },
            "type": "scattergeo"
           }
          ],
          "scattergl": [
           {
            "marker": {
             "colorbar": {
              "outlinewidth": 0,
              "ticks": ""
             }
            },
            "type": "scattergl"
           }
          ],
          "scattermapbox": [
           {
            "marker": {
             "colorbar": {
              "outlinewidth": 0,
              "ticks": ""
             }
            },
            "type": "scattermapbox"
           }
          ],
          "scatterpolar": [
           {
            "marker": {
             "colorbar": {
              "outlinewidth": 0,
              "ticks": ""
             }
            },
            "type": "scatterpolar"
           }
          ],
          "scatterpolargl": [
           {
            "marker": {
             "colorbar": {
              "outlinewidth": 0,
              "ticks": ""
             }
            },
            "type": "scatterpolargl"
           }
          ],
          "scatterternary": [
           {
            "marker": {
             "colorbar": {
              "outlinewidth": 0,
              "ticks": ""
             }
            },
            "type": "scatterternary"
           }
          ],
          "surface": [
           {
            "colorbar": {
             "outlinewidth": 0,
             "ticks": ""
            },
            "colorscale": [
             [
              0,
              "#0d0887"
             ],
             [
              0.1111111111111111,
              "#46039f"
             ],
             [
              0.2222222222222222,
              "#7201a8"
             ],
             [
              0.3333333333333333,
              "#9c179e"
             ],
             [
              0.4444444444444444,
              "#bd3786"
             ],
             [
              0.5555555555555556,
              "#d8576b"
             ],
             [
              0.6666666666666666,
              "#ed7953"
             ],
             [
              0.7777777777777778,
              "#fb9f3a"
             ],
             [
              0.8888888888888888,
              "#fdca26"
             ],
             [
              1,
              "#f0f921"
             ]
            ],
            "type": "surface"
           }
          ],
          "table": [
           {
            "cells": {
             "fill": {
              "color": "#EBF0F8"
             },
             "line": {
              "color": "white"
             }
            },
            "header": {
             "fill": {
              "color": "#C8D4E3"
             },
             "line": {
              "color": "white"
             }
            },
            "type": "table"
           }
          ]
         },
         "layout": {
          "annotationdefaults": {
           "arrowcolor": "#2a3f5f",
           "arrowhead": 0,
           "arrowwidth": 1
          },
          "autotypenumbers": "strict",
          "coloraxis": {
           "colorbar": {
            "outlinewidth": 0,
            "ticks": ""
           }
          },
          "colorscale": {
           "diverging": [
            [
             0,
             "#8e0152"
            ],
            [
             0.1,
             "#c51b7d"
            ],
            [
             0.2,
             "#de77ae"
            ],
            [
             0.3,
             "#f1b6da"
            ],
            [
             0.4,
             "#fde0ef"
            ],
            [
             0.5,
             "#f7f7f7"
            ],
            [
             0.6,
             "#e6f5d0"
            ],
            [
             0.7,
             "#b8e186"
            ],
            [
             0.8,
             "#7fbc41"
            ],
            [
             0.9,
             "#4d9221"
            ],
            [
             1,
             "#276419"
            ]
           ],
           "sequential": [
            [
             0,
             "#0d0887"
            ],
            [
             0.1111111111111111,
             "#46039f"
            ],
            [
             0.2222222222222222,
             "#7201a8"
            ],
            [
             0.3333333333333333,
             "#9c179e"
            ],
            [
             0.4444444444444444,
             "#bd3786"
            ],
            [
             0.5555555555555556,
             "#d8576b"
            ],
            [
             0.6666666666666666,
             "#ed7953"
            ],
            [
             0.7777777777777778,
             "#fb9f3a"
            ],
            [
             0.8888888888888888,
             "#fdca26"
            ],
            [
             1,
             "#f0f921"
            ]
           ],
           "sequentialminus": [
            [
             0,
             "#0d0887"
            ],
            [
             0.1111111111111111,
             "#46039f"
            ],
            [
             0.2222222222222222,
             "#7201a8"
            ],
            [
             0.3333333333333333,
             "#9c179e"
            ],
            [
             0.4444444444444444,
             "#bd3786"
            ],
            [
             0.5555555555555556,
             "#d8576b"
            ],
            [
             0.6666666666666666,
             "#ed7953"
            ],
            [
             0.7777777777777778,
             "#fb9f3a"
            ],
            [
             0.8888888888888888,
             "#fdca26"
            ],
            [
             1,
             "#f0f921"
            ]
           ]
          },
          "colorway": [
           "#636efa",
           "#EF553B",
           "#00cc96",
           "#ab63fa",
           "#FFA15A",
           "#19d3f3",
           "#FF6692",
           "#B6E880",
           "#FF97FF",
           "#FECB52"
          ],
          "font": {
           "color": "#2a3f5f"
          },
          "geo": {
           "bgcolor": "white",
           "lakecolor": "white",
           "landcolor": "#E5ECF6",
           "showlakes": true,
           "showland": true,
           "subunitcolor": "white"
          },
          "hoverlabel": {
           "align": "left"
          },
          "hovermode": "closest",
          "mapbox": {
           "style": "light"
          },
          "paper_bgcolor": "white",
          "plot_bgcolor": "#E5ECF6",
          "polar": {
           "angularaxis": {
            "gridcolor": "white",
            "linecolor": "white",
            "ticks": ""
           },
           "bgcolor": "#E5ECF6",
           "radialaxis": {
            "gridcolor": "white",
            "linecolor": "white",
            "ticks": ""
           }
          },
          "scene": {
           "xaxis": {
            "backgroundcolor": "#E5ECF6",
            "gridcolor": "white",
            "gridwidth": 2,
            "linecolor": "white",
            "showbackground": true,
            "ticks": "",
            "zerolinecolor": "white"
           },
           "yaxis": {
            "backgroundcolor": "#E5ECF6",
            "gridcolor": "white",
            "gridwidth": 2,
            "linecolor": "white",
            "showbackground": true,
            "ticks": "",
            "zerolinecolor": "white"
           },
           "zaxis": {
            "backgroundcolor": "#E5ECF6",
            "gridcolor": "white",
            "gridwidth": 2,
            "linecolor": "white",
            "showbackground": true,
            "ticks": "",
            "zerolinecolor": "white"
           }
          },
          "shapedefaults": {
           "line": {
            "color": "#2a3f5f"
           }
          },
          "ternary": {
           "aaxis": {
            "gridcolor": "white",
            "linecolor": "white",
            "ticks": ""
           },
           "baxis": {
            "gridcolor": "white",
            "linecolor": "white",
            "ticks": ""
           },
           "bgcolor": "#E5ECF6",
           "caxis": {
            "gridcolor": "white",
            "linecolor": "white",
            "ticks": ""
           }
          },
          "title": {
           "x": 0.05
          },
          "xaxis": {
           "automargin": true,
           "gridcolor": "white",
           "linecolor": "white",
           "ticks": "",
           "title": {
            "standoff": 15
           },
           "zerolinecolor": "white",
           "zerolinewidth": 2
          },
          "yaxis": {
           "automargin": true,
           "gridcolor": "white",
           "linecolor": "white",
           "ticks": "",
           "title": {
            "standoff": 15
           },
           "zerolinecolor": "white",
           "zerolinewidth": 2
          }
         }
        },
        "title": {
         "text": "Silhouette Scores for Multiple Runs"
        },
        "xaxis": {
         "title": {
          "text": "Run"
         }
        },
        "yaxis": {
         "title": {
          "text": "Silhouette Score"
         }
        }
       }
      },
      "text/html": [
       "<div>                            <div id=\"225aca6e-7a46-4ca9-810f-81ebdd55100c\" class=\"plotly-graph-div\" style=\"height:525px; width:100%;\"></div>            <script type=\"text/javascript\">                require([\"plotly\"], function(Plotly) {                    window.PLOTLYENV=window.PLOTLYENV || {};                                    if (document.getElementById(\"225aca6e-7a46-4ca9-810f-81ebdd55100c\")) {                    Plotly.newPlot(                        \"225aca6e-7a46-4ca9-810f-81ebdd55100c\",                        [{\"hovertext\":[\"Run 0: {'InitialCentroidsMethod': 'kmeans++', 'NumClusters': 2, 'MaxIterNum': 10, 'Seed': 42, 'StopThreshold': 0.0395, 'NumInit': 1, 'output_table': 'kmeans_iris', 'fit_input_table': 'iris', 'predict_input_table': 'iris'}\",\"Run 1: {'InitialCentroidsMethod': 'kmeans++', 'NumClusters': 3, 'MaxIterNum': 10, 'Seed': 42, 'StopThreshold': 0.0395, 'NumInit': 1, 'output_table': 'kmeans_iris', 'fit_input_table': 'iris', 'predict_input_table': 'iris'}\",\"Run 2: {'InitialCentroidsMethod': 'kmeans++', 'NumClusters': 4, 'MaxIterNum': 10, 'Seed': 42, 'StopThreshold': 0.0395, 'NumInit': 1, 'output_table': 'kmeans_iris', 'fit_input_table': 'iris', 'predict_input_table': 'iris'}\",\"Run 3: {'InitialCentroidsMethod': 'kmeans++', 'NumClusters': 5, 'MaxIterNum': 10, 'Seed': 42, 'StopThreshold': 0.0395, 'NumInit': 1, 'output_table': 'kmeans_iris', 'fit_input_table': 'iris', 'predict_input_table': 'iris'}\",\"Run 4: {'InitialCentroidsMethod': 'kmeans++', 'NumClusters': 6, 'MaxIterNum': 10, 'Seed': 42, 'StopThreshold': 0.0395, 'NumInit': 1, 'output_table': 'kmeans_iris', 'fit_input_table': 'iris', 'predict_input_table': 'iris'}\",\"Run 5: {'InitialCentroidsMethod': 'kmeans++', 'NumClusters': 7, 'MaxIterNum': 10, 'Seed': 42, 'StopThreshold': 0.0395, 'NumInit': 1, 'output_table': 'kmeans_iris', 'fit_input_table': 'iris', 'predict_input_table': 'iris'}\"],\"x\":[\"Run 0\",\"Run 1\",\"Run 2\",\"Run 3\",\"Run 4\",\"Run 5\"],\"y\":[0.5817500491982808,0.4734674296398449,0.4188923398171004,0.41451382932660846,0.36286119699458974,0.3155063513357689],\"type\":\"bar\"}],                        {\"template\":{\"data\":{\"histogram2dcontour\":[{\"type\":\"histogram2dcontour\",\"colorbar\":{\"outlinewidth\":0,\"ticks\":\"\"},\"colorscale\":[[0.0,\"#0d0887\"],[0.1111111111111111,\"#46039f\"],[0.2222222222222222,\"#7201a8\"],[0.3333333333333333,\"#9c179e\"],[0.4444444444444444,\"#bd3786\"],[0.5555555555555556,\"#d8576b\"],[0.6666666666666666,\"#ed7953\"],[0.7777777777777778,\"#fb9f3a\"],[0.8888888888888888,\"#fdca26\"],[1.0,\"#f0f921\"]]}],\"choropleth\":[{\"type\":\"choropleth\",\"colorbar\":{\"outlinewidth\":0,\"ticks\":\"\"}}],\"histogram2d\":[{\"type\":\"histogram2d\",\"colorbar\":{\"outlinewidth\":0,\"ticks\":\"\"},\"colorscale\":[[0.0,\"#0d0887\"],[0.1111111111111111,\"#46039f\"],[0.2222222222222222,\"#7201a8\"],[0.3333333333333333,\"#9c179e\"],[0.4444444444444444,\"#bd3786\"],[0.5555555555555556,\"#d8576b\"],[0.6666666666666666,\"#ed7953\"],[0.7777777777777778,\"#fb9f3a\"],[0.8888888888888888,\"#fdca26\"],[1.0,\"#f0f921\"]]}],\"heatmap\":[{\"type\":\"heatmap\",\"colorbar\":{\"outlinewidth\":0,\"ticks\":\"\"},\"colorscale\":[[0.0,\"#0d0887\"],[0.1111111111111111,\"#46039f\"],[0.2222222222222222,\"#7201a8\"],[0.3333333333333333,\"#9c179e\"],[0.4444444444444444,\"#bd3786\"],[0.5555555555555556,\"#d8576b\"],[0.6666666666666666,\"#ed7953\"],[0.7777777777777778,\"#fb9f3a\"],[0.8888888888888888,\"#fdca26\"],[1.0,\"#f0f921\"]]}],\"heatmapgl\":[{\"type\":\"heatmapgl\",\"colorbar\":{\"outlinewidth\":0,\"ticks\":\"\"},\"colorscale\":[[0.0,\"#0d0887\"],[0.1111111111111111,\"#46039f\"],[0.2222222222222222,\"#7201a8\"],[0.3333333333333333,\"#9c179e\"],[0.4444444444444444,\"#bd3786\"],[0.5555555555555556,\"#d8576b\"],[0.6666666666666666,\"#ed7953\"],[0.7777777777777778,\"#fb9f3a\"],[0.8888888888888888,\"#fdca26\"],[1.0,\"#f0f921\"]]}],\"contourcarpet\":[{\"type\":\"contourcarpet\",\"colorbar\":{\"outlinewidth\":0,\"ticks\":\"\"}}],\"contour\":[{\"type\":\"contour\",\"colorbar\":{\"outlinewidth\":0,\"ticks\":\"\"},\"colorscale\":[[0.0,\"#0d0887\"],[0.1111111111111111,\"#46039f\"],[0.2222222222222222,\"#7201a8\"],[0.3333333333333333,\"#9c179e\"],[0.4444444444444444,\"#bd3786\"],[0.5555555555555556,\"#d8576b\"],[0.6666666666666666,\"#ed7953\"],[0.7777777777777778,\"#fb9f3a\"],[0.8888888888888888,\"#fdca26\"],[1.0,\"#f0f921\"]]}],\"surface\":[{\"type\":\"surface\",\"colorbar\":{\"outlinewidth\":0,\"ticks\":\"\"},\"colorscale\":[[0.0,\"#0d0887\"],[0.1111111111111111,\"#46039f\"],[0.2222222222222222,\"#7201a8\"],[0.3333333333333333,\"#9c179e\"],[0.4444444444444444,\"#bd3786\"],[0.5555555555555556,\"#d8576b\"],[0.6666666666666666,\"#ed7953\"],[0.7777777777777778,\"#fb9f3a\"],[0.8888888888888888,\"#fdca26\"],[1.0,\"#f0f921\"]]}],\"mesh3d\":[{\"type\":\"mesh3d\",\"colorbar\":{\"outlinewidth\":0,\"ticks\":\"\"}}],\"scatter\":[{\"fillpattern\":{\"fillmode\":\"overlay\",\"size\":10,\"solidity\":0.2},\"type\":\"scatter\"}],\"parcoords\":[{\"type\":\"parcoords\",\"line\":{\"colorbar\":{\"outlinewidth\":0,\"ticks\":\"\"}}}],\"scatterpolargl\":[{\"type\":\"scatterpolargl\",\"marker\":{\"colorbar\":{\"outlinewidth\":0,\"ticks\":\"\"}}}],\"bar\":[{\"error_x\":{\"color\":\"#2a3f5f\"},\"error_y\":{\"color\":\"#2a3f5f\"},\"marker\":{\"line\":{\"color\":\"#E5ECF6\",\"width\":0.5},\"pattern\":{\"fillmode\":\"overlay\",\"size\":10,\"solidity\":0.2}},\"type\":\"bar\"}],\"scattergeo\":[{\"type\":\"scattergeo\",\"marker\":{\"colorbar\":{\"outlinewidth\":0,\"ticks\":\"\"}}}],\"scatterpolar\":[{\"type\":\"scatterpolar\",\"marker\":{\"colorbar\":{\"outlinewidth\":0,\"ticks\":\"\"}}}],\"histogram\":[{\"marker\":{\"pattern\":{\"fillmode\":\"overlay\",\"size\":10,\"solidity\":0.2}},\"type\":\"histogram\"}],\"scattergl\":[{\"type\":\"scattergl\",\"marker\":{\"colorbar\":{\"outlinewidth\":0,\"ticks\":\"\"}}}],\"scatter3d\":[{\"type\":\"scatter3d\",\"line\":{\"colorbar\":{\"outlinewidth\":0,\"ticks\":\"\"}},\"marker\":{\"colorbar\":{\"outlinewidth\":0,\"ticks\":\"\"}}}],\"scattermapbox\":[{\"type\":\"scattermapbox\",\"marker\":{\"colorbar\":{\"outlinewidth\":0,\"ticks\":\"\"}}}],\"scatterternary\":[{\"type\":\"scatterternary\",\"marker\":{\"colorbar\":{\"outlinewidth\":0,\"ticks\":\"\"}}}],\"scattercarpet\":[{\"type\":\"scattercarpet\",\"marker\":{\"colorbar\":{\"outlinewidth\":0,\"ticks\":\"\"}}}],\"carpet\":[{\"aaxis\":{\"endlinecolor\":\"#2a3f5f\",\"gridcolor\":\"white\",\"linecolor\":\"white\",\"minorgridcolor\":\"white\",\"startlinecolor\":\"#2a3f5f\"},\"baxis\":{\"endlinecolor\":\"#2a3f5f\",\"gridcolor\":\"white\",\"linecolor\":\"white\",\"minorgridcolor\":\"white\",\"startlinecolor\":\"#2a3f5f\"},\"type\":\"carpet\"}],\"table\":[{\"cells\":{\"fill\":{\"color\":\"#EBF0F8\"},\"line\":{\"color\":\"white\"}},\"header\":{\"fill\":{\"color\":\"#C8D4E3\"},\"line\":{\"color\":\"white\"}},\"type\":\"table\"}],\"barpolar\":[{\"marker\":{\"line\":{\"color\":\"#E5ECF6\",\"width\":0.5},\"pattern\":{\"fillmode\":\"overlay\",\"size\":10,\"solidity\":0.2}},\"type\":\"barpolar\"}],\"pie\":[{\"automargin\":true,\"type\":\"pie\"}]},\"layout\":{\"autotypenumbers\":\"strict\",\"colorway\":[\"#636efa\",\"#EF553B\",\"#00cc96\",\"#ab63fa\",\"#FFA15A\",\"#19d3f3\",\"#FF6692\",\"#B6E880\",\"#FF97FF\",\"#FECB52\"],\"font\":{\"color\":\"#2a3f5f\"},\"hovermode\":\"closest\",\"hoverlabel\":{\"align\":\"left\"},\"paper_bgcolor\":\"white\",\"plot_bgcolor\":\"#E5ECF6\",\"polar\":{\"bgcolor\":\"#E5ECF6\",\"angularaxis\":{\"gridcolor\":\"white\",\"linecolor\":\"white\",\"ticks\":\"\"},\"radialaxis\":{\"gridcolor\":\"white\",\"linecolor\":\"white\",\"ticks\":\"\"}},\"ternary\":{\"bgcolor\":\"#E5ECF6\",\"aaxis\":{\"gridcolor\":\"white\",\"linecolor\":\"white\",\"ticks\":\"\"},\"baxis\":{\"gridcolor\":\"white\",\"linecolor\":\"white\",\"ticks\":\"\"},\"caxis\":{\"gridcolor\":\"white\",\"linecolor\":\"white\",\"ticks\":\"\"}},\"coloraxis\":{\"colorbar\":{\"outlinewidth\":0,\"ticks\":\"\"}},\"colorscale\":{\"sequential\":[[0.0,\"#0d0887\"],[0.1111111111111111,\"#46039f\"],[0.2222222222222222,\"#7201a8\"],[0.3333333333333333,\"#9c179e\"],[0.4444444444444444,\"#bd3786\"],[0.5555555555555556,\"#d8576b\"],[0.6666666666666666,\"#ed7953\"],[0.7777777777777778,\"#fb9f3a\"],[0.8888888888888888,\"#fdca26\"],[1.0,\"#f0f921\"]],\"sequentialminus\":[[0.0,\"#0d0887\"],[0.1111111111111111,\"#46039f\"],[0.2222222222222222,\"#7201a8\"],[0.3333333333333333,\"#9c179e\"],[0.4444444444444444,\"#bd3786\"],[0.5555555555555556,\"#d8576b\"],[0.6666666666666666,\"#ed7953\"],[0.7777777777777778,\"#fb9f3a\"],[0.8888888888888888,\"#fdca26\"],[1.0,\"#f0f921\"]],\"diverging\":[[0,\"#8e0152\"],[0.1,\"#c51b7d\"],[0.2,\"#de77ae\"],[0.3,\"#f1b6da\"],[0.4,\"#fde0ef\"],[0.5,\"#f7f7f7\"],[0.6,\"#e6f5d0\"],[0.7,\"#b8e186\"],[0.8,\"#7fbc41\"],[0.9,\"#4d9221\"],[1,\"#276419\"]]},\"xaxis\":{\"gridcolor\":\"white\",\"linecolor\":\"white\",\"ticks\":\"\",\"title\":{\"standoff\":15},\"zerolinecolor\":\"white\",\"automargin\":true,\"zerolinewidth\":2},\"yaxis\":{\"gridcolor\":\"white\",\"linecolor\":\"white\",\"ticks\":\"\",\"title\":{\"standoff\":15},\"zerolinecolor\":\"white\",\"automargin\":true,\"zerolinewidth\":2},\"scene\":{\"xaxis\":{\"backgroundcolor\":\"#E5ECF6\",\"gridcolor\":\"white\",\"linecolor\":\"white\",\"showbackground\":true,\"ticks\":\"\",\"zerolinecolor\":\"white\",\"gridwidth\":2},\"yaxis\":{\"backgroundcolor\":\"#E5ECF6\",\"gridcolor\":\"white\",\"linecolor\":\"white\",\"showbackground\":true,\"ticks\":\"\",\"zerolinecolor\":\"white\",\"gridwidth\":2},\"zaxis\":{\"backgroundcolor\":\"#E5ECF6\",\"gridcolor\":\"white\",\"linecolor\":\"white\",\"showbackground\":true,\"ticks\":\"\",\"zerolinecolor\":\"white\",\"gridwidth\":2}},\"shapedefaults\":{\"line\":{\"color\":\"#2a3f5f\"}},\"annotationdefaults\":{\"arrowcolor\":\"#2a3f5f\",\"arrowhead\":0,\"arrowwidth\":1},\"geo\":{\"bgcolor\":\"white\",\"landcolor\":\"#E5ECF6\",\"subunitcolor\":\"white\",\"showland\":true,\"showlakes\":true,\"lakecolor\":\"white\"},\"title\":{\"x\":0.05},\"mapbox\":{\"style\":\"light\"}}},\"title\":{\"text\":\"Silhouette Scores for Multiple Runs\"},\"xaxis\":{\"title\":{\"text\":\"Run\"}},\"yaxis\":{\"title\":{\"text\":\"Silhouette Score\"}}},                        {\"responsive\": true}                    ).then(function(){\n",
       "                            \n",
       "var gd = document.getElementById('225aca6e-7a46-4ca9-810f-81ebdd55100c');\n",
       "var x = new MutationObserver(function (mutations, observer) {{\n",
       "        var display = window.getComputedStyle(gd).display;\n",
       "        if (!display || display === 'none') {{\n",
       "            console.log([gd, 'removed!']);\n",
       "            Plotly.purge(gd);\n",
       "            observer.disconnect();\n",
       "        }}\n",
       "}});\n",
       "\n",
       "// Listen for the removal of the full notebook cells\n",
       "var notebookContainer = gd.closest('#notebook-container');\n",
       "if (notebookContainer) {{\n",
       "    x.observe(notebookContainer, {childList: true});\n",
       "}}\n",
       "\n",
       "// Listen for the clearing of the current output cell\n",
       "var outputEl = gd.closest('.output');\n",
       "if (outputEl) {{\n",
       "    x.observe(outputEl, {childList: true});\n",
       "}}\n",
       "\n",
       "                        })                };                });            </script>        </div>"
      ]
     },
     "metadata": {},
     "output_type": "display_data"
    }
   ],
   "source": [
    "run_names = list(tdkmeans_all.silhouette_scores.keys())\n",
    "scores = list(tdkmeans_all.silhouette_scores.values())\n",
    "run_details = [f\"Run {i}: {tdkmeans_all.option_dicts[i]}\" for i in range(len(tdkmeans_all.option_dicts))]\n",
    "\n",
    "\n",
    "fig = go.Figure(data=go.Bar(x=run_names, y=scores, hovertext=run_details))\n",
    "fig.update_layout(title='Silhouette Scores for Multiple Runs',\n",
    "                  xaxis_title='Run',\n",
    "                  yaxis_title='Silhouette Score')\n",
    "\n",
    "# Show the interactive graph\n",
    "fig.show()"
   ]
  },
  {
   "cell_type": "code",
   "execution_count": 31,
   "id": "5167ea76",
   "metadata": {
    "scrolled": true
   },
   "outputs": [
    {
     "data": {
      "text/html": [
       "<h3>Options</h3>"
      ],
      "text/plain": [
       "<IPython.core.display.HTML object>"
      ]
     },
     "metadata": {},
     "output_type": "display_data"
    },
    {
     "data": {
      "text/html": [
       "<style type=\"text/css\">\n",
       "</style>\n",
       "<table id=\"T_1d2b6\">\n",
       "  <thead>\n",
       "    <tr>\n",
       "      <th id=\"T_1d2b6_level0_col0\" class=\"col_heading level0 col0\" >Options:</th>\n",
       "      <th id=\"T_1d2b6_level0_col1\" class=\"col_heading level0 col1\" >possible values</th>\n",
       "    </tr>\n",
       "  </thead>\n",
       "  <tbody>\n",
       "    <tr>\n",
       "      <td id=\"T_1d2b6_row0_col0\" class=\"data row0 col0\" >NumClusters</td>\n",
       "      <td id=\"T_1d2b6_row0_col1\" class=\"data row0 col1\" >[2, 3, 4, 5, 6, 7]</td>\n",
       "    </tr>\n",
       "  </tbody>\n",
       "</table>\n"
      ],
      "text/plain": [
       "<pandas.io.formats.style.Styler at 0x7f77d8781850>"
      ]
     },
     "metadata": {},
     "output_type": "display_data"
    }
   ],
   "source": [
    "display(HTML(\"<h3>Options</h3>\"))\n",
    "display(\n",
    "    pd.DataFrame(\n",
    "        {\n",
    "            \"Options:\": variable_options,\n",
    "            \"possible values\": [td_options[k] for k in variable_options],\n",
    "        }\n",
    "    ).style.hide()\n",
    ")"
   ]
  },
  {
   "cell_type": "markdown",
   "id": "59cc8f5e",
   "metadata": {},
   "source": [
    "## Comparing SKlearn KMeans and TD_KMeans Results"
   ]
  },
  {
   "cell_type": "markdown",
   "id": "86bc8033",
   "metadata": {},
   "source": [
    "### For Important Columns"
   ]
  },
  {
   "cell_type": "markdown",
   "id": "26e8c334",
   "metadata": {},
   "source": [
    "#### Comparision of Clusters based on options"
   ]
  },
  {
   "cell_type": "code",
   "execution_count": 32,
   "id": "26f8f0a2",
   "metadata": {},
   "outputs": [
    {
     "data": {
      "application/vnd.jupyter.widget-view+json": {
       "model_id": "48631a3d73094e48b0605b3acf0a6267",
       "version_major": 2,
       "version_minor": 0
      },
      "text/plain": [
       "interactive(children=(Dropdown(description='SkLearn Run', options=(0, 1, 2, 3, 4, 5, 6), value=0), Dropdown(de…"
      ]
     },
     "metadata": {},
     "output_type": "display_data"
    }
   ],
   "source": [
    "update_plot(sk_results, sk_cluster_centers, \n",
    "            tdkmeans.results_tables, tdk_cluster_centers_imp, \n",
    "            kmeans_multiple_options, tdkmeans.option_dicts, imp_cols)\n"
   ]
  },
  {
   "cell_type": "markdown",
   "id": "201fa8e7",
   "metadata": {},
   "source": [
    "### For All Columns"
   ]
  },
  {
   "cell_type": "markdown",
   "id": "16f2ae3e",
   "metadata": {},
   "source": [
    "#### Options with Silhouettes"
   ]
  },
  {
   "cell_type": "code",
   "execution_count": 33,
   "id": "e6c009ba",
   "metadata": {
    "scrolled": false
   },
   "outputs": [
    {
     "data": {
      "text/html": [
       "<h3>Sklearn: KMeans</h3>"
      ],
      "text/plain": [
       "<IPython.core.display.HTML object>"
      ]
     },
     "metadata": {},
     "output_type": "display_data"
    },
    {
     "data": {
      "application/vnd.jupyter.widget-view+json": {
       "model_id": "cbe051b8c91644a6b90ddee569741514",
       "version_major": 2,
       "version_minor": 0
      },
      "text/plain": [
       "QgridWidget(grid_options={'fullWidthRows': True, 'syncColumnCellResize': True, 'forceFitColumns': True, 'defau…"
      ]
     },
     "metadata": {},
     "output_type": "display_data"
    },
    {
     "data": {
      "text/html": [
       "<h3>TD_Kmeans</h3>"
      ],
      "text/plain": [
       "<IPython.core.display.HTML object>"
      ]
     },
     "metadata": {},
     "output_type": "display_data"
    },
    {
     "data": {
      "application/vnd.jupyter.widget-view+json": {
       "model_id": "6f1249cdf6a1407d8aa8ce4794532cf4",
       "version_major": 2,
       "version_minor": 0
      },
      "text/plain": [
       "QgridWidget(grid_options={'fullWidthRows': True, 'syncColumnCellResize': True, 'forceFitColumns': True, 'defau…"
      ]
     },
     "metadata": {},
     "output_type": "display_data"
    }
   ],
   "source": [
    "# Python KMeans\n",
    "display(HTML(\"<h3>Sklearn: KMeans</h3>\"))\n",
    "sk_kmeans_df = pd.DataFrame()\n",
    "for i in range(len(kmeans_multiple_options)):\n",
    "    sk_kmeans_df[f'Run {i}'] = pd.DataFrame.from_dict(kmeans_multiple_options[i], orient='index')\n",
    "sk_kmeans_results = pd.concat([sk_kmeans_df, pd.DataFrame(silhouette_all, index=[\"Silhouette\"]) ], ignore_index = False)\n",
    "display(qgrid.show_grid(sk_kmeans_results))\n",
    "\n",
    "# TD_Kmeans\n",
    "display(HTML(f\"<h3>TD_Kmeans</h3>\"))\n",
    "options_df = pd.DataFrame()\n",
    "for i in range(len(tdkmeans_all.option_dicts)):\n",
    "    options_df[f'Run {i}'] = pd.DataFrame.from_dict(tdkmeans_all.option_dicts[i], orient='index')\n",
    "td_kmeans_results = pd.concat([options_df, pd.DataFrame(tdkmeans_all.silhouette_scores, index=[\"Silhouette\"]) ], ignore_index = False)\n",
    "display(qgrid.show_grid(td_kmeans_results))"
   ]
  },
  {
   "cell_type": "markdown",
   "id": "784b877c",
   "metadata": {},
   "source": [
    "#### Silhouette Comparision Plot"
   ]
  },
  {
   "cell_type": "code",
   "execution_count": 34,
   "id": "a1920fea",
   "metadata": {},
   "outputs": [
    {
     "data": {
      "application/vnd.plotly.v1+json": {
       "config": {
        "plotlyServerURL": "https://plot.ly"
       },
       "data": [
        {
         "name": "SkLearn KMeans",
         "type": "bar",
         "x": [
          "Run 0",
          "Run 1",
          "Run 2",
          "Run 3",
          "Run 4",
          "Run 5",
          "Run 6"
         ],
         "xaxis": "x",
         "y": [
          0.5817500491982808,
          0.45994823920518646,
          0.38694104154427816,
          0.35316019854021224,
          0.34696953015575616,
          0.34086959305067116,
          0.3426312720765483
         ],
         "yaxis": "y"
        },
        {
         "name": "TD_KMeans",
         "type": "bar",
         "x": [
          "Run 0",
          "Run 1",
          "Run 2",
          "Run 3",
          "Run 4",
          "Run 5"
         ],
         "xaxis": "x2",
         "y": [
          0.5817500491982808,
          0.4734674296398449,
          0.4188923398171004,
          0.41451382932660846,
          0.36286119699458974,
          0.3155063513357689
         ],
         "yaxis": "y2"
        }
       ],
       "layout": {
        "annotations": [
         {
          "font": {
           "size": 16
          },
          "showarrow": false,
          "text": "SkLearn KMeans",
          "x": 0.225,
          "xanchor": "center",
          "xref": "paper",
          "y": 1,
          "yanchor": "bottom",
          "yref": "paper"
         },
         {
          "font": {
           "size": 16
          },
          "showarrow": false,
          "text": "TD_KMeans",
          "x": 0.775,
          "xanchor": "center",
          "xref": "paper",
          "y": 1,
          "yanchor": "bottom",
          "yref": "paper"
         }
        ],
        "height": 500,
        "template": {
         "data": {
          "bar": [
           {
            "error_x": {
             "color": "#2a3f5f"
            },
            "error_y": {
             "color": "#2a3f5f"
            },
            "marker": {
             "line": {
              "color": "#E5ECF6",
              "width": 0.5
             },
             "pattern": {
              "fillmode": "overlay",
              "size": 10,
              "solidity": 0.2
             }
            },
            "type": "bar"
           }
          ],
          "barpolar": [
           {
            "marker": {
             "line": {
              "color": "#E5ECF6",
              "width": 0.5
             },
             "pattern": {
              "fillmode": "overlay",
              "size": 10,
              "solidity": 0.2
             }
            },
            "type": "barpolar"
           }
          ],
          "carpet": [
           {
            "aaxis": {
             "endlinecolor": "#2a3f5f",
             "gridcolor": "white",
             "linecolor": "white",
             "minorgridcolor": "white",
             "startlinecolor": "#2a3f5f"
            },
            "baxis": {
             "endlinecolor": "#2a3f5f",
             "gridcolor": "white",
             "linecolor": "white",
             "minorgridcolor": "white",
             "startlinecolor": "#2a3f5f"
            },
            "type": "carpet"
           }
          ],
          "choropleth": [
           {
            "colorbar": {
             "outlinewidth": 0,
             "ticks": ""
            },
            "type": "choropleth"
           }
          ],
          "contour": [
           {
            "colorbar": {
             "outlinewidth": 0,
             "ticks": ""
            },
            "colorscale": [
             [
              0,
              "#0d0887"
             ],
             [
              0.1111111111111111,
              "#46039f"
             ],
             [
              0.2222222222222222,
              "#7201a8"
             ],
             [
              0.3333333333333333,
              "#9c179e"
             ],
             [
              0.4444444444444444,
              "#bd3786"
             ],
             [
              0.5555555555555556,
              "#d8576b"
             ],
             [
              0.6666666666666666,
              "#ed7953"
             ],
             [
              0.7777777777777778,
              "#fb9f3a"
             ],
             [
              0.8888888888888888,
              "#fdca26"
             ],
             [
              1,
              "#f0f921"
             ]
            ],
            "type": "contour"
           }
          ],
          "contourcarpet": [
           {
            "colorbar": {
             "outlinewidth": 0,
             "ticks": ""
            },
            "type": "contourcarpet"
           }
          ],
          "heatmap": [
           {
            "colorbar": {
             "outlinewidth": 0,
             "ticks": ""
            },
            "colorscale": [
             [
              0,
              "#0d0887"
             ],
             [
              0.1111111111111111,
              "#46039f"
             ],
             [
              0.2222222222222222,
              "#7201a8"
             ],
             [
              0.3333333333333333,
              "#9c179e"
             ],
             [
              0.4444444444444444,
              "#bd3786"
             ],
             [
              0.5555555555555556,
              "#d8576b"
             ],
             [
              0.6666666666666666,
              "#ed7953"
             ],
             [
              0.7777777777777778,
              "#fb9f3a"
             ],
             [
              0.8888888888888888,
              "#fdca26"
             ],
             [
              1,
              "#f0f921"
             ]
            ],
            "type": "heatmap"
           }
          ],
          "heatmapgl": [
           {
            "colorbar": {
             "outlinewidth": 0,
             "ticks": ""
            },
            "colorscale": [
             [
              0,
              "#0d0887"
             ],
             [
              0.1111111111111111,
              "#46039f"
             ],
             [
              0.2222222222222222,
              "#7201a8"
             ],
             [
              0.3333333333333333,
              "#9c179e"
             ],
             [
              0.4444444444444444,
              "#bd3786"
             ],
             [
              0.5555555555555556,
              "#d8576b"
             ],
             [
              0.6666666666666666,
              "#ed7953"
             ],
             [
              0.7777777777777778,
              "#fb9f3a"
             ],
             [
              0.8888888888888888,
              "#fdca26"
             ],
             [
              1,
              "#f0f921"
             ]
            ],
            "type": "heatmapgl"
           }
          ],
          "histogram": [
           {
            "marker": {
             "pattern": {
              "fillmode": "overlay",
              "size": 10,
              "solidity": 0.2
             }
            },
            "type": "histogram"
           }
          ],
          "histogram2d": [
           {
            "colorbar": {
             "outlinewidth": 0,
             "ticks": ""
            },
            "colorscale": [
             [
              0,
              "#0d0887"
             ],
             [
              0.1111111111111111,
              "#46039f"
             ],
             [
              0.2222222222222222,
              "#7201a8"
             ],
             [
              0.3333333333333333,
              "#9c179e"
             ],
             [
              0.4444444444444444,
              "#bd3786"
             ],
             [
              0.5555555555555556,
              "#d8576b"
             ],
             [
              0.6666666666666666,
              "#ed7953"
             ],
             [
              0.7777777777777778,
              "#fb9f3a"
             ],
             [
              0.8888888888888888,
              "#fdca26"
             ],
             [
              1,
              "#f0f921"
             ]
            ],
            "type": "histogram2d"
           }
          ],
          "histogram2dcontour": [
           {
            "colorbar": {
             "outlinewidth": 0,
             "ticks": ""
            },
            "colorscale": [
             [
              0,
              "#0d0887"
             ],
             [
              0.1111111111111111,
              "#46039f"
             ],
             [
              0.2222222222222222,
              "#7201a8"
             ],
             [
              0.3333333333333333,
              "#9c179e"
             ],
             [
              0.4444444444444444,
              "#bd3786"
             ],
             [
              0.5555555555555556,
              "#d8576b"
             ],
             [
              0.6666666666666666,
              "#ed7953"
             ],
             [
              0.7777777777777778,
              "#fb9f3a"
             ],
             [
              0.8888888888888888,
              "#fdca26"
             ],
             [
              1,
              "#f0f921"
             ]
            ],
            "type": "histogram2dcontour"
           }
          ],
          "mesh3d": [
           {
            "colorbar": {
             "outlinewidth": 0,
             "ticks": ""
            },
            "type": "mesh3d"
           }
          ],
          "parcoords": [
           {
            "line": {
             "colorbar": {
              "outlinewidth": 0,
              "ticks": ""
             }
            },
            "type": "parcoords"
           }
          ],
          "pie": [
           {
            "automargin": true,
            "type": "pie"
           }
          ],
          "scatter": [
           {
            "fillpattern": {
             "fillmode": "overlay",
             "size": 10,
             "solidity": 0.2
            },
            "type": "scatter"
           }
          ],
          "scatter3d": [
           {
            "line": {
             "colorbar": {
              "outlinewidth": 0,
              "ticks": ""
             }
            },
            "marker": {
             "colorbar": {
              "outlinewidth": 0,
              "ticks": ""
             }
            },
            "type": "scatter3d"
           }
          ],
          "scattercarpet": [
           {
            "marker": {
             "colorbar": {
              "outlinewidth": 0,
              "ticks": ""
             }
            },
            "type": "scattercarpet"
           }
          ],
          "scattergeo": [
           {
            "marker": {
             "colorbar": {
              "outlinewidth": 0,
              "ticks": ""
             }
            },
            "type": "scattergeo"
           }
          ],
          "scattergl": [
           {
            "marker": {
             "colorbar": {
              "outlinewidth": 0,
              "ticks": ""
             }
            },
            "type": "scattergl"
           }
          ],
          "scattermapbox": [
           {
            "marker": {
             "colorbar": {
              "outlinewidth": 0,
              "ticks": ""
             }
            },
            "type": "scattermapbox"
           }
          ],
          "scatterpolar": [
           {
            "marker": {
             "colorbar": {
              "outlinewidth": 0,
              "ticks": ""
             }
            },
            "type": "scatterpolar"
           }
          ],
          "scatterpolargl": [
           {
            "marker": {
             "colorbar": {
              "outlinewidth": 0,
              "ticks": ""
             }
            },
            "type": "scatterpolargl"
           }
          ],
          "scatterternary": [
           {
            "marker": {
             "colorbar": {
              "outlinewidth": 0,
              "ticks": ""
             }
            },
            "type": "scatterternary"
           }
          ],
          "surface": [
           {
            "colorbar": {
             "outlinewidth": 0,
             "ticks": ""
            },
            "colorscale": [
             [
              0,
              "#0d0887"
             ],
             [
              0.1111111111111111,
              "#46039f"
             ],
             [
              0.2222222222222222,
              "#7201a8"
             ],
             [
              0.3333333333333333,
              "#9c179e"
             ],
             [
              0.4444444444444444,
              "#bd3786"
             ],
             [
              0.5555555555555556,
              "#d8576b"
             ],
             [
              0.6666666666666666,
              "#ed7953"
             ],
             [
              0.7777777777777778,
              "#fb9f3a"
             ],
             [
              0.8888888888888888,
              "#fdca26"
             ],
             [
              1,
              "#f0f921"
             ]
            ],
            "type": "surface"
           }
          ],
          "table": [
           {
            "cells": {
             "fill": {
              "color": "#EBF0F8"
             },
             "line": {
              "color": "white"
             }
            },
            "header": {
             "fill": {
              "color": "#C8D4E3"
             },
             "line": {
              "color": "white"
             }
            },
            "type": "table"
           }
          ]
         },
         "layout": {
          "annotationdefaults": {
           "arrowcolor": "#2a3f5f",
           "arrowhead": 0,
           "arrowwidth": 1
          },
          "autotypenumbers": "strict",
          "coloraxis": {
           "colorbar": {
            "outlinewidth": 0,
            "ticks": ""
           }
          },
          "colorscale": {
           "diverging": [
            [
             0,
             "#8e0152"
            ],
            [
             0.1,
             "#c51b7d"
            ],
            [
             0.2,
             "#de77ae"
            ],
            [
             0.3,
             "#f1b6da"
            ],
            [
             0.4,
             "#fde0ef"
            ],
            [
             0.5,
             "#f7f7f7"
            ],
            [
             0.6,
             "#e6f5d0"
            ],
            [
             0.7,
             "#b8e186"
            ],
            [
             0.8,
             "#7fbc41"
            ],
            [
             0.9,
             "#4d9221"
            ],
            [
             1,
             "#276419"
            ]
           ],
           "sequential": [
            [
             0,
             "#0d0887"
            ],
            [
             0.1111111111111111,
             "#46039f"
            ],
            [
             0.2222222222222222,
             "#7201a8"
            ],
            [
             0.3333333333333333,
             "#9c179e"
            ],
            [
             0.4444444444444444,
             "#bd3786"
            ],
            [
             0.5555555555555556,
             "#d8576b"
            ],
            [
             0.6666666666666666,
             "#ed7953"
            ],
            [
             0.7777777777777778,
             "#fb9f3a"
            ],
            [
             0.8888888888888888,
             "#fdca26"
            ],
            [
             1,
             "#f0f921"
            ]
           ],
           "sequentialminus": [
            [
             0,
             "#0d0887"
            ],
            [
             0.1111111111111111,
             "#46039f"
            ],
            [
             0.2222222222222222,
             "#7201a8"
            ],
            [
             0.3333333333333333,
             "#9c179e"
            ],
            [
             0.4444444444444444,
             "#bd3786"
            ],
            [
             0.5555555555555556,
             "#d8576b"
            ],
            [
             0.6666666666666666,
             "#ed7953"
            ],
            [
             0.7777777777777778,
             "#fb9f3a"
            ],
            [
             0.8888888888888888,
             "#fdca26"
            ],
            [
             1,
             "#f0f921"
            ]
           ]
          },
          "colorway": [
           "#636efa",
           "#EF553B",
           "#00cc96",
           "#ab63fa",
           "#FFA15A",
           "#19d3f3",
           "#FF6692",
           "#B6E880",
           "#FF97FF",
           "#FECB52"
          ],
          "font": {
           "color": "#2a3f5f"
          },
          "geo": {
           "bgcolor": "white",
           "lakecolor": "white",
           "landcolor": "#E5ECF6",
           "showlakes": true,
           "showland": true,
           "subunitcolor": "white"
          },
          "hoverlabel": {
           "align": "left"
          },
          "hovermode": "closest",
          "mapbox": {
           "style": "light"
          },
          "paper_bgcolor": "white",
          "plot_bgcolor": "#E5ECF6",
          "polar": {
           "angularaxis": {
            "gridcolor": "white",
            "linecolor": "white",
            "ticks": ""
           },
           "bgcolor": "#E5ECF6",
           "radialaxis": {
            "gridcolor": "white",
            "linecolor": "white",
            "ticks": ""
           }
          },
          "scene": {
           "xaxis": {
            "backgroundcolor": "#E5ECF6",
            "gridcolor": "white",
            "gridwidth": 2,
            "linecolor": "white",
            "showbackground": true,
            "ticks": "",
            "zerolinecolor": "white"
           },
           "yaxis": {
            "backgroundcolor": "#E5ECF6",
            "gridcolor": "white",
            "gridwidth": 2,
            "linecolor": "white",
            "showbackground": true,
            "ticks": "",
            "zerolinecolor": "white"
           },
           "zaxis": {
            "backgroundcolor": "#E5ECF6",
            "gridcolor": "white",
            "gridwidth": 2,
            "linecolor": "white",
            "showbackground": true,
            "ticks": "",
            "zerolinecolor": "white"
           }
          },
          "shapedefaults": {
           "line": {
            "color": "#2a3f5f"
           }
          },
          "ternary": {
           "aaxis": {
            "gridcolor": "white",
            "linecolor": "white",
            "ticks": ""
           },
           "baxis": {
            "gridcolor": "white",
            "linecolor": "white",
            "ticks": ""
           },
           "bgcolor": "#E5ECF6",
           "caxis": {
            "gridcolor": "white",
            "linecolor": "white",
            "ticks": ""
           }
          },
          "title": {
           "x": 0.05
          },
          "xaxis": {
           "automargin": true,
           "gridcolor": "white",
           "linecolor": "white",
           "ticks": "",
           "title": {
            "standoff": 15
           },
           "zerolinecolor": "white",
           "zerolinewidth": 2
          },
          "yaxis": {
           "automargin": true,
           "gridcolor": "white",
           "linecolor": "white",
           "ticks": "",
           "title": {
            "standoff": 15
           },
           "zerolinecolor": "white",
           "zerolinewidth": 2
          }
         }
        },
        "title": {
         "text": "Silhouette Scores for Multiple Runs"
        },
        "width": 950,
        "xaxis": {
         "anchor": "y",
         "domain": [
          0,
          0.45
         ],
         "title": {
          "text": "Run"
         }
        },
        "xaxis2": {
         "anchor": "y2",
         "domain": [
          0.55,
          1
         ],
         "title": {
          "text": "Run"
         }
        },
        "yaxis": {
         "anchor": "x",
         "domain": [
          0,
          1
         ],
         "title": {
          "text": "Silhouette Score"
         }
        },
        "yaxis2": {
         "anchor": "x2",
         "domain": [
          0,
          1
         ],
         "title": {
          "text": "Silhouette Score"
         }
        }
       }
      },
      "text/html": [
       "<div>                            <div id=\"b9fb99b3-b91d-420d-bcab-5c26bfa7a7b4\" class=\"plotly-graph-div\" style=\"height:500px; width:950px;\"></div>            <script type=\"text/javascript\">                require([\"plotly\"], function(Plotly) {                    window.PLOTLYENV=window.PLOTLYENV || {};                                    if (document.getElementById(\"b9fb99b3-b91d-420d-bcab-5c26bfa7a7b4\")) {                    Plotly.newPlot(                        \"b9fb99b3-b91d-420d-bcab-5c26bfa7a7b4\",                        [{\"name\":\"SkLearn KMeans\",\"x\":[\"Run 0\",\"Run 1\",\"Run 2\",\"Run 3\",\"Run 4\",\"Run 5\",\"Run 6\"],\"y\":[0.5817500491982808,0.45994823920518646,0.38694104154427816,0.35316019854021224,0.34696953015575616,0.34086959305067116,0.3426312720765483],\"type\":\"bar\",\"xaxis\":\"x\",\"yaxis\":\"y\"},{\"name\":\"TD_KMeans\",\"x\":[\"Run 0\",\"Run 1\",\"Run 2\",\"Run 3\",\"Run 4\",\"Run 5\"],\"y\":[0.5817500491982808,0.4734674296398449,0.4188923398171004,0.41451382932660846,0.36286119699458974,0.3155063513357689],\"type\":\"bar\",\"xaxis\":\"x2\",\"yaxis\":\"y2\"}],                        {\"template\":{\"data\":{\"histogram2dcontour\":[{\"type\":\"histogram2dcontour\",\"colorbar\":{\"outlinewidth\":0,\"ticks\":\"\"},\"colorscale\":[[0.0,\"#0d0887\"],[0.1111111111111111,\"#46039f\"],[0.2222222222222222,\"#7201a8\"],[0.3333333333333333,\"#9c179e\"],[0.4444444444444444,\"#bd3786\"],[0.5555555555555556,\"#d8576b\"],[0.6666666666666666,\"#ed7953\"],[0.7777777777777778,\"#fb9f3a\"],[0.8888888888888888,\"#fdca26\"],[1.0,\"#f0f921\"]]}],\"choropleth\":[{\"type\":\"choropleth\",\"colorbar\":{\"outlinewidth\":0,\"ticks\":\"\"}}],\"histogram2d\":[{\"type\":\"histogram2d\",\"colorbar\":{\"outlinewidth\":0,\"ticks\":\"\"},\"colorscale\":[[0.0,\"#0d0887\"],[0.1111111111111111,\"#46039f\"],[0.2222222222222222,\"#7201a8\"],[0.3333333333333333,\"#9c179e\"],[0.4444444444444444,\"#bd3786\"],[0.5555555555555556,\"#d8576b\"],[0.6666666666666666,\"#ed7953\"],[0.7777777777777778,\"#fb9f3a\"],[0.8888888888888888,\"#fdca26\"],[1.0,\"#f0f921\"]]}],\"heatmap\":[{\"type\":\"heatmap\",\"colorbar\":{\"outlinewidth\":0,\"ticks\":\"\"},\"colorscale\":[[0.0,\"#0d0887\"],[0.1111111111111111,\"#46039f\"],[0.2222222222222222,\"#7201a8\"],[0.3333333333333333,\"#9c179e\"],[0.4444444444444444,\"#bd3786\"],[0.5555555555555556,\"#d8576b\"],[0.6666666666666666,\"#ed7953\"],[0.7777777777777778,\"#fb9f3a\"],[0.8888888888888888,\"#fdca26\"],[1.0,\"#f0f921\"]]}],\"heatmapgl\":[{\"type\":\"heatmapgl\",\"colorbar\":{\"outlinewidth\":0,\"ticks\":\"\"},\"colorscale\":[[0.0,\"#0d0887\"],[0.1111111111111111,\"#46039f\"],[0.2222222222222222,\"#7201a8\"],[0.3333333333333333,\"#9c179e\"],[0.4444444444444444,\"#bd3786\"],[0.5555555555555556,\"#d8576b\"],[0.6666666666666666,\"#ed7953\"],[0.7777777777777778,\"#fb9f3a\"],[0.8888888888888888,\"#fdca26\"],[1.0,\"#f0f921\"]]}],\"contourcarpet\":[{\"type\":\"contourcarpet\",\"colorbar\":{\"outlinewidth\":0,\"ticks\":\"\"}}],\"contour\":[{\"type\":\"contour\",\"colorbar\":{\"outlinewidth\":0,\"ticks\":\"\"},\"colorscale\":[[0.0,\"#0d0887\"],[0.1111111111111111,\"#46039f\"],[0.2222222222222222,\"#7201a8\"],[0.3333333333333333,\"#9c179e\"],[0.4444444444444444,\"#bd3786\"],[0.5555555555555556,\"#d8576b\"],[0.6666666666666666,\"#ed7953\"],[0.7777777777777778,\"#fb9f3a\"],[0.8888888888888888,\"#fdca26\"],[1.0,\"#f0f921\"]]}],\"surface\":[{\"type\":\"surface\",\"colorbar\":{\"outlinewidth\":0,\"ticks\":\"\"},\"colorscale\":[[0.0,\"#0d0887\"],[0.1111111111111111,\"#46039f\"],[0.2222222222222222,\"#7201a8\"],[0.3333333333333333,\"#9c179e\"],[0.4444444444444444,\"#bd3786\"],[0.5555555555555556,\"#d8576b\"],[0.6666666666666666,\"#ed7953\"],[0.7777777777777778,\"#fb9f3a\"],[0.8888888888888888,\"#fdca26\"],[1.0,\"#f0f921\"]]}],\"mesh3d\":[{\"type\":\"mesh3d\",\"colorbar\":{\"outlinewidth\":0,\"ticks\":\"\"}}],\"scatter\":[{\"fillpattern\":{\"fillmode\":\"overlay\",\"size\":10,\"solidity\":0.2},\"type\":\"scatter\"}],\"parcoords\":[{\"type\":\"parcoords\",\"line\":{\"colorbar\":{\"outlinewidth\":0,\"ticks\":\"\"}}}],\"scatterpolargl\":[{\"type\":\"scatterpolargl\",\"marker\":{\"colorbar\":{\"outlinewidth\":0,\"ticks\":\"\"}}}],\"bar\":[{\"error_x\":{\"color\":\"#2a3f5f\"},\"error_y\":{\"color\":\"#2a3f5f\"},\"marker\":{\"line\":{\"color\":\"#E5ECF6\",\"width\":0.5},\"pattern\":{\"fillmode\":\"overlay\",\"size\":10,\"solidity\":0.2}},\"type\":\"bar\"}],\"scattergeo\":[{\"type\":\"scattergeo\",\"marker\":{\"colorbar\":{\"outlinewidth\":0,\"ticks\":\"\"}}}],\"scatterpolar\":[{\"type\":\"scatterpolar\",\"marker\":{\"colorbar\":{\"outlinewidth\":0,\"ticks\":\"\"}}}],\"histogram\":[{\"marker\":{\"pattern\":{\"fillmode\":\"overlay\",\"size\":10,\"solidity\":0.2}},\"type\":\"histogram\"}],\"scattergl\":[{\"type\":\"scattergl\",\"marker\":{\"colorbar\":{\"outlinewidth\":0,\"ticks\":\"\"}}}],\"scatter3d\":[{\"type\":\"scatter3d\",\"line\":{\"colorbar\":{\"outlinewidth\":0,\"ticks\":\"\"}},\"marker\":{\"colorbar\":{\"outlinewidth\":0,\"ticks\":\"\"}}}],\"scattermapbox\":[{\"type\":\"scattermapbox\",\"marker\":{\"colorbar\":{\"outlinewidth\":0,\"ticks\":\"\"}}}],\"scatterternary\":[{\"type\":\"scatterternary\",\"marker\":{\"colorbar\":{\"outlinewidth\":0,\"ticks\":\"\"}}}],\"scattercarpet\":[{\"type\":\"scattercarpet\",\"marker\":{\"colorbar\":{\"outlinewidth\":0,\"ticks\":\"\"}}}],\"carpet\":[{\"aaxis\":{\"endlinecolor\":\"#2a3f5f\",\"gridcolor\":\"white\",\"linecolor\":\"white\",\"minorgridcolor\":\"white\",\"startlinecolor\":\"#2a3f5f\"},\"baxis\":{\"endlinecolor\":\"#2a3f5f\",\"gridcolor\":\"white\",\"linecolor\":\"white\",\"minorgridcolor\":\"white\",\"startlinecolor\":\"#2a3f5f\"},\"type\":\"carpet\"}],\"table\":[{\"cells\":{\"fill\":{\"color\":\"#EBF0F8\"},\"line\":{\"color\":\"white\"}},\"header\":{\"fill\":{\"color\":\"#C8D4E3\"},\"line\":{\"color\":\"white\"}},\"type\":\"table\"}],\"barpolar\":[{\"marker\":{\"line\":{\"color\":\"#E5ECF6\",\"width\":0.5},\"pattern\":{\"fillmode\":\"overlay\",\"size\":10,\"solidity\":0.2}},\"type\":\"barpolar\"}],\"pie\":[{\"automargin\":true,\"type\":\"pie\"}]},\"layout\":{\"autotypenumbers\":\"strict\",\"colorway\":[\"#636efa\",\"#EF553B\",\"#00cc96\",\"#ab63fa\",\"#FFA15A\",\"#19d3f3\",\"#FF6692\",\"#B6E880\",\"#FF97FF\",\"#FECB52\"],\"font\":{\"color\":\"#2a3f5f\"},\"hovermode\":\"closest\",\"hoverlabel\":{\"align\":\"left\"},\"paper_bgcolor\":\"white\",\"plot_bgcolor\":\"#E5ECF6\",\"polar\":{\"bgcolor\":\"#E5ECF6\",\"angularaxis\":{\"gridcolor\":\"white\",\"linecolor\":\"white\",\"ticks\":\"\"},\"radialaxis\":{\"gridcolor\":\"white\",\"linecolor\":\"white\",\"ticks\":\"\"}},\"ternary\":{\"bgcolor\":\"#E5ECF6\",\"aaxis\":{\"gridcolor\":\"white\",\"linecolor\":\"white\",\"ticks\":\"\"},\"baxis\":{\"gridcolor\":\"white\",\"linecolor\":\"white\",\"ticks\":\"\"},\"caxis\":{\"gridcolor\":\"white\",\"linecolor\":\"white\",\"ticks\":\"\"}},\"coloraxis\":{\"colorbar\":{\"outlinewidth\":0,\"ticks\":\"\"}},\"colorscale\":{\"sequential\":[[0.0,\"#0d0887\"],[0.1111111111111111,\"#46039f\"],[0.2222222222222222,\"#7201a8\"],[0.3333333333333333,\"#9c179e\"],[0.4444444444444444,\"#bd3786\"],[0.5555555555555556,\"#d8576b\"],[0.6666666666666666,\"#ed7953\"],[0.7777777777777778,\"#fb9f3a\"],[0.8888888888888888,\"#fdca26\"],[1.0,\"#f0f921\"]],\"sequentialminus\":[[0.0,\"#0d0887\"],[0.1111111111111111,\"#46039f\"],[0.2222222222222222,\"#7201a8\"],[0.3333333333333333,\"#9c179e\"],[0.4444444444444444,\"#bd3786\"],[0.5555555555555556,\"#d8576b\"],[0.6666666666666666,\"#ed7953\"],[0.7777777777777778,\"#fb9f3a\"],[0.8888888888888888,\"#fdca26\"],[1.0,\"#f0f921\"]],\"diverging\":[[0,\"#8e0152\"],[0.1,\"#c51b7d\"],[0.2,\"#de77ae\"],[0.3,\"#f1b6da\"],[0.4,\"#fde0ef\"],[0.5,\"#f7f7f7\"],[0.6,\"#e6f5d0\"],[0.7,\"#b8e186\"],[0.8,\"#7fbc41\"],[0.9,\"#4d9221\"],[1,\"#276419\"]]},\"xaxis\":{\"gridcolor\":\"white\",\"linecolor\":\"white\",\"ticks\":\"\",\"title\":{\"standoff\":15},\"zerolinecolor\":\"white\",\"automargin\":true,\"zerolinewidth\":2},\"yaxis\":{\"gridcolor\":\"white\",\"linecolor\":\"white\",\"ticks\":\"\",\"title\":{\"standoff\":15},\"zerolinecolor\":\"white\",\"automargin\":true,\"zerolinewidth\":2},\"scene\":{\"xaxis\":{\"backgroundcolor\":\"#E5ECF6\",\"gridcolor\":\"white\",\"linecolor\":\"white\",\"showbackground\":true,\"ticks\":\"\",\"zerolinecolor\":\"white\",\"gridwidth\":2},\"yaxis\":{\"backgroundcolor\":\"#E5ECF6\",\"gridcolor\":\"white\",\"linecolor\":\"white\",\"showbackground\":true,\"ticks\":\"\",\"zerolinecolor\":\"white\",\"gridwidth\":2},\"zaxis\":{\"backgroundcolor\":\"#E5ECF6\",\"gridcolor\":\"white\",\"linecolor\":\"white\",\"showbackground\":true,\"ticks\":\"\",\"zerolinecolor\":\"white\",\"gridwidth\":2}},\"shapedefaults\":{\"line\":{\"color\":\"#2a3f5f\"}},\"annotationdefaults\":{\"arrowcolor\":\"#2a3f5f\",\"arrowhead\":0,\"arrowwidth\":1},\"geo\":{\"bgcolor\":\"white\",\"landcolor\":\"#E5ECF6\",\"subunitcolor\":\"white\",\"showland\":true,\"showlakes\":true,\"lakecolor\":\"white\"},\"title\":{\"x\":0.05},\"mapbox\":{\"style\":\"light\"}}},\"xaxis\":{\"anchor\":\"y\",\"domain\":[0.0,0.45],\"title\":{\"text\":\"Run\"}},\"yaxis\":{\"anchor\":\"x\",\"domain\":[0.0,1.0],\"title\":{\"text\":\"Silhouette Score\"}},\"xaxis2\":{\"anchor\":\"y2\",\"domain\":[0.55,1.0],\"title\":{\"text\":\"Run\"}},\"yaxis2\":{\"anchor\":\"x2\",\"domain\":[0.0,1.0],\"title\":{\"text\":\"Silhouette Score\"}},\"annotations\":[{\"font\":{\"size\":16},\"showarrow\":false,\"text\":\"SkLearn KMeans\",\"x\":0.225,\"xanchor\":\"center\",\"xref\":\"paper\",\"y\":1.0,\"yanchor\":\"bottom\",\"yref\":\"paper\"},{\"font\":{\"size\":16},\"showarrow\":false,\"text\":\"TD_KMeans\",\"x\":0.775,\"xanchor\":\"center\",\"xref\":\"paper\",\"y\":1.0,\"yanchor\":\"bottom\",\"yref\":\"paper\"}],\"title\":{\"text\":\"Silhouette Scores for Multiple Runs\"},\"width\":950,\"height\":500},                        {\"responsive\": true}                    ).then(function(){\n",
       "                            \n",
       "var gd = document.getElementById('b9fb99b3-b91d-420d-bcab-5c26bfa7a7b4');\n",
       "var x = new MutationObserver(function (mutations, observer) {{\n",
       "        var display = window.getComputedStyle(gd).display;\n",
       "        if (!display || display === 'none') {{\n",
       "            console.log([gd, 'removed!']);\n",
       "            Plotly.purge(gd);\n",
       "            observer.disconnect();\n",
       "        }}\n",
       "}});\n",
       "\n",
       "// Listen for the removal of the full notebook cells\n",
       "var notebookContainer = gd.closest('#notebook-container');\n",
       "if (notebookContainer) {{\n",
       "    x.observe(notebookContainer, {childList: true});\n",
       "}}\n",
       "\n",
       "// Listen for the clearing of the current output cell\n",
       "var outputEl = gd.closest('.output');\n",
       "if (outputEl) {{\n",
       "    x.observe(outputEl, {childList: true});\n",
       "}}\n",
       "\n",
       "                        })                };                });            </script>        </div>"
      ]
     },
     "metadata": {},
     "output_type": "display_data"
    }
   ],
   "source": [
    "fig = sp.make_subplots(rows=1, cols=2, subplot_titles=(\"SkLearn KMeans\", \"TD_KMeans\"))\n",
    "\n",
    "# Plot for SkLearn KMeans\n",
    "run_names = list(silhouette_all.keys())\n",
    "scores = list(silhouette_all.values())\n",
    "\n",
    "fig.add_trace(go.Bar(x=run_names, y=scores, name=\"SkLearn KMeans\"), row=1, col=1)\n",
    "fig.update_xaxes(title_text='Run', row=1, col=1)\n",
    "fig.update_yaxes(title_text='Silhouette Score', row=1, col=1)\n",
    "\n",
    "# Plot for TD_KMeans\n",
    "run_names = list(tdkmeans_all.silhouette_scores.keys())\n",
    "scores = list(tdkmeans_all.silhouette_scores.values())\n",
    "\n",
    "fig.add_trace(go.Bar(x=run_names, y=scores, name=\"TD_KMeans\"), row=1, col=2)\n",
    "fig.update_xaxes(title_text='Run', row=1, col=2)\n",
    "fig.update_yaxes(title_text='Silhouette Score', row=1, col=2)\n",
    "\n",
    "# Update layout and show the figure\n",
    "fig.update_layout(title='Silhouette Scores for Multiple Runs', width=950, height=500)\n",
    "fig.show()"
   ]
  },
  {
   "cell_type": "markdown",
   "id": "906c2172",
   "metadata": {},
   "source": [
    "## Errors"
   ]
  },
  {
   "cell_type": "markdown",
   "id": "6f9f66c7",
   "metadata": {},
   "source": [
    "#### TD_Kmeans Errors"
   ]
  },
  {
   "cell_type": "code",
   "execution_count": 35,
   "id": "0dc84b27",
   "metadata": {},
   "outputs": [
    {
     "data": {
      "text/html": [
       "<h3>Errors</h3>"
      ],
      "text/plain": [
       "<IPython.core.display.HTML object>"
      ]
     },
     "metadata": {},
     "output_type": "display_data"
    },
    {
     "name": "stdout",
     "output_type": "stream",
     "text": [
      "----------------------------------------------------------------------------------------------------\n"
     ]
    },
    {
     "data": {
      "text/html": [
       "<h4>None</h4>"
      ],
      "text/plain": [
       "<IPython.core.display.HTML object>"
      ]
     },
     "metadata": {},
     "output_type": "display_data"
    }
   ],
   "source": [
    "display(HTML(\"<h3>Errors</h3>\"))\n",
    "if tdkmeans.errors is None:\n",
    "    print(\"-\"*100)\n",
    "    display(HTML(\"<h4>None</h4>\"))\n",
    "else:\n",
    "    print(tdkmeans.errors)"
   ]
  },
  {
   "cell_type": "markdown",
   "id": "07038dd7",
   "metadata": {},
   "source": [
    "## Comparision of all runs"
   ]
  },
  {
   "cell_type": "markdown",
   "id": "95cb9d03",
   "metadata": {},
   "source": [
    "### TD_KMeans Options"
   ]
  },
  {
   "cell_type": "code",
   "execution_count": 36,
   "id": "2c937c7e",
   "metadata": {},
   "outputs": [
    {
     "data": {
      "text/html": [
       "<div>\n",
       "<style scoped>\n",
       "    .dataframe tbody tr th:only-of-type {\n",
       "        vertical-align: middle;\n",
       "    }\n",
       "\n",
       "    .dataframe tbody tr th {\n",
       "        vertical-align: top;\n",
       "    }\n",
       "\n",
       "    .dataframe thead th {\n",
       "        text-align: right;\n",
       "    }\n",
       "</style>\n",
       "<table border=\"1\" class=\"dataframe\">\n",
       "  <thead>\n",
       "    <tr style=\"text-align: right;\">\n",
       "      <th></th>\n",
       "      <th>Run 0</th>\n",
       "      <th>Run 1</th>\n",
       "      <th>Run 2</th>\n",
       "      <th>Run 3</th>\n",
       "      <th>Run 4</th>\n",
       "      <th>Run 5</th>\n",
       "    </tr>\n",
       "  </thead>\n",
       "  <tbody>\n",
       "    <tr>\n",
       "      <th>InitialCentroidsMethod</th>\n",
       "      <td>kmeans++</td>\n",
       "      <td>kmeans++</td>\n",
       "      <td>kmeans++</td>\n",
       "      <td>kmeans++</td>\n",
       "      <td>kmeans++</td>\n",
       "      <td>kmeans++</td>\n",
       "    </tr>\n",
       "    <tr>\n",
       "      <th>NumClusters</th>\n",
       "      <td>2</td>\n",
       "      <td>3</td>\n",
       "      <td>4</td>\n",
       "      <td>5</td>\n",
       "      <td>6</td>\n",
       "      <td>7</td>\n",
       "    </tr>\n",
       "    <tr>\n",
       "      <th>MaxIterNum</th>\n",
       "      <td>10</td>\n",
       "      <td>10</td>\n",
       "      <td>10</td>\n",
       "      <td>10</td>\n",
       "      <td>10</td>\n",
       "      <td>10</td>\n",
       "    </tr>\n",
       "    <tr>\n",
       "      <th>Seed</th>\n",
       "      <td>42</td>\n",
       "      <td>42</td>\n",
       "      <td>42</td>\n",
       "      <td>42</td>\n",
       "      <td>42</td>\n",
       "      <td>42</td>\n",
       "    </tr>\n",
       "    <tr>\n",
       "      <th>StopThreshold</th>\n",
       "      <td>0.0395</td>\n",
       "      <td>0.0395</td>\n",
       "      <td>0.0395</td>\n",
       "      <td>0.0395</td>\n",
       "      <td>0.0395</td>\n",
       "      <td>0.0395</td>\n",
       "    </tr>\n",
       "    <tr>\n",
       "      <th>NumInit</th>\n",
       "      <td>1</td>\n",
       "      <td>1</td>\n",
       "      <td>1</td>\n",
       "      <td>1</td>\n",
       "      <td>1</td>\n",
       "      <td>1</td>\n",
       "    </tr>\n",
       "    <tr>\n",
       "      <th>output_table</th>\n",
       "      <td>kmeans_iris</td>\n",
       "      <td>kmeans_iris</td>\n",
       "      <td>kmeans_iris</td>\n",
       "      <td>kmeans_iris</td>\n",
       "      <td>kmeans_iris</td>\n",
       "      <td>kmeans_iris</td>\n",
       "    </tr>\n",
       "    <tr>\n",
       "      <th>fit_input_table</th>\n",
       "      <td>iris</td>\n",
       "      <td>iris</td>\n",
       "      <td>iris</td>\n",
       "      <td>iris</td>\n",
       "      <td>iris</td>\n",
       "      <td>iris</td>\n",
       "    </tr>\n",
       "    <tr>\n",
       "      <th>predict_input_table</th>\n",
       "      <td>iris</td>\n",
       "      <td>iris</td>\n",
       "      <td>iris</td>\n",
       "      <td>iris</td>\n",
       "      <td>iris</td>\n",
       "      <td>iris</td>\n",
       "    </tr>\n",
       "  </tbody>\n",
       "</table>\n",
       "</div>"
      ],
      "text/plain": [
       "                              Run 0        Run 1        Run 2        Run 3   \n",
       "InitialCentroidsMethod     kmeans++     kmeans++     kmeans++     kmeans++  \\\n",
       "NumClusters                       2            3            4            5   \n",
       "MaxIterNum                       10           10           10           10   \n",
       "Seed                             42           42           42           42   \n",
       "StopThreshold                0.0395       0.0395       0.0395       0.0395   \n",
       "NumInit                           1            1            1            1   \n",
       "output_table            kmeans_iris  kmeans_iris  kmeans_iris  kmeans_iris   \n",
       "fit_input_table                iris         iris         iris         iris   \n",
       "predict_input_table            iris         iris         iris         iris   \n",
       "\n",
       "                              Run 4        Run 5  \n",
       "InitialCentroidsMethod     kmeans++     kmeans++  \n",
       "NumClusters                       6            7  \n",
       "MaxIterNum                       10           10  \n",
       "Seed                             42           42  \n",
       "StopThreshold                0.0395       0.0395  \n",
       "NumInit                           1            1  \n",
       "output_table            kmeans_iris  kmeans_iris  \n",
       "fit_input_table                iris         iris  \n",
       "predict_input_table            iris         iris  "
      ]
     },
     "metadata": {},
     "output_type": "display_data"
    }
   ],
   "source": [
    "display(options_df)"
   ]
  },
  {
   "cell_type": "markdown",
   "id": "b90b37d8",
   "metadata": {},
   "source": [
    "### TD_KMeans Queries ran"
   ]
  },
  {
   "cell_type": "code",
   "execution_count": 37,
   "id": "3c143bbf",
   "metadata": {
    "scrolled": false
   },
   "outputs": [
    {
     "data": {
      "text/html": [
       "<h3>Run 0</h3>"
      ],
      "text/plain": [
       "<IPython.core.display.HTML object>"
      ]
     },
     "metadata": {},
     "output_type": "display_data"
    },
    {
     "name": "stdout",
     "output_type": "stream",
     "text": [
      "\n",
      "    CREATE MULTISET VOLATILE TABLE kmeans_iris AS(\n",
      "    SELECT * FROM TD_KMeans(\n",
      "        ON iris AS InputTable\n",
      "        USING\n",
      "        IdColumn('id')\n",
      "        TargetColumns('sepal_length', 'sepal_width', 'petal_length', 'petal_width')\n",
      "        InitialCentroidsMethod('kmeans++')\n",
      "        NumClusters(2)\n",
      "        Seed(42)\n",
      "        StopThreshold(0.0395)\n",
      "        MaxIterNum(10)\n",
      "        NumInit(1)\n",
      "    ) AS dt\n",
      "    ) WITH DATA ON COMMIT PRESERVE ROWS;\n",
      "----------------------------------------------------------------------------------------------------\n"
     ]
    },
    {
     "data": {
      "text/html": [
       "<h3>Run 1</h3>"
      ],
      "text/plain": [
       "<IPython.core.display.HTML object>"
      ]
     },
     "metadata": {},
     "output_type": "display_data"
    },
    {
     "name": "stdout",
     "output_type": "stream",
     "text": [
      "\n",
      "    CREATE MULTISET VOLATILE TABLE kmeans_iris AS(\n",
      "    SELECT * FROM TD_KMeans(\n",
      "        ON iris AS InputTable\n",
      "        USING\n",
      "        IdColumn('id')\n",
      "        TargetColumns('sepal_length', 'sepal_width', 'petal_length', 'petal_width')\n",
      "        InitialCentroidsMethod('kmeans++')\n",
      "        NumClusters(3)\n",
      "        Seed(42)\n",
      "        StopThreshold(0.0395)\n",
      "        MaxIterNum(10)\n",
      "        NumInit(1)\n",
      "    ) AS dt\n",
      "    ) WITH DATA ON COMMIT PRESERVE ROWS;\n",
      "----------------------------------------------------------------------------------------------------\n"
     ]
    },
    {
     "data": {
      "text/html": [
       "<h3>Run 2</h3>"
      ],
      "text/plain": [
       "<IPython.core.display.HTML object>"
      ]
     },
     "metadata": {},
     "output_type": "display_data"
    },
    {
     "name": "stdout",
     "output_type": "stream",
     "text": [
      "\n",
      "    CREATE MULTISET VOLATILE TABLE kmeans_iris AS(\n",
      "    SELECT * FROM TD_KMeans(\n",
      "        ON iris AS InputTable\n",
      "        USING\n",
      "        IdColumn('id')\n",
      "        TargetColumns('sepal_length', 'sepal_width', 'petal_length', 'petal_width')\n",
      "        InitialCentroidsMethod('kmeans++')\n",
      "        NumClusters(4)\n",
      "        Seed(42)\n",
      "        StopThreshold(0.0395)\n",
      "        MaxIterNum(10)\n",
      "        NumInit(1)\n",
      "    ) AS dt\n",
      "    ) WITH DATA ON COMMIT PRESERVE ROWS;\n",
      "----------------------------------------------------------------------------------------------------\n"
     ]
    },
    {
     "data": {
      "text/html": [
       "<h3>Run 3</h3>"
      ],
      "text/plain": [
       "<IPython.core.display.HTML object>"
      ]
     },
     "metadata": {},
     "output_type": "display_data"
    },
    {
     "name": "stdout",
     "output_type": "stream",
     "text": [
      "\n",
      "    CREATE MULTISET VOLATILE TABLE kmeans_iris AS(\n",
      "    SELECT * FROM TD_KMeans(\n",
      "        ON iris AS InputTable\n",
      "        USING\n",
      "        IdColumn('id')\n",
      "        TargetColumns('sepal_length', 'sepal_width', 'petal_length', 'petal_width')\n",
      "        InitialCentroidsMethod('kmeans++')\n",
      "        NumClusters(5)\n",
      "        Seed(42)\n",
      "        StopThreshold(0.0395)\n",
      "        MaxIterNum(10)\n",
      "        NumInit(1)\n",
      "    ) AS dt\n",
      "    ) WITH DATA ON COMMIT PRESERVE ROWS;\n",
      "----------------------------------------------------------------------------------------------------\n"
     ]
    },
    {
     "data": {
      "text/html": [
       "<h3>Run 4</h3>"
      ],
      "text/plain": [
       "<IPython.core.display.HTML object>"
      ]
     },
     "metadata": {},
     "output_type": "display_data"
    },
    {
     "name": "stdout",
     "output_type": "stream",
     "text": [
      "\n",
      "    CREATE MULTISET VOLATILE TABLE kmeans_iris AS(\n",
      "    SELECT * FROM TD_KMeans(\n",
      "        ON iris AS InputTable\n",
      "        USING\n",
      "        IdColumn('id')\n",
      "        TargetColumns('sepal_length', 'sepal_width', 'petal_length', 'petal_width')\n",
      "        InitialCentroidsMethod('kmeans++')\n",
      "        NumClusters(6)\n",
      "        Seed(42)\n",
      "        StopThreshold(0.0395)\n",
      "        MaxIterNum(10)\n",
      "        NumInit(1)\n",
      "    ) AS dt\n",
      "    ) WITH DATA ON COMMIT PRESERVE ROWS;\n",
      "----------------------------------------------------------------------------------------------------\n"
     ]
    },
    {
     "data": {
      "text/html": [
       "<h3>Run 5</h3>"
      ],
      "text/plain": [
       "<IPython.core.display.HTML object>"
      ]
     },
     "metadata": {},
     "output_type": "display_data"
    },
    {
     "name": "stdout",
     "output_type": "stream",
     "text": [
      "\n",
      "    CREATE MULTISET VOLATILE TABLE kmeans_iris AS(\n",
      "    SELECT * FROM TD_KMeans(\n",
      "        ON iris AS InputTable\n",
      "        USING\n",
      "        IdColumn('id')\n",
      "        TargetColumns('sepal_length', 'sepal_width', 'petal_length', 'petal_width')\n",
      "        InitialCentroidsMethod('kmeans++')\n",
      "        NumClusters(7)\n",
      "        Seed(42)\n",
      "        StopThreshold(0.0395)\n",
      "        MaxIterNum(10)\n",
      "        NumInit(1)\n",
      "    ) AS dt\n",
      "    ) WITH DATA ON COMMIT PRESERVE ROWS;\n",
      "----------------------------------------------------------------------------------------------------\n"
     ]
    }
   ],
   "source": [
    "for i, r in enumerate(tdkmeans_all.q):\n",
    "    display(HTML(f\"<h3>Run {i}</h3>\"))\n",
    "    print(r)\n",
    "    print(\"-\"*100)"
   ]
  },
  {
   "cell_type": "markdown",
   "id": "c66dede7",
   "metadata": {},
   "source": [
    "### TD_KMeans Model Tables"
   ]
  },
  {
   "cell_type": "code",
   "execution_count": 38,
   "id": "bccc6a93",
   "metadata": {},
   "outputs": [
    {
     "data": {
      "text/html": [
       "<h3>Run 0</h3>"
      ],
      "text/plain": [
       "<IPython.core.display.HTML object>"
      ]
     },
     "metadata": {},
     "output_type": "display_data"
    },
    {
     "data": {
      "text/html": [
       "<div>\n",
       "<style scoped>\n",
       "    .dataframe tbody tr th:only-of-type {\n",
       "        vertical-align: middle;\n",
       "    }\n",
       "\n",
       "    .dataframe tbody tr th {\n",
       "        vertical-align: top;\n",
       "    }\n",
       "\n",
       "    .dataframe thead th {\n",
       "        text-align: right;\n",
       "    }\n",
       "</style>\n",
       "<table border=\"1\" class=\"dataframe\">\n",
       "  <thead>\n",
       "    <tr style=\"text-align: right;\">\n",
       "      <th></th>\n",
       "      <th>td_clusterid_kmeans</th>\n",
       "      <th>sepal_length</th>\n",
       "      <th>sepal_width</th>\n",
       "      <th>petal_length</th>\n",
       "      <th>petal_width</th>\n",
       "      <th>td_size_kmeans</th>\n",
       "      <th>td_withinss_kmeans</th>\n",
       "      <th>id</th>\n",
       "      <th>td_modelinfo_kmeans</th>\n",
       "    </tr>\n",
       "  </thead>\n",
       "  <tbody>\n",
       "    <tr>\n",
       "      <th>0</th>\n",
       "      <td>1.0</td>\n",
       "      <td>-1.014579</td>\n",
       "      <td>0.853263</td>\n",
       "      <td>-1.304987</td>\n",
       "      <td>-1.254893</td>\n",
       "      <td>50.0</td>\n",
       "      <td>47.668411</td>\n",
       "      <td>None</td>\n",
       "      <td>None</td>\n",
       "    </tr>\n",
       "    <tr>\n",
       "      <th>1</th>\n",
       "      <td>NaN</td>\n",
       "      <td>NaN</td>\n",
       "      <td>NaN</td>\n",
       "      <td>NaN</td>\n",
       "      <td>NaN</td>\n",
       "      <td>NaN</td>\n",
       "      <td>NaN</td>\n",
       "      <td>None</td>\n",
       "      <td>Number of Iterations : 4</td>\n",
       "    </tr>\n",
       "    <tr>\n",
       "      <th>2</th>\n",
       "      <td>NaN</td>\n",
       "      <td>NaN</td>\n",
       "      <td>NaN</td>\n",
       "      <td>NaN</td>\n",
       "      <td>NaN</td>\n",
       "      <td>NaN</td>\n",
       "      <td>NaN</td>\n",
       "      <td>None</td>\n",
       "      <td>Total_WithinSS : 2.22361704965023E+02</td>\n",
       "    </tr>\n",
       "    <tr>\n",
       "      <th>3</th>\n",
       "      <td>NaN</td>\n",
       "      <td>NaN</td>\n",
       "      <td>NaN</td>\n",
       "      <td>NaN</td>\n",
       "      <td>NaN</td>\n",
       "      <td>NaN</td>\n",
       "      <td>NaN</td>\n",
       "      <td>None</td>\n",
       "      <td>Between_SS : 3.77638295034977E+02</td>\n",
       "    </tr>\n",
       "    <tr>\n",
       "      <th>4</th>\n",
       "      <td>NaN</td>\n",
       "      <td>NaN</td>\n",
       "      <td>NaN</td>\n",
       "      <td>NaN</td>\n",
       "      <td>NaN</td>\n",
       "      <td>NaN</td>\n",
       "      <td>NaN</td>\n",
       "      <td>None</td>\n",
       "      <td>Method for InitialCentroids : KMeans++</td>\n",
       "    </tr>\n",
       "    <tr>\n",
       "      <th>5</th>\n",
       "      <td>NaN</td>\n",
       "      <td>NaN</td>\n",
       "      <td>NaN</td>\n",
       "      <td>NaN</td>\n",
       "      <td>NaN</td>\n",
       "      <td>NaN</td>\n",
       "      <td>NaN</td>\n",
       "      <td>None</td>\n",
       "      <td>Number of Clusters : 2</td>\n",
       "    </tr>\n",
       "    <tr>\n",
       "      <th>6</th>\n",
       "      <td>NaN</td>\n",
       "      <td>NaN</td>\n",
       "      <td>NaN</td>\n",
       "      <td>NaN</td>\n",
       "      <td>NaN</td>\n",
       "      <td>NaN</td>\n",
       "      <td>NaN</td>\n",
       "      <td>None</td>\n",
       "      <td>Converged : True</td>\n",
       "    </tr>\n",
       "    <tr>\n",
       "      <th>7</th>\n",
       "      <td>0.0</td>\n",
       "      <td>0.507289</td>\n",
       "      <td>-0.426631</td>\n",
       "      <td>0.652494</td>\n",
       "      <td>0.627447</td>\n",
       "      <td>100.0</td>\n",
       "      <td>174.693294</td>\n",
       "      <td>None</td>\n",
       "      <td>None</td>\n",
       "    </tr>\n",
       "  </tbody>\n",
       "</table>\n",
       "</div>"
      ],
      "text/plain": [
       "   td_clusterid_kmeans  sepal_length  sepal_width  petal_length  petal_width   \n",
       "0                  1.0     -1.014579     0.853263     -1.304987    -1.254893  \\\n",
       "1                  NaN           NaN          NaN           NaN          NaN   \n",
       "2                  NaN           NaN          NaN           NaN          NaN   \n",
       "3                  NaN           NaN          NaN           NaN          NaN   \n",
       "4                  NaN           NaN          NaN           NaN          NaN   \n",
       "5                  NaN           NaN          NaN           NaN          NaN   \n",
       "6                  NaN           NaN          NaN           NaN          NaN   \n",
       "7                  0.0      0.507289    -0.426631      0.652494     0.627447   \n",
       "\n",
       "   td_size_kmeans  td_withinss_kmeans    id   \n",
       "0            50.0           47.668411  None  \\\n",
       "1             NaN                 NaN  None   \n",
       "2             NaN                 NaN  None   \n",
       "3             NaN                 NaN  None   \n",
       "4             NaN                 NaN  None   \n",
       "5             NaN                 NaN  None   \n",
       "6             NaN                 NaN  None   \n",
       "7           100.0          174.693294  None   \n",
       "\n",
       "                      td_modelinfo_kmeans  \n",
       "0                                    None  \n",
       "1                Number of Iterations : 4  \n",
       "2   Total_WithinSS : 2.22361704965023E+02  \n",
       "3       Between_SS : 3.77638295034977E+02  \n",
       "4  Method for InitialCentroids : KMeans++  \n",
       "5                  Number of Clusters : 2  \n",
       "6                        Converged : True  \n",
       "7                                    None  "
      ]
     },
     "metadata": {},
     "output_type": "display_data"
    },
    {
     "name": "stdout",
     "output_type": "stream",
     "text": [
      "----------------------------------------------------------------------------------------------------\n"
     ]
    },
    {
     "data": {
      "text/html": [
       "<h3>Run 1</h3>"
      ],
      "text/plain": [
       "<IPython.core.display.HTML object>"
      ]
     },
     "metadata": {},
     "output_type": "display_data"
    },
    {
     "data": {
      "text/html": [
       "<div>\n",
       "<style scoped>\n",
       "    .dataframe tbody tr th:only-of-type {\n",
       "        vertical-align: middle;\n",
       "    }\n",
       "\n",
       "    .dataframe tbody tr th {\n",
       "        vertical-align: top;\n",
       "    }\n",
       "\n",
       "    .dataframe thead th {\n",
       "        text-align: right;\n",
       "    }\n",
       "</style>\n",
       "<table border=\"1\" class=\"dataframe\">\n",
       "  <thead>\n",
       "    <tr style=\"text-align: right;\">\n",
       "      <th></th>\n",
       "      <th>td_clusterid_kmeans</th>\n",
       "      <th>sepal_length</th>\n",
       "      <th>sepal_width</th>\n",
       "      <th>petal_length</th>\n",
       "      <th>petal_width</th>\n",
       "      <th>td_size_kmeans</th>\n",
       "      <th>td_withinss_kmeans</th>\n",
       "      <th>id</th>\n",
       "      <th>td_modelinfo_kmeans</th>\n",
       "    </tr>\n",
       "  </thead>\n",
       "  <tbody>\n",
       "    <tr>\n",
       "      <th>0</th>\n",
       "      <td>1.0</td>\n",
       "      <td>-1.286215</td>\n",
       "      <td>-0.424957</td>\n",
       "      <td>-1.087042</td>\n",
       "      <td>-1.076113</td>\n",
       "      <td>22.0</td>\n",
       "      <td>27.205606</td>\n",
       "      <td>None</td>\n",
       "      <td>None</td>\n",
       "    </tr>\n",
       "    <tr>\n",
       "      <th>1</th>\n",
       "      <td>NaN</td>\n",
       "      <td>NaN</td>\n",
       "      <td>NaN</td>\n",
       "      <td>NaN</td>\n",
       "      <td>NaN</td>\n",
       "      <td>NaN</td>\n",
       "      <td>NaN</td>\n",
       "      <td>None</td>\n",
       "      <td>Number of Iterations : 3</td>\n",
       "    </tr>\n",
       "    <tr>\n",
       "      <th>2</th>\n",
       "      <td>2.0</td>\n",
       "      <td>-0.816231</td>\n",
       "      <td>1.318958</td>\n",
       "      <td>-1.286834</td>\n",
       "      <td>-1.219712</td>\n",
       "      <td>33.0</td>\n",
       "      <td>17.449957</td>\n",
       "      <td>None</td>\n",
       "      <td>None</td>\n",
       "    </tr>\n",
       "    <tr>\n",
       "      <th>3</th>\n",
       "      <td>NaN</td>\n",
       "      <td>NaN</td>\n",
       "      <td>NaN</td>\n",
       "      <td>NaN</td>\n",
       "      <td>NaN</td>\n",
       "      <td>NaN</td>\n",
       "      <td>NaN</td>\n",
       "      <td>None</td>\n",
       "      <td>Total_WithinSS : 1.91219898584343E+02</td>\n",
       "    </tr>\n",
       "    <tr>\n",
       "      <th>4</th>\n",
       "      <td>NaN</td>\n",
       "      <td>NaN</td>\n",
       "      <td>NaN</td>\n",
       "      <td>NaN</td>\n",
       "      <td>NaN</td>\n",
       "      <td>NaN</td>\n",
       "      <td>NaN</td>\n",
       "      <td>None</td>\n",
       "      <td>Between_SS : 4.08780101415657E+02</td>\n",
       "    </tr>\n",
       "    <tr>\n",
       "      <th>5</th>\n",
       "      <td>NaN</td>\n",
       "      <td>NaN</td>\n",
       "      <td>NaN</td>\n",
       "      <td>NaN</td>\n",
       "      <td>NaN</td>\n",
       "      <td>NaN</td>\n",
       "      <td>NaN</td>\n",
       "      <td>None</td>\n",
       "      <td>Method for InitialCentroids : KMeans++</td>\n",
       "    </tr>\n",
       "    <tr>\n",
       "      <th>6</th>\n",
       "      <td>NaN</td>\n",
       "      <td>NaN</td>\n",
       "      <td>NaN</td>\n",
       "      <td>NaN</td>\n",
       "      <td>NaN</td>\n",
       "      <td>NaN</td>\n",
       "      <td>NaN</td>\n",
       "      <td>None</td>\n",
       "      <td>Number of Clusters : 3</td>\n",
       "    </tr>\n",
       "    <tr>\n",
       "      <th>7</th>\n",
       "      <td>NaN</td>\n",
       "      <td>NaN</td>\n",
       "      <td>NaN</td>\n",
       "      <td>NaN</td>\n",
       "      <td>NaN</td>\n",
       "      <td>NaN</td>\n",
       "      <td>NaN</td>\n",
       "      <td>None</td>\n",
       "      <td>Converged : True</td>\n",
       "    </tr>\n",
       "    <tr>\n",
       "      <th>8</th>\n",
       "      <td>0.0</td>\n",
       "      <td>0.581393</td>\n",
       "      <td>-0.359753</td>\n",
       "      <td>0.698741</td>\n",
       "      <td>0.672894</td>\n",
       "      <td>95.0</td>\n",
       "      <td>146.564336</td>\n",
       "      <td>None</td>\n",
       "      <td>None</td>\n",
       "    </tr>\n",
       "  </tbody>\n",
       "</table>\n",
       "</div>"
      ],
      "text/plain": [
       "   td_clusterid_kmeans  sepal_length  sepal_width  petal_length  petal_width   \n",
       "0                  1.0     -1.286215    -0.424957     -1.087042    -1.076113  \\\n",
       "1                  NaN           NaN          NaN           NaN          NaN   \n",
       "2                  2.0     -0.816231     1.318958     -1.286834    -1.219712   \n",
       "3                  NaN           NaN          NaN           NaN          NaN   \n",
       "4                  NaN           NaN          NaN           NaN          NaN   \n",
       "5                  NaN           NaN          NaN           NaN          NaN   \n",
       "6                  NaN           NaN          NaN           NaN          NaN   \n",
       "7                  NaN           NaN          NaN           NaN          NaN   \n",
       "8                  0.0      0.581393    -0.359753      0.698741     0.672894   \n",
       "\n",
       "   td_size_kmeans  td_withinss_kmeans    id   \n",
       "0            22.0           27.205606  None  \\\n",
       "1             NaN                 NaN  None   \n",
       "2            33.0           17.449957  None   \n",
       "3             NaN                 NaN  None   \n",
       "4             NaN                 NaN  None   \n",
       "5             NaN                 NaN  None   \n",
       "6             NaN                 NaN  None   \n",
       "7             NaN                 NaN  None   \n",
       "8            95.0          146.564336  None   \n",
       "\n",
       "                      td_modelinfo_kmeans  \n",
       "0                                    None  \n",
       "1                Number of Iterations : 3  \n",
       "2                                    None  \n",
       "3   Total_WithinSS : 1.91219898584343E+02  \n",
       "4       Between_SS : 4.08780101415657E+02  \n",
       "5  Method for InitialCentroids : KMeans++  \n",
       "6                  Number of Clusters : 3  \n",
       "7                        Converged : True  \n",
       "8                                    None  "
      ]
     },
     "metadata": {},
     "output_type": "display_data"
    },
    {
     "name": "stdout",
     "output_type": "stream",
     "text": [
      "----------------------------------------------------------------------------------------------------\n"
     ]
    },
    {
     "data": {
      "text/html": [
       "<h3>Run 2</h3>"
      ],
      "text/plain": [
       "<IPython.core.display.HTML object>"
      ]
     },
     "metadata": {},
     "output_type": "display_data"
    },
    {
     "data": {
      "text/html": [
       "<div>\n",
       "<style scoped>\n",
       "    .dataframe tbody tr th:only-of-type {\n",
       "        vertical-align: middle;\n",
       "    }\n",
       "\n",
       "    .dataframe tbody tr th {\n",
       "        vertical-align: top;\n",
       "    }\n",
       "\n",
       "    .dataframe thead th {\n",
       "        text-align: right;\n",
       "    }\n",
       "</style>\n",
       "<table border=\"1\" class=\"dataframe\">\n",
       "  <thead>\n",
       "    <tr style=\"text-align: right;\">\n",
       "      <th></th>\n",
       "      <th>td_clusterid_kmeans</th>\n",
       "      <th>sepal_length</th>\n",
       "      <th>sepal_width</th>\n",
       "      <th>petal_length</th>\n",
       "      <th>petal_width</th>\n",
       "      <th>td_size_kmeans</th>\n",
       "      <th>td_withinss_kmeans</th>\n",
       "      <th>id</th>\n",
       "      <th>td_modelinfo_kmeans</th>\n",
       "    </tr>\n",
       "  </thead>\n",
       "  <tbody>\n",
       "    <tr>\n",
       "      <th>0</th>\n",
       "      <td>1.0</td>\n",
       "      <td>-1.002067</td>\n",
       "      <td>0.906255</td>\n",
       "      <td>-1.303108</td>\n",
       "      <td>-1.256344</td>\n",
       "      <td>49.0</td>\n",
       "      <td>40.390995</td>\n",
       "      <td>None</td>\n",
       "      <td>None</td>\n",
       "    </tr>\n",
       "    <tr>\n",
       "      <th>1</th>\n",
       "      <td>3.0</td>\n",
       "      <td>0.357041</td>\n",
       "      <td>-0.394404</td>\n",
       "      <td>0.586562</td>\n",
       "      <td>0.548467</td>\n",
       "      <td>50.0</td>\n",
       "      <td>29.788983</td>\n",
       "      <td>None</td>\n",
       "      <td>None</td>\n",
       "    </tr>\n",
       "    <tr>\n",
       "      <th>2</th>\n",
       "      <td>NaN</td>\n",
       "      <td>NaN</td>\n",
       "      <td>NaN</td>\n",
       "      <td>NaN</td>\n",
       "      <td>NaN</td>\n",
       "      <td>NaN</td>\n",
       "      <td>NaN</td>\n",
       "      <td>None</td>\n",
       "      <td>Number of Iterations : 6</td>\n",
       "    </tr>\n",
       "    <tr>\n",
       "      <th>3</th>\n",
       "      <td>2.0</td>\n",
       "      <td>-0.421517</td>\n",
       "      <td>-1.429452</td>\n",
       "      <td>0.039373</td>\n",
       "      <td>-0.052972</td>\n",
       "      <td>22.0</td>\n",
       "      <td>17.160812</td>\n",
       "      <td>None</td>\n",
       "      <td>None</td>\n",
       "    </tr>\n",
       "    <tr>\n",
       "      <th>4</th>\n",
       "      <td>NaN</td>\n",
       "      <td>NaN</td>\n",
       "      <td>NaN</td>\n",
       "      <td>NaN</td>\n",
       "      <td>NaN</td>\n",
       "      <td>NaN</td>\n",
       "      <td>NaN</td>\n",
       "      <td>None</td>\n",
       "      <td>Total_WithinSS : 1.14412561818961E+02</td>\n",
       "    </tr>\n",
       "    <tr>\n",
       "      <th>5</th>\n",
       "      <td>NaN</td>\n",
       "      <td>NaN</td>\n",
       "      <td>NaN</td>\n",
       "      <td>NaN</td>\n",
       "      <td>NaN</td>\n",
       "      <td>NaN</td>\n",
       "      <td>NaN</td>\n",
       "      <td>None</td>\n",
       "      <td>Between_SS : 4.85587438181039E+02</td>\n",
       "    </tr>\n",
       "    <tr>\n",
       "      <th>6</th>\n",
       "      <td>NaN</td>\n",
       "      <td>NaN</td>\n",
       "      <td>NaN</td>\n",
       "      <td>NaN</td>\n",
       "      <td>NaN</td>\n",
       "      <td>NaN</td>\n",
       "      <td>NaN</td>\n",
       "      <td>None</td>\n",
       "      <td>Method for InitialCentroids : KMeans++</td>\n",
       "    </tr>\n",
       "    <tr>\n",
       "      <th>7</th>\n",
       "      <td>NaN</td>\n",
       "      <td>NaN</td>\n",
       "      <td>NaN</td>\n",
       "      <td>NaN</td>\n",
       "      <td>NaN</td>\n",
       "      <td>NaN</td>\n",
       "      <td>NaN</td>\n",
       "      <td>None</td>\n",
       "      <td>Number of Clusters : 4</td>\n",
       "    </tr>\n",
       "    <tr>\n",
       "      <th>8</th>\n",
       "      <td>NaN</td>\n",
       "      <td>NaN</td>\n",
       "      <td>NaN</td>\n",
       "      <td>NaN</td>\n",
       "      <td>NaN</td>\n",
       "      <td>NaN</td>\n",
       "      <td>NaN</td>\n",
       "      <td>None</td>\n",
       "      <td>Converged : True</td>\n",
       "    </tr>\n",
       "    <tr>\n",
       "      <th>9</th>\n",
       "      <td>0.0</td>\n",
       "      <td>1.397330</td>\n",
       "      <td>0.233160</td>\n",
       "      <td>1.160620</td>\n",
       "      <td>1.217340</td>\n",
       "      <td>29.0</td>\n",
       "      <td>27.071771</td>\n",
       "      <td>None</td>\n",
       "      <td>None</td>\n",
       "    </tr>\n",
       "  </tbody>\n",
       "</table>\n",
       "</div>"
      ],
      "text/plain": [
       "   td_clusterid_kmeans  sepal_length  sepal_width  petal_length  petal_width   \n",
       "0                  1.0     -1.002067     0.906255     -1.303108    -1.256344  \\\n",
       "1                  3.0      0.357041    -0.394404      0.586562     0.548467   \n",
       "2                  NaN           NaN          NaN           NaN          NaN   \n",
       "3                  2.0     -0.421517    -1.429452      0.039373    -0.052972   \n",
       "4                  NaN           NaN          NaN           NaN          NaN   \n",
       "5                  NaN           NaN          NaN           NaN          NaN   \n",
       "6                  NaN           NaN          NaN           NaN          NaN   \n",
       "7                  NaN           NaN          NaN           NaN          NaN   \n",
       "8                  NaN           NaN          NaN           NaN          NaN   \n",
       "9                  0.0      1.397330     0.233160      1.160620     1.217340   \n",
       "\n",
       "   td_size_kmeans  td_withinss_kmeans    id   \n",
       "0            49.0           40.390995  None  \\\n",
       "1            50.0           29.788983  None   \n",
       "2             NaN                 NaN  None   \n",
       "3            22.0           17.160812  None   \n",
       "4             NaN                 NaN  None   \n",
       "5             NaN                 NaN  None   \n",
       "6             NaN                 NaN  None   \n",
       "7             NaN                 NaN  None   \n",
       "8             NaN                 NaN  None   \n",
       "9            29.0           27.071771  None   \n",
       "\n",
       "                      td_modelinfo_kmeans  \n",
       "0                                    None  \n",
       "1                                    None  \n",
       "2                Number of Iterations : 6  \n",
       "3                                    None  \n",
       "4   Total_WithinSS : 1.14412561818961E+02  \n",
       "5       Between_SS : 4.85587438181039E+02  \n",
       "6  Method for InitialCentroids : KMeans++  \n",
       "7                  Number of Clusters : 4  \n",
       "8                        Converged : True  \n",
       "9                                    None  "
      ]
     },
     "metadata": {},
     "output_type": "display_data"
    },
    {
     "name": "stdout",
     "output_type": "stream",
     "text": [
      "----------------------------------------------------------------------------------------------------\n"
     ]
    },
    {
     "data": {
      "text/html": [
       "<h3>Run 3</h3>"
      ],
      "text/plain": [
       "<IPython.core.display.HTML object>"
      ]
     },
     "metadata": {},
     "output_type": "display_data"
    },
    {
     "data": {
      "text/html": [
       "<div>\n",
       "<style scoped>\n",
       "    .dataframe tbody tr th:only-of-type {\n",
       "        vertical-align: middle;\n",
       "    }\n",
       "\n",
       "    .dataframe tbody tr th {\n",
       "        vertical-align: top;\n",
       "    }\n",
       "\n",
       "    .dataframe thead th {\n",
       "        text-align: right;\n",
       "    }\n",
       "</style>\n",
       "<table border=\"1\" class=\"dataframe\">\n",
       "  <thead>\n",
       "    <tr style=\"text-align: right;\">\n",
       "      <th></th>\n",
       "      <th>td_clusterid_kmeans</th>\n",
       "      <th>sepal_length</th>\n",
       "      <th>sepal_width</th>\n",
       "      <th>petal_length</th>\n",
       "      <th>petal_width</th>\n",
       "      <th>td_size_kmeans</th>\n",
       "      <th>td_withinss_kmeans</th>\n",
       "      <th>id</th>\n",
       "      <th>td_modelinfo_kmeans</th>\n",
       "    </tr>\n",
       "  </thead>\n",
       "  <tbody>\n",
       "    <tr>\n",
       "      <th>0</th>\n",
       "      <td>1.0</td>\n",
       "      <td>-1.002067</td>\n",
       "      <td>0.906255</td>\n",
       "      <td>-1.303108</td>\n",
       "      <td>-1.256344</td>\n",
       "      <td>49.0</td>\n",
       "      <td>40.390995</td>\n",
       "      <td>None</td>\n",
       "      <td>None</td>\n",
       "    </tr>\n",
       "    <tr>\n",
       "      <th>1</th>\n",
       "      <td>4.0</td>\n",
       "      <td>2.128516</td>\n",
       "      <td>1.556130</td>\n",
       "      <td>1.501645</td>\n",
       "      <td>1.361077</td>\n",
       "      <td>3.0</td>\n",
       "      <td>0.800656</td>\n",
       "      <td>None</td>\n",
       "      <td>None</td>\n",
       "    </tr>\n",
       "    <tr>\n",
       "      <th>2</th>\n",
       "      <td>3.0</td>\n",
       "      <td>0.282819</td>\n",
       "      <td>-0.394297</td>\n",
       "      <td>0.524834</td>\n",
       "      <td>0.484549</td>\n",
       "      <td>43.0</td>\n",
       "      <td>23.692572</td>\n",
       "      <td>None</td>\n",
       "      <td>None</td>\n",
       "    </tr>\n",
       "    <tr>\n",
       "      <th>3</th>\n",
       "      <td>NaN</td>\n",
       "      <td>NaN</td>\n",
       "      <td>NaN</td>\n",
       "      <td>NaN</td>\n",
       "      <td>NaN</td>\n",
       "      <td>NaN</td>\n",
       "      <td>NaN</td>\n",
       "      <td>None</td>\n",
       "      <td>Number of Iterations : 6</td>\n",
       "    </tr>\n",
       "    <tr>\n",
       "      <th>4</th>\n",
       "      <td>2.0</td>\n",
       "      <td>-0.421517</td>\n",
       "      <td>-1.429452</td>\n",
       "      <td>0.039373</td>\n",
       "      <td>-0.052972</td>\n",
       "      <td>22.0</td>\n",
       "      <td>17.160812</td>\n",
       "      <td>None</td>\n",
       "      <td>None</td>\n",
       "    </tr>\n",
       "    <tr>\n",
       "      <th>5</th>\n",
       "      <td>NaN</td>\n",
       "      <td>NaN</td>\n",
       "      <td>NaN</td>\n",
       "      <td>NaN</td>\n",
       "      <td>NaN</td>\n",
       "      <td>NaN</td>\n",
       "      <td>NaN</td>\n",
       "      <td>None</td>\n",
       "      <td>Total_WithinSS : 1.05322770595884E+02</td>\n",
       "    </tr>\n",
       "    <tr>\n",
       "      <th>6</th>\n",
       "      <td>NaN</td>\n",
       "      <td>NaN</td>\n",
       "      <td>NaN</td>\n",
       "      <td>NaN</td>\n",
       "      <td>NaN</td>\n",
       "      <td>NaN</td>\n",
       "      <td>NaN</td>\n",
       "      <td>None</td>\n",
       "      <td>Between_SS : 4.94677229404116E+02</td>\n",
       "    </tr>\n",
       "    <tr>\n",
       "      <th>7</th>\n",
       "      <td>NaN</td>\n",
       "      <td>NaN</td>\n",
       "      <td>NaN</td>\n",
       "      <td>NaN</td>\n",
       "      <td>NaN</td>\n",
       "      <td>NaN</td>\n",
       "      <td>NaN</td>\n",
       "      <td>None</td>\n",
       "      <td>Method for InitialCentroids : KMeans++</td>\n",
       "    </tr>\n",
       "    <tr>\n",
       "      <th>8</th>\n",
       "      <td>NaN</td>\n",
       "      <td>NaN</td>\n",
       "      <td>NaN</td>\n",
       "      <td>NaN</td>\n",
       "      <td>NaN</td>\n",
       "      <td>NaN</td>\n",
       "      <td>NaN</td>\n",
       "      <td>None</td>\n",
       "      <td>Number of Clusters : 5</td>\n",
       "    </tr>\n",
       "    <tr>\n",
       "      <th>9</th>\n",
       "      <td>NaN</td>\n",
       "      <td>NaN</td>\n",
       "      <td>NaN</td>\n",
       "      <td>NaN</td>\n",
       "      <td>NaN</td>\n",
       "      <td>NaN</td>\n",
       "      <td>NaN</td>\n",
       "      <td>None</td>\n",
       "      <td>Converged : True</td>\n",
       "    </tr>\n",
       "    <tr>\n",
       "      <th>10</th>\n",
       "      <td>0.0</td>\n",
       "      <td>1.206905</td>\n",
       "      <td>-0.020369</td>\n",
       "      <td>1.088282</td>\n",
       "      <td>1.145679</td>\n",
       "      <td>33.0</td>\n",
       "      <td>23.277736</td>\n",
       "      <td>None</td>\n",
       "      <td>None</td>\n",
       "    </tr>\n",
       "  </tbody>\n",
       "</table>\n",
       "</div>"
      ],
      "text/plain": [
       "    td_clusterid_kmeans  sepal_length  sepal_width  petal_length  petal_width   \n",
       "0                   1.0     -1.002067     0.906255     -1.303108    -1.256344  \\\n",
       "1                   4.0      2.128516     1.556130      1.501645     1.361077   \n",
       "2                   3.0      0.282819    -0.394297      0.524834     0.484549   \n",
       "3                   NaN           NaN          NaN           NaN          NaN   \n",
       "4                   2.0     -0.421517    -1.429452      0.039373    -0.052972   \n",
       "5                   NaN           NaN          NaN           NaN          NaN   \n",
       "6                   NaN           NaN          NaN           NaN          NaN   \n",
       "7                   NaN           NaN          NaN           NaN          NaN   \n",
       "8                   NaN           NaN          NaN           NaN          NaN   \n",
       "9                   NaN           NaN          NaN           NaN          NaN   \n",
       "10                  0.0      1.206905    -0.020369      1.088282     1.145679   \n",
       "\n",
       "    td_size_kmeans  td_withinss_kmeans    id   \n",
       "0             49.0           40.390995  None  \\\n",
       "1              3.0            0.800656  None   \n",
       "2             43.0           23.692572  None   \n",
       "3              NaN                 NaN  None   \n",
       "4             22.0           17.160812  None   \n",
       "5              NaN                 NaN  None   \n",
       "6              NaN                 NaN  None   \n",
       "7              NaN                 NaN  None   \n",
       "8              NaN                 NaN  None   \n",
       "9              NaN                 NaN  None   \n",
       "10            33.0           23.277736  None   \n",
       "\n",
       "                       td_modelinfo_kmeans  \n",
       "0                                     None  \n",
       "1                                     None  \n",
       "2                                     None  \n",
       "3                 Number of Iterations : 6  \n",
       "4                                     None  \n",
       "5    Total_WithinSS : 1.05322770595884E+02  \n",
       "6        Between_SS : 4.94677229404116E+02  \n",
       "7   Method for InitialCentroids : KMeans++  \n",
       "8                   Number of Clusters : 5  \n",
       "9                         Converged : True  \n",
       "10                                    None  "
      ]
     },
     "metadata": {},
     "output_type": "display_data"
    },
    {
     "name": "stdout",
     "output_type": "stream",
     "text": [
      "----------------------------------------------------------------------------------------------------\n"
     ]
    },
    {
     "data": {
      "text/html": [
       "<h3>Run 4</h3>"
      ],
      "text/plain": [
       "<IPython.core.display.HTML object>"
      ]
     },
     "metadata": {},
     "output_type": "display_data"
    },
    {
     "data": {
      "text/html": [
       "<div>\n",
       "<style scoped>\n",
       "    .dataframe tbody tr th:only-of-type {\n",
       "        vertical-align: middle;\n",
       "    }\n",
       "\n",
       "    .dataframe tbody tr th {\n",
       "        vertical-align: top;\n",
       "    }\n",
       "\n",
       "    .dataframe thead th {\n",
       "        text-align: right;\n",
       "    }\n",
       "</style>\n",
       "<table border=\"1\" class=\"dataframe\">\n",
       "  <thead>\n",
       "    <tr style=\"text-align: right;\">\n",
       "      <th></th>\n",
       "      <th>td_clusterid_kmeans</th>\n",
       "      <th>sepal_length</th>\n",
       "      <th>sepal_width</th>\n",
       "      <th>petal_length</th>\n",
       "      <th>petal_width</th>\n",
       "      <th>td_size_kmeans</th>\n",
       "      <th>td_withinss_kmeans</th>\n",
       "      <th>id</th>\n",
       "      <th>td_modelinfo_kmeans</th>\n",
       "    </tr>\n",
       "  </thead>\n",
       "  <tbody>\n",
       "    <tr>\n",
       "      <th>0</th>\n",
       "      <td>5.0</td>\n",
       "      <td>-0.574460</td>\n",
       "      <td>1.957499</td>\n",
       "      <td>-1.270273</td>\n",
       "      <td>-1.204063</td>\n",
       "      <td>13.0</td>\n",
       "      <td>4.369140</td>\n",
       "      <td>None</td>\n",
       "      <td>None</td>\n",
       "    </tr>\n",
       "    <tr>\n",
       "      <th>1</th>\n",
       "      <td>4.0</td>\n",
       "      <td>2.128516</td>\n",
       "      <td>1.556130</td>\n",
       "      <td>1.501645</td>\n",
       "      <td>1.361077</td>\n",
       "      <td>3.0</td>\n",
       "      <td>0.800656</td>\n",
       "      <td>None</td>\n",
       "      <td>None</td>\n",
       "    </tr>\n",
       "    <tr>\n",
       "      <th>2</th>\n",
       "      <td>3.0</td>\n",
       "      <td>0.282819</td>\n",
       "      <td>-0.394297</td>\n",
       "      <td>0.524834</td>\n",
       "      <td>0.484549</td>\n",
       "      <td>43.0</td>\n",
       "      <td>23.692572</td>\n",
       "      <td>None</td>\n",
       "      <td>None</td>\n",
       "    </tr>\n",
       "    <tr>\n",
       "      <th>3</th>\n",
       "      <td>NaN</td>\n",
       "      <td>NaN</td>\n",
       "      <td>NaN</td>\n",
       "      <td>NaN</td>\n",
       "      <td>NaN</td>\n",
       "      <td>NaN</td>\n",
       "      <td>NaN</td>\n",
       "      <td>None</td>\n",
       "      <td>Number of Iterations : 6</td>\n",
       "    </tr>\n",
       "    <tr>\n",
       "      <th>4</th>\n",
       "      <td>1.0</td>\n",
       "      <td>-1.156480</td>\n",
       "      <td>0.526639</td>\n",
       "      <td>-1.314965</td>\n",
       "      <td>-1.275223</td>\n",
       "      <td>36.0</td>\n",
       "      <td>13.164656</td>\n",
       "      <td>None</td>\n",
       "      <td>None</td>\n",
       "    </tr>\n",
       "    <tr>\n",
       "      <th>5</th>\n",
       "      <td>NaN</td>\n",
       "      <td>NaN</td>\n",
       "      <td>NaN</td>\n",
       "      <td>NaN</td>\n",
       "      <td>NaN</td>\n",
       "      <td>NaN</td>\n",
       "      <td>NaN</td>\n",
       "      <td>None</td>\n",
       "      <td>Total_WithinSS : 8.24655711304257E+01</td>\n",
       "    </tr>\n",
       "    <tr>\n",
       "      <th>6</th>\n",
       "      <td>2.0</td>\n",
       "      <td>-0.421517</td>\n",
       "      <td>-1.429452</td>\n",
       "      <td>0.039373</td>\n",
       "      <td>-0.052972</td>\n",
       "      <td>22.0</td>\n",
       "      <td>17.160812</td>\n",
       "      <td>None</td>\n",
       "      <td>None</td>\n",
       "    </tr>\n",
       "    <tr>\n",
       "      <th>7</th>\n",
       "      <td>NaN</td>\n",
       "      <td>NaN</td>\n",
       "      <td>NaN</td>\n",
       "      <td>NaN</td>\n",
       "      <td>NaN</td>\n",
       "      <td>NaN</td>\n",
       "      <td>NaN</td>\n",
       "      <td>None</td>\n",
       "      <td>Between_SS : 5.17534428869574E+02</td>\n",
       "    </tr>\n",
       "    <tr>\n",
       "      <th>8</th>\n",
       "      <td>NaN</td>\n",
       "      <td>NaN</td>\n",
       "      <td>NaN</td>\n",
       "      <td>NaN</td>\n",
       "      <td>NaN</td>\n",
       "      <td>NaN</td>\n",
       "      <td>NaN</td>\n",
       "      <td>None</td>\n",
       "      <td>Method for InitialCentroids : KMeans++</td>\n",
       "    </tr>\n",
       "    <tr>\n",
       "      <th>9</th>\n",
       "      <td>NaN</td>\n",
       "      <td>NaN</td>\n",
       "      <td>NaN</td>\n",
       "      <td>NaN</td>\n",
       "      <td>NaN</td>\n",
       "      <td>NaN</td>\n",
       "      <td>NaN</td>\n",
       "      <td>None</td>\n",
       "      <td>Number of Clusters : 6</td>\n",
       "    </tr>\n",
       "    <tr>\n",
       "      <th>10</th>\n",
       "      <td>NaN</td>\n",
       "      <td>NaN</td>\n",
       "      <td>NaN</td>\n",
       "      <td>NaN</td>\n",
       "      <td>NaN</td>\n",
       "      <td>NaN</td>\n",
       "      <td>NaN</td>\n",
       "      <td>None</td>\n",
       "      <td>Converged : True</td>\n",
       "    </tr>\n",
       "    <tr>\n",
       "      <th>11</th>\n",
       "      <td>0.0</td>\n",
       "      <td>1.206905</td>\n",
       "      <td>-0.020369</td>\n",
       "      <td>1.088282</td>\n",
       "      <td>1.145679</td>\n",
       "      <td>33.0</td>\n",
       "      <td>23.277736</td>\n",
       "      <td>None</td>\n",
       "      <td>None</td>\n",
       "    </tr>\n",
       "  </tbody>\n",
       "</table>\n",
       "</div>"
      ],
      "text/plain": [
       "    td_clusterid_kmeans  sepal_length  sepal_width  petal_length  petal_width   \n",
       "0                   5.0     -0.574460     1.957499     -1.270273    -1.204063  \\\n",
       "1                   4.0      2.128516     1.556130      1.501645     1.361077   \n",
       "2                   3.0      0.282819    -0.394297      0.524834     0.484549   \n",
       "3                   NaN           NaN          NaN           NaN          NaN   \n",
       "4                   1.0     -1.156480     0.526639     -1.314965    -1.275223   \n",
       "5                   NaN           NaN          NaN           NaN          NaN   \n",
       "6                   2.0     -0.421517    -1.429452      0.039373    -0.052972   \n",
       "7                   NaN           NaN          NaN           NaN          NaN   \n",
       "8                   NaN           NaN          NaN           NaN          NaN   \n",
       "9                   NaN           NaN          NaN           NaN          NaN   \n",
       "10                  NaN           NaN          NaN           NaN          NaN   \n",
       "11                  0.0      1.206905    -0.020369      1.088282     1.145679   \n",
       "\n",
       "    td_size_kmeans  td_withinss_kmeans    id   \n",
       "0             13.0            4.369140  None  \\\n",
       "1              3.0            0.800656  None   \n",
       "2             43.0           23.692572  None   \n",
       "3              NaN                 NaN  None   \n",
       "4             36.0           13.164656  None   \n",
       "5              NaN                 NaN  None   \n",
       "6             22.0           17.160812  None   \n",
       "7              NaN                 NaN  None   \n",
       "8              NaN                 NaN  None   \n",
       "9              NaN                 NaN  None   \n",
       "10             NaN                 NaN  None   \n",
       "11            33.0           23.277736  None   \n",
       "\n",
       "                       td_modelinfo_kmeans  \n",
       "0                                     None  \n",
       "1                                     None  \n",
       "2                                     None  \n",
       "3                 Number of Iterations : 6  \n",
       "4                                     None  \n",
       "5    Total_WithinSS : 8.24655711304257E+01  \n",
       "6                                     None  \n",
       "7        Between_SS : 5.17534428869574E+02  \n",
       "8   Method for InitialCentroids : KMeans++  \n",
       "9                   Number of Clusters : 6  \n",
       "10                        Converged : True  \n",
       "11                                    None  "
      ]
     },
     "metadata": {},
     "output_type": "display_data"
    },
    {
     "name": "stdout",
     "output_type": "stream",
     "text": [
      "----------------------------------------------------------------------------------------------------\n"
     ]
    },
    {
     "data": {
      "text/html": [
       "<h3>Run 5</h3>"
      ],
      "text/plain": [
       "<IPython.core.display.HTML object>"
      ]
     },
     "metadata": {},
     "output_type": "display_data"
    },
    {
     "data": {
      "text/html": [
       "<div>\n",
       "<style scoped>\n",
       "    .dataframe tbody tr th:only-of-type {\n",
       "        vertical-align: middle;\n",
       "    }\n",
       "\n",
       "    .dataframe tbody tr th {\n",
       "        vertical-align: top;\n",
       "    }\n",
       "\n",
       "    .dataframe thead th {\n",
       "        text-align: right;\n",
       "    }\n",
       "</style>\n",
       "<table border=\"1\" class=\"dataframe\">\n",
       "  <thead>\n",
       "    <tr style=\"text-align: right;\">\n",
       "      <th></th>\n",
       "      <th>td_clusterid_kmeans</th>\n",
       "      <th>sepal_length</th>\n",
       "      <th>sepal_width</th>\n",
       "      <th>petal_length</th>\n",
       "      <th>petal_width</th>\n",
       "      <th>td_size_kmeans</th>\n",
       "      <th>td_withinss_kmeans</th>\n",
       "      <th>id</th>\n",
       "      <th>td_modelinfo_kmeans</th>\n",
       "    </tr>\n",
       "  </thead>\n",
       "  <tbody>\n",
       "    <tr>\n",
       "      <th>0</th>\n",
       "      <td>5.0</td>\n",
       "      <td>-0.574460</td>\n",
       "      <td>1.957499</td>\n",
       "      <td>-1.270273</td>\n",
       "      <td>-1.204063</td>\n",
       "      <td>13.0</td>\n",
       "      <td>4.369140</td>\n",
       "      <td>None</td>\n",
       "      <td>None</td>\n",
       "    </tr>\n",
       "    <tr>\n",
       "      <th>1</th>\n",
       "      <td>4.0</td>\n",
       "      <td>2.128516</td>\n",
       "      <td>1.556130</td>\n",
       "      <td>1.501645</td>\n",
       "      <td>1.361077</td>\n",
       "      <td>3.0</td>\n",
       "      <td>0.800656</td>\n",
       "      <td>None</td>\n",
       "      <td>None</td>\n",
       "    </tr>\n",
       "    <tr>\n",
       "      <th>2</th>\n",
       "      <td>6.0</td>\n",
       "      <td>0.164321</td>\n",
       "      <td>-0.731703</td>\n",
       "      <td>0.487545</td>\n",
       "      <td>0.413094</td>\n",
       "      <td>38.0</td>\n",
       "      <td>22.433899</td>\n",
       "      <td>None</td>\n",
       "      <td>None</td>\n",
       "    </tr>\n",
       "    <tr>\n",
       "      <th>3</th>\n",
       "      <td>3.0</td>\n",
       "      <td>0.698735</td>\n",
       "      <td>0.061386</td>\n",
       "      <td>0.710468</td>\n",
       "      <td>0.748548</td>\n",
       "      <td>25.0</td>\n",
       "      <td>12.699900</td>\n",
       "      <td>None</td>\n",
       "      <td>None</td>\n",
       "    </tr>\n",
       "    <tr>\n",
       "      <th>4</th>\n",
       "      <td>NaN</td>\n",
       "      <td>NaN</td>\n",
       "      <td>NaN</td>\n",
       "      <td>NaN</td>\n",
       "      <td>NaN</td>\n",
       "      <td>NaN</td>\n",
       "      <td>NaN</td>\n",
       "      <td>None</td>\n",
       "      <td>Number of Iterations : 6</td>\n",
       "    </tr>\n",
       "    <tr>\n",
       "      <th>5</th>\n",
       "      <td>1.0</td>\n",
       "      <td>-1.156480</td>\n",
       "      <td>0.526639</td>\n",
       "      <td>-1.314965</td>\n",
       "      <td>-1.275223</td>\n",
       "      <td>36.0</td>\n",
       "      <td>13.164656</td>\n",
       "      <td>None</td>\n",
       "      <td>None</td>\n",
       "    </tr>\n",
       "    <tr>\n",
       "      <th>6</th>\n",
       "      <td>NaN</td>\n",
       "      <td>NaN</td>\n",
       "      <td>NaN</td>\n",
       "      <td>NaN</td>\n",
       "      <td>NaN</td>\n",
       "      <td>NaN</td>\n",
       "      <td>NaN</td>\n",
       "      <td>None</td>\n",
       "      <td>Total_WithinSS : 7.51315835195645E+01</td>\n",
       "    </tr>\n",
       "    <tr>\n",
       "      <th>7</th>\n",
       "      <td>2.0</td>\n",
       "      <td>-0.666423</td>\n",
       "      <td>-1.482467</td>\n",
       "      <td>-0.086014</td>\n",
       "      <td>-0.130755</td>\n",
       "      <td>15.0</td>\n",
       "      <td>10.179628</td>\n",
       "      <td>None</td>\n",
       "      <td>None</td>\n",
       "    </tr>\n",
       "    <tr>\n",
       "      <th>8</th>\n",
       "      <td>NaN</td>\n",
       "      <td>NaN</td>\n",
       "      <td>NaN</td>\n",
       "      <td>NaN</td>\n",
       "      <td>NaN</td>\n",
       "      <td>NaN</td>\n",
       "      <td>NaN</td>\n",
       "      <td>None</td>\n",
       "      <td>Between_SS : 5.24868416480435E+02</td>\n",
       "    </tr>\n",
       "    <tr>\n",
       "      <th>9</th>\n",
       "      <td>NaN</td>\n",
       "      <td>NaN</td>\n",
       "      <td>NaN</td>\n",
       "      <td>NaN</td>\n",
       "      <td>NaN</td>\n",
       "      <td>NaN</td>\n",
       "      <td>NaN</td>\n",
       "      <td>None</td>\n",
       "      <td>Method for InitialCentroids : KMeans++</td>\n",
       "    </tr>\n",
       "    <tr>\n",
       "      <th>10</th>\n",
       "      <td>NaN</td>\n",
       "      <td>NaN</td>\n",
       "      <td>NaN</td>\n",
       "      <td>NaN</td>\n",
       "      <td>NaN</td>\n",
       "      <td>NaN</td>\n",
       "      <td>NaN</td>\n",
       "      <td>None</td>\n",
       "      <td>Number of Clusters : 7</td>\n",
       "    </tr>\n",
       "    <tr>\n",
       "      <th>11</th>\n",
       "      <td>NaN</td>\n",
       "      <td>NaN</td>\n",
       "      <td>NaN</td>\n",
       "      <td>NaN</td>\n",
       "      <td>NaN</td>\n",
       "      <td>NaN</td>\n",
       "      <td>NaN</td>\n",
       "      <td>None</td>\n",
       "      <td>Converged : True</td>\n",
       "    </tr>\n",
       "    <tr>\n",
       "      <th>12</th>\n",
       "      <td>0.0</td>\n",
       "      <td>1.449976</td>\n",
       "      <td>-0.028391</td>\n",
       "      <td>1.217458</td>\n",
       "      <td>1.251383</td>\n",
       "      <td>20.0</td>\n",
       "      <td>11.483704</td>\n",
       "      <td>None</td>\n",
       "      <td>None</td>\n",
       "    </tr>\n",
       "  </tbody>\n",
       "</table>\n",
       "</div>"
      ],
      "text/plain": [
       "    td_clusterid_kmeans  sepal_length  sepal_width  petal_length  petal_width   \n",
       "0                   5.0     -0.574460     1.957499     -1.270273    -1.204063  \\\n",
       "1                   4.0      2.128516     1.556130      1.501645     1.361077   \n",
       "2                   6.0      0.164321    -0.731703      0.487545     0.413094   \n",
       "3                   3.0      0.698735     0.061386      0.710468     0.748548   \n",
       "4                   NaN           NaN          NaN           NaN          NaN   \n",
       "5                   1.0     -1.156480     0.526639     -1.314965    -1.275223   \n",
       "6                   NaN           NaN          NaN           NaN          NaN   \n",
       "7                   2.0     -0.666423    -1.482467     -0.086014    -0.130755   \n",
       "8                   NaN           NaN          NaN           NaN          NaN   \n",
       "9                   NaN           NaN          NaN           NaN          NaN   \n",
       "10                  NaN           NaN          NaN           NaN          NaN   \n",
       "11                  NaN           NaN          NaN           NaN          NaN   \n",
       "12                  0.0      1.449976    -0.028391      1.217458     1.251383   \n",
       "\n",
       "    td_size_kmeans  td_withinss_kmeans    id   \n",
       "0             13.0            4.369140  None  \\\n",
       "1              3.0            0.800656  None   \n",
       "2             38.0           22.433899  None   \n",
       "3             25.0           12.699900  None   \n",
       "4              NaN                 NaN  None   \n",
       "5             36.0           13.164656  None   \n",
       "6              NaN                 NaN  None   \n",
       "7             15.0           10.179628  None   \n",
       "8              NaN                 NaN  None   \n",
       "9              NaN                 NaN  None   \n",
       "10             NaN                 NaN  None   \n",
       "11             NaN                 NaN  None   \n",
       "12            20.0           11.483704  None   \n",
       "\n",
       "                       td_modelinfo_kmeans  \n",
       "0                                     None  \n",
       "1                                     None  \n",
       "2                                     None  \n",
       "3                                     None  \n",
       "4                 Number of Iterations : 6  \n",
       "5                                     None  \n",
       "6    Total_WithinSS : 7.51315835195645E+01  \n",
       "7                                     None  \n",
       "8        Between_SS : 5.24868416480435E+02  \n",
       "9   Method for InitialCentroids : KMeans++  \n",
       "10                  Number of Clusters : 7  \n",
       "11                        Converged : True  \n",
       "12                                    None  "
      ]
     },
     "metadata": {},
     "output_type": "display_data"
    },
    {
     "name": "stdout",
     "output_type": "stream",
     "text": [
      "----------------------------------------------------------------------------------------------------\n"
     ]
    }
   ],
   "source": [
    "for i, r in enumerate(tdkmeans_all.model_tables[:50]):\n",
    "    display(HTML(f\"<h3>Run {i}</h3>\"))\n",
    "    display(r)\n",
    "    print(\"-\"*100)"
   ]
  },
  {
   "cell_type": "markdown",
   "id": "c7e742e8",
   "metadata": {},
   "source": [
    "### TD_KMeans Output tables for all the queries ran"
   ]
  },
  {
   "cell_type": "code",
   "execution_count": 39,
   "id": "fbc57334",
   "metadata": {},
   "outputs": [
    {
     "data": {
      "text/html": [
       "<h3>Run 0</h3>"
      ],
      "text/plain": [
       "<IPython.core.display.HTML object>"
      ]
     },
     "metadata": {},
     "output_type": "display_data"
    },
    {
     "data": {
      "text/html": [
       "<div>\n",
       "<style scoped>\n",
       "    .dataframe tbody tr th:only-of-type {\n",
       "        vertical-align: middle;\n",
       "    }\n",
       "\n",
       "    .dataframe tbody tr th {\n",
       "        vertical-align: top;\n",
       "    }\n",
       "\n",
       "    .dataframe thead th {\n",
       "        text-align: right;\n",
       "    }\n",
       "</style>\n",
       "<table border=\"1\" class=\"dataframe\">\n",
       "  <thead>\n",
       "    <tr style=\"text-align: right;\">\n",
       "      <th></th>\n",
       "      <th>id</th>\n",
       "      <th>td_clusterid_kmeans</th>\n",
       "      <th>td_distance_kmeans</th>\n",
       "      <th>sepal_length</th>\n",
       "      <th>sepal_width</th>\n",
       "      <th>petal_length</th>\n",
       "      <th>petal_width</th>\n",
       "    </tr>\n",
       "  </thead>\n",
       "  <tbody>\n",
       "    <tr>\n",
       "      <th>0</th>\n",
       "      <td>76</td>\n",
       "      <td>0</td>\n",
       "      <td>0.766839</td>\n",
       "      <td>1.159173</td>\n",
       "      <td>-0.592373</td>\n",
       "      <td>0.592246</td>\n",
       "      <td>0.264142</td>\n",
       "    </tr>\n",
       "    <tr>\n",
       "      <th>1</th>\n",
       "      <td>101</td>\n",
       "      <td>0</td>\n",
       "      <td>0.754478</td>\n",
       "      <td>-0.052506</td>\n",
       "      <td>-0.822570</td>\n",
       "      <td>0.762758</td>\n",
       "      <td>0.922303</td>\n",
       "    </tr>\n",
       "    <tr>\n",
       "      <th>2</th>\n",
       "      <td>40</td>\n",
       "      <td>1</td>\n",
       "      <td>0.202617</td>\n",
       "      <td>-1.021849</td>\n",
       "      <td>1.019004</td>\n",
       "      <td>-1.397064</td>\n",
       "      <td>-1.183812</td>\n",
       "    </tr>\n",
       "    <tr>\n",
       "      <th>3</th>\n",
       "      <td>122</td>\n",
       "      <td>0</td>\n",
       "      <td>2.070027</td>\n",
       "      <td>2.249683</td>\n",
       "      <td>-0.592373</td>\n",
       "      <td>1.672157</td>\n",
       "      <td>1.053935</td>\n",
       "    </tr>\n",
       "    <tr>\n",
       "      <th>4</th>\n",
       "      <td>80</td>\n",
       "      <td>0</td>\n",
       "      <td>1.732934</td>\n",
       "      <td>-0.416010</td>\n",
       "      <td>-1.513160</td>\n",
       "      <td>0.023872</td>\n",
       "      <td>-0.130755</td>\n",
       "    </tr>\n",
       "    <tr>\n",
       "      <th>...</th>\n",
       "      <td>...</td>\n",
       "      <td>...</td>\n",
       "      <td>...</td>\n",
       "      <td>...</td>\n",
       "      <td>...</td>\n",
       "      <td>...</td>\n",
       "      <td>...</td>\n",
       "    </tr>\n",
       "    <tr>\n",
       "      <th>145</th>\n",
       "      <td>103</td>\n",
       "      <td>0</td>\n",
       "      <td>0.434176</td>\n",
       "      <td>0.553333</td>\n",
       "      <td>-0.362176</td>\n",
       "      <td>1.046945</td>\n",
       "      <td>0.790671</td>\n",
       "    </tr>\n",
       "    <tr>\n",
       "      <th>146</th>\n",
       "      <td>132</td>\n",
       "      <td>0</td>\n",
       "      <td>0.828722</td>\n",
       "      <td>0.674501</td>\n",
       "      <td>-0.592373</td>\n",
       "      <td>1.046945</td>\n",
       "      <td>1.317199</td>\n",
       "    </tr>\n",
       "    <tr>\n",
       "      <th>147</th>\n",
       "      <td>145</td>\n",
       "      <td>0</td>\n",
       "      <td>1.034927</td>\n",
       "      <td>1.038005</td>\n",
       "      <td>-0.131979</td>\n",
       "      <td>0.819596</td>\n",
       "      <td>1.448832</td>\n",
       "    </tr>\n",
       "    <tr>\n",
       "      <th>148</th>\n",
       "      <td>23</td>\n",
       "      <td>1</td>\n",
       "      <td>0.479456</td>\n",
       "      <td>-0.900681</td>\n",
       "      <td>0.558611</td>\n",
       "      <td>-1.169714</td>\n",
       "      <td>-0.920548</td>\n",
       "    </tr>\n",
       "    <tr>\n",
       "      <th>149</th>\n",
       "      <td>2</td>\n",
       "      <td>1</td>\n",
       "      <td>0.651984</td>\n",
       "      <td>-1.385353</td>\n",
       "      <td>0.328414</td>\n",
       "      <td>-1.397064</td>\n",
       "      <td>-1.315444</td>\n",
       "    </tr>\n",
       "  </tbody>\n",
       "</table>\n",
       "<p>150 rows × 7 columns</p>\n",
       "</div>"
      ],
      "text/plain": [
       "      id  td_clusterid_kmeans  td_distance_kmeans  sepal_length  sepal_width   \n",
       "0     76                    0            0.766839      1.159173    -0.592373  \\\n",
       "1    101                    0            0.754478     -0.052506    -0.822570   \n",
       "2     40                    1            0.202617     -1.021849     1.019004   \n",
       "3    122                    0            2.070027      2.249683    -0.592373   \n",
       "4     80                    0            1.732934     -0.416010    -1.513160   \n",
       "..   ...                  ...                 ...           ...          ...   \n",
       "145  103                    0            0.434176      0.553333    -0.362176   \n",
       "146  132                    0            0.828722      0.674501    -0.592373   \n",
       "147  145                    0            1.034927      1.038005    -0.131979   \n",
       "148   23                    1            0.479456     -0.900681     0.558611   \n",
       "149    2                    1            0.651984     -1.385353     0.328414   \n",
       "\n",
       "     petal_length  petal_width  \n",
       "0        0.592246     0.264142  \n",
       "1        0.762758     0.922303  \n",
       "2       -1.397064    -1.183812  \n",
       "3        1.672157     1.053935  \n",
       "4        0.023872    -0.130755  \n",
       "..            ...          ...  \n",
       "145      1.046945     0.790671  \n",
       "146      1.046945     1.317199  \n",
       "147      0.819596     1.448832  \n",
       "148     -1.169714    -0.920548  \n",
       "149     -1.397064    -1.315444  \n",
       "\n",
       "[150 rows x 7 columns]"
      ]
     },
     "metadata": {},
     "output_type": "display_data"
    },
    {
     "name": "stdout",
     "output_type": "stream",
     "text": [
      "----------------------------------------------------------------------------------------------------\n"
     ]
    },
    {
     "data": {
      "text/html": [
       "<h3>Run 1</h3>"
      ],
      "text/plain": [
       "<IPython.core.display.HTML object>"
      ]
     },
     "metadata": {},
     "output_type": "display_data"
    },
    {
     "data": {
      "text/html": [
       "<div>\n",
       "<style scoped>\n",
       "    .dataframe tbody tr th:only-of-type {\n",
       "        vertical-align: middle;\n",
       "    }\n",
       "\n",
       "    .dataframe tbody tr th {\n",
       "        vertical-align: top;\n",
       "    }\n",
       "\n",
       "    .dataframe thead th {\n",
       "        text-align: right;\n",
       "    }\n",
       "</style>\n",
       "<table border=\"1\" class=\"dataframe\">\n",
       "  <thead>\n",
       "    <tr style=\"text-align: right;\">\n",
       "      <th></th>\n",
       "      <th>id</th>\n",
       "      <th>td_clusterid_kmeans</th>\n",
       "      <th>td_distance_kmeans</th>\n",
       "      <th>sepal_length</th>\n",
       "      <th>sepal_width</th>\n",
       "      <th>petal_length</th>\n",
       "      <th>petal_width</th>\n",
       "    </tr>\n",
       "  </thead>\n",
       "  <tbody>\n",
       "    <tr>\n",
       "      <th>0</th>\n",
       "      <td>76</td>\n",
       "      <td>0</td>\n",
       "      <td>0.752570</td>\n",
       "      <td>1.159173</td>\n",
       "      <td>-0.592373</td>\n",
       "      <td>0.592246</td>\n",
       "      <td>0.264142</td>\n",
       "    </tr>\n",
       "    <tr>\n",
       "      <th>1</th>\n",
       "      <td>101</td>\n",
       "      <td>0</td>\n",
       "      <td>0.826033</td>\n",
       "      <td>-0.052506</td>\n",
       "      <td>-0.822570</td>\n",
       "      <td>0.762758</td>\n",
       "      <td>0.922303</td>\n",
       "    </tr>\n",
       "    <tr>\n",
       "      <th>2</th>\n",
       "      <td>40</td>\n",
       "      <td>2</td>\n",
       "      <td>0.381694</td>\n",
       "      <td>-1.021849</td>\n",
       "      <td>1.019004</td>\n",
       "      <td>-1.397064</td>\n",
       "      <td>-1.183812</td>\n",
       "    </tr>\n",
       "    <tr>\n",
       "      <th>3</th>\n",
       "      <td>122</td>\n",
       "      <td>0</td>\n",
       "      <td>1.982431</td>\n",
       "      <td>2.249683</td>\n",
       "      <td>-0.592373</td>\n",
       "      <td>1.672157</td>\n",
       "      <td>1.053935</td>\n",
       "    </tr>\n",
       "    <tr>\n",
       "      <th>4</th>\n",
       "      <td>80</td>\n",
       "      <td>0</td>\n",
       "      <td>1.851070</td>\n",
       "      <td>-0.416010</td>\n",
       "      <td>-1.513160</td>\n",
       "      <td>0.023872</td>\n",
       "      <td>-0.130755</td>\n",
       "    </tr>\n",
       "    <tr>\n",
       "      <th>...</th>\n",
       "      <td>...</td>\n",
       "      <td>...</td>\n",
       "      <td>...</td>\n",
       "      <td>...</td>\n",
       "      <td>...</td>\n",
       "      <td>...</td>\n",
       "      <td>...</td>\n",
       "    </tr>\n",
       "    <tr>\n",
       "      <th>145</th>\n",
       "      <td>103</td>\n",
       "      <td>0</td>\n",
       "      <td>0.368660</td>\n",
       "      <td>0.553333</td>\n",
       "      <td>-0.362176</td>\n",
       "      <td>1.046945</td>\n",
       "      <td>0.790671</td>\n",
       "    </tr>\n",
       "    <tr>\n",
       "      <th>146</th>\n",
       "      <td>132</td>\n",
       "      <td>0</td>\n",
       "      <td>0.774052</td>\n",
       "      <td>0.674501</td>\n",
       "      <td>-0.592373</td>\n",
       "      <td>1.046945</td>\n",
       "      <td>1.317199</td>\n",
       "    </tr>\n",
       "    <tr>\n",
       "      <th>147</th>\n",
       "      <td>145</td>\n",
       "      <td>0</td>\n",
       "      <td>0.936514</td>\n",
       "      <td>1.038005</td>\n",
       "      <td>-0.131979</td>\n",
       "      <td>0.819596</td>\n",
       "      <td>1.448832</td>\n",
       "    </tr>\n",
       "    <tr>\n",
       "      <th>148</th>\n",
       "      <td>23</td>\n",
       "      <td>2</td>\n",
       "      <td>0.829744</td>\n",
       "      <td>-0.900681</td>\n",
       "      <td>0.558611</td>\n",
       "      <td>-1.169714</td>\n",
       "      <td>-0.920548</td>\n",
       "    </tr>\n",
       "    <tr>\n",
       "      <th>149</th>\n",
       "      <td>2</td>\n",
       "      <td>1</td>\n",
       "      <td>0.854862</td>\n",
       "      <td>-1.385353</td>\n",
       "      <td>0.328414</td>\n",
       "      <td>-1.397064</td>\n",
       "      <td>-1.315444</td>\n",
       "    </tr>\n",
       "  </tbody>\n",
       "</table>\n",
       "<p>150 rows × 7 columns</p>\n",
       "</div>"
      ],
      "text/plain": [
       "      id  td_clusterid_kmeans  td_distance_kmeans  sepal_length  sepal_width   \n",
       "0     76                    0            0.752570      1.159173    -0.592373  \\\n",
       "1    101                    0            0.826033     -0.052506    -0.822570   \n",
       "2     40                    2            0.381694     -1.021849     1.019004   \n",
       "3    122                    0            1.982431      2.249683    -0.592373   \n",
       "4     80                    0            1.851070     -0.416010    -1.513160   \n",
       "..   ...                  ...                 ...           ...          ...   \n",
       "145  103                    0            0.368660      0.553333    -0.362176   \n",
       "146  132                    0            0.774052      0.674501    -0.592373   \n",
       "147  145                    0            0.936514      1.038005    -0.131979   \n",
       "148   23                    2            0.829744     -0.900681     0.558611   \n",
       "149    2                    1            0.854862     -1.385353     0.328414   \n",
       "\n",
       "     petal_length  petal_width  \n",
       "0        0.592246     0.264142  \n",
       "1        0.762758     0.922303  \n",
       "2       -1.397064    -1.183812  \n",
       "3        1.672157     1.053935  \n",
       "4        0.023872    -0.130755  \n",
       "..            ...          ...  \n",
       "145      1.046945     0.790671  \n",
       "146      1.046945     1.317199  \n",
       "147      0.819596     1.448832  \n",
       "148     -1.169714    -0.920548  \n",
       "149     -1.397064    -1.315444  \n",
       "\n",
       "[150 rows x 7 columns]"
      ]
     },
     "metadata": {},
     "output_type": "display_data"
    },
    {
     "name": "stdout",
     "output_type": "stream",
     "text": [
      "----------------------------------------------------------------------------------------------------\n"
     ]
    },
    {
     "data": {
      "text/html": [
       "<h3>Run 2</h3>"
      ],
      "text/plain": [
       "<IPython.core.display.HTML object>"
      ]
     },
     "metadata": {},
     "output_type": "display_data"
    },
    {
     "data": {
      "text/html": [
       "<div>\n",
       "<style scoped>\n",
       "    .dataframe tbody tr th:only-of-type {\n",
       "        vertical-align: middle;\n",
       "    }\n",
       "\n",
       "    .dataframe tbody tr th {\n",
       "        vertical-align: top;\n",
       "    }\n",
       "\n",
       "    .dataframe thead th {\n",
       "        text-align: right;\n",
       "    }\n",
       "</style>\n",
       "<table border=\"1\" class=\"dataframe\">\n",
       "  <thead>\n",
       "    <tr style=\"text-align: right;\">\n",
       "      <th></th>\n",
       "      <th>id</th>\n",
       "      <th>td_clusterid_kmeans</th>\n",
       "      <th>td_distance_kmeans</th>\n",
       "      <th>sepal_length</th>\n",
       "      <th>sepal_width</th>\n",
       "      <th>petal_length</th>\n",
       "      <th>petal_width</th>\n",
       "    </tr>\n",
       "  </thead>\n",
       "  <tbody>\n",
       "    <tr>\n",
       "      <th>0</th>\n",
       "      <td>76</td>\n",
       "      <td>3</td>\n",
       "      <td>0.873773</td>\n",
       "      <td>1.159173</td>\n",
       "      <td>-0.592373</td>\n",
       "      <td>0.592246</td>\n",
       "      <td>0.264142</td>\n",
       "    </tr>\n",
       "    <tr>\n",
       "      <th>1</th>\n",
       "      <td>101</td>\n",
       "      <td>3</td>\n",
       "      <td>0.722394</td>\n",
       "      <td>-0.052506</td>\n",
       "      <td>-0.822570</td>\n",
       "      <td>0.762758</td>\n",
       "      <td>0.922303</td>\n",
       "    </tr>\n",
       "    <tr>\n",
       "      <th>2</th>\n",
       "      <td>40</td>\n",
       "      <td>1</td>\n",
       "      <td>0.164901</td>\n",
       "      <td>-1.021849</td>\n",
       "      <td>1.019004</td>\n",
       "      <td>-1.397064</td>\n",
       "      <td>-1.183812</td>\n",
       "    </tr>\n",
       "    <tr>\n",
       "      <th>3</th>\n",
       "      <td>122</td>\n",
       "      <td>0</td>\n",
       "      <td>1.302453</td>\n",
       "      <td>2.249683</td>\n",
       "      <td>-0.592373</td>\n",
       "      <td>1.672157</td>\n",
       "      <td>1.053935</td>\n",
       "    </tr>\n",
       "    <tr>\n",
       "      <th>4</th>\n",
       "      <td>80</td>\n",
       "      <td>2</td>\n",
       "      <td>0.115446</td>\n",
       "      <td>-0.416010</td>\n",
       "      <td>-1.513160</td>\n",
       "      <td>0.023872</td>\n",
       "      <td>-0.130755</td>\n",
       "    </tr>\n",
       "    <tr>\n",
       "      <th>...</th>\n",
       "      <td>...</td>\n",
       "      <td>...</td>\n",
       "      <td>...</td>\n",
       "      <td>...</td>\n",
       "      <td>...</td>\n",
       "      <td>...</td>\n",
       "      <td>...</td>\n",
       "    </tr>\n",
       "    <tr>\n",
       "      <th>145</th>\n",
       "      <td>103</td>\n",
       "      <td>3</td>\n",
       "      <td>0.556942</td>\n",
       "      <td>0.553333</td>\n",
       "      <td>-0.362176</td>\n",
       "      <td>1.046945</td>\n",
       "      <td>0.790671</td>\n",
       "    </tr>\n",
       "    <tr>\n",
       "      <th>146</th>\n",
       "      <td>132</td>\n",
       "      <td>3</td>\n",
       "      <td>0.971017</td>\n",
       "      <td>0.674501</td>\n",
       "      <td>-0.592373</td>\n",
       "      <td>1.046945</td>\n",
       "      <td>1.317199</td>\n",
       "    </tr>\n",
       "    <tr>\n",
       "      <th>147</th>\n",
       "      <td>145</td>\n",
       "      <td>0</td>\n",
       "      <td>0.657516</td>\n",
       "      <td>1.038005</td>\n",
       "      <td>-0.131979</td>\n",
       "      <td>0.819596</td>\n",
       "      <td>1.448832</td>\n",
       "    </tr>\n",
       "    <tr>\n",
       "      <th>148</th>\n",
       "      <td>23</td>\n",
       "      <td>1</td>\n",
       "      <td>0.511555</td>\n",
       "      <td>-0.900681</td>\n",
       "      <td>0.558611</td>\n",
       "      <td>-1.169714</td>\n",
       "      <td>-0.920548</td>\n",
       "    </tr>\n",
       "    <tr>\n",
       "      <th>149</th>\n",
       "      <td>2</td>\n",
       "      <td>1</td>\n",
       "      <td>0.702231</td>\n",
       "      <td>-1.385353</td>\n",
       "      <td>0.328414</td>\n",
       "      <td>-1.397064</td>\n",
       "      <td>-1.315444</td>\n",
       "    </tr>\n",
       "  </tbody>\n",
       "</table>\n",
       "<p>150 rows × 7 columns</p>\n",
       "</div>"
      ],
      "text/plain": [
       "      id  td_clusterid_kmeans  td_distance_kmeans  sepal_length  sepal_width   \n",
       "0     76                    3            0.873773      1.159173    -0.592373  \\\n",
       "1    101                    3            0.722394     -0.052506    -0.822570   \n",
       "2     40                    1            0.164901     -1.021849     1.019004   \n",
       "3    122                    0            1.302453      2.249683    -0.592373   \n",
       "4     80                    2            0.115446     -0.416010    -1.513160   \n",
       "..   ...                  ...                 ...           ...          ...   \n",
       "145  103                    3            0.556942      0.553333    -0.362176   \n",
       "146  132                    3            0.971017      0.674501    -0.592373   \n",
       "147  145                    0            0.657516      1.038005    -0.131979   \n",
       "148   23                    1            0.511555     -0.900681     0.558611   \n",
       "149    2                    1            0.702231     -1.385353     0.328414   \n",
       "\n",
       "     petal_length  petal_width  \n",
       "0        0.592246     0.264142  \n",
       "1        0.762758     0.922303  \n",
       "2       -1.397064    -1.183812  \n",
       "3        1.672157     1.053935  \n",
       "4        0.023872    -0.130755  \n",
       "..            ...          ...  \n",
       "145      1.046945     0.790671  \n",
       "146      1.046945     1.317199  \n",
       "147      0.819596     1.448832  \n",
       "148     -1.169714    -0.920548  \n",
       "149     -1.397064    -1.315444  \n",
       "\n",
       "[150 rows x 7 columns]"
      ]
     },
     "metadata": {},
     "output_type": "display_data"
    },
    {
     "name": "stdout",
     "output_type": "stream",
     "text": [
      "----------------------------------------------------------------------------------------------------\n"
     ]
    },
    {
     "data": {
      "text/html": [
       "<h3>Run 3</h3>"
      ],
      "text/plain": [
       "<IPython.core.display.HTML object>"
      ]
     },
     "metadata": {},
     "output_type": "display_data"
    },
    {
     "data": {
      "text/html": [
       "<div>\n",
       "<style scoped>\n",
       "    .dataframe tbody tr th:only-of-type {\n",
       "        vertical-align: middle;\n",
       "    }\n",
       "\n",
       "    .dataframe tbody tr th {\n",
       "        vertical-align: top;\n",
       "    }\n",
       "\n",
       "    .dataframe thead th {\n",
       "        text-align: right;\n",
       "    }\n",
       "</style>\n",
       "<table border=\"1\" class=\"dataframe\">\n",
       "  <thead>\n",
       "    <tr style=\"text-align: right;\">\n",
       "      <th></th>\n",
       "      <th>id</th>\n",
       "      <th>td_clusterid_kmeans</th>\n",
       "      <th>td_distance_kmeans</th>\n",
       "      <th>sepal_length</th>\n",
       "      <th>sepal_width</th>\n",
       "      <th>petal_length</th>\n",
       "      <th>petal_width</th>\n",
       "    </tr>\n",
       "  </thead>\n",
       "  <tbody>\n",
       "    <tr>\n",
       "      <th>0</th>\n",
       "      <td>76</td>\n",
       "      <td>3</td>\n",
       "      <td>0.927553</td>\n",
       "      <td>1.159173</td>\n",
       "      <td>-0.592373</td>\n",
       "      <td>0.592246</td>\n",
       "      <td>0.264142</td>\n",
       "    </tr>\n",
       "    <tr>\n",
       "      <th>1</th>\n",
       "      <td>101</td>\n",
       "      <td>3</td>\n",
       "      <td>0.737629</td>\n",
       "      <td>-0.052506</td>\n",
       "      <td>-0.822570</td>\n",
       "      <td>0.762758</td>\n",
       "      <td>0.922303</td>\n",
       "    </tr>\n",
       "    <tr>\n",
       "      <th>2</th>\n",
       "      <td>40</td>\n",
       "      <td>1</td>\n",
       "      <td>0.164901</td>\n",
       "      <td>-1.021849</td>\n",
       "      <td>1.019004</td>\n",
       "      <td>-1.397064</td>\n",
       "      <td>-1.183812</td>\n",
       "    </tr>\n",
       "    <tr>\n",
       "      <th>3</th>\n",
       "      <td>122</td>\n",
       "      <td>0</td>\n",
       "      <td>1.328120</td>\n",
       "      <td>2.249683</td>\n",
       "      <td>-0.592373</td>\n",
       "      <td>1.672157</td>\n",
       "      <td>1.053935</td>\n",
       "    </tr>\n",
       "    <tr>\n",
       "      <th>4</th>\n",
       "      <td>80</td>\n",
       "      <td>2</td>\n",
       "      <td>0.115446</td>\n",
       "      <td>-0.416010</td>\n",
       "      <td>-1.513160</td>\n",
       "      <td>0.023872</td>\n",
       "      <td>-0.130755</td>\n",
       "    </tr>\n",
       "    <tr>\n",
       "      <th>...</th>\n",
       "      <td>...</td>\n",
       "      <td>...</td>\n",
       "      <td>...</td>\n",
       "      <td>...</td>\n",
       "      <td>...</td>\n",
       "      <td>...</td>\n",
       "      <td>...</td>\n",
       "    </tr>\n",
       "    <tr>\n",
       "      <th>145</th>\n",
       "      <td>103</td>\n",
       "      <td>3</td>\n",
       "      <td>0.663717</td>\n",
       "      <td>0.553333</td>\n",
       "      <td>-0.362176</td>\n",
       "      <td>1.046945</td>\n",
       "      <td>0.790671</td>\n",
       "    </tr>\n",
       "    <tr>\n",
       "      <th>146</th>\n",
       "      <td>132</td>\n",
       "      <td>0</td>\n",
       "      <td>0.801106</td>\n",
       "      <td>0.674501</td>\n",
       "      <td>-0.592373</td>\n",
       "      <td>1.046945</td>\n",
       "      <td>1.317199</td>\n",
       "    </tr>\n",
       "    <tr>\n",
       "      <th>147</th>\n",
       "      <td>145</td>\n",
       "      <td>0</td>\n",
       "      <td>0.452856</td>\n",
       "      <td>1.038005</td>\n",
       "      <td>-0.131979</td>\n",
       "      <td>0.819596</td>\n",
       "      <td>1.448832</td>\n",
       "    </tr>\n",
       "    <tr>\n",
       "      <th>148</th>\n",
       "      <td>23</td>\n",
       "      <td>1</td>\n",
       "      <td>0.511555</td>\n",
       "      <td>-0.900681</td>\n",
       "      <td>0.558611</td>\n",
       "      <td>-1.169714</td>\n",
       "      <td>-0.920548</td>\n",
       "    </tr>\n",
       "    <tr>\n",
       "      <th>149</th>\n",
       "      <td>2</td>\n",
       "      <td>1</td>\n",
       "      <td>0.702231</td>\n",
       "      <td>-1.385353</td>\n",
       "      <td>0.328414</td>\n",
       "      <td>-1.397064</td>\n",
       "      <td>-1.315444</td>\n",
       "    </tr>\n",
       "  </tbody>\n",
       "</table>\n",
       "<p>150 rows × 7 columns</p>\n",
       "</div>"
      ],
      "text/plain": [
       "      id  td_clusterid_kmeans  td_distance_kmeans  sepal_length  sepal_width   \n",
       "0     76                    3            0.927553      1.159173    -0.592373  \\\n",
       "1    101                    3            0.737629     -0.052506    -0.822570   \n",
       "2     40                    1            0.164901     -1.021849     1.019004   \n",
       "3    122                    0            1.328120      2.249683    -0.592373   \n",
       "4     80                    2            0.115446     -0.416010    -1.513160   \n",
       "..   ...                  ...                 ...           ...          ...   \n",
       "145  103                    3            0.663717      0.553333    -0.362176   \n",
       "146  132                    0            0.801106      0.674501    -0.592373   \n",
       "147  145                    0            0.452856      1.038005    -0.131979   \n",
       "148   23                    1            0.511555     -0.900681     0.558611   \n",
       "149    2                    1            0.702231     -1.385353     0.328414   \n",
       "\n",
       "     petal_length  petal_width  \n",
       "0        0.592246     0.264142  \n",
       "1        0.762758     0.922303  \n",
       "2       -1.397064    -1.183812  \n",
       "3        1.672157     1.053935  \n",
       "4        0.023872    -0.130755  \n",
       "..            ...          ...  \n",
       "145      1.046945     0.790671  \n",
       "146      1.046945     1.317199  \n",
       "147      0.819596     1.448832  \n",
       "148     -1.169714    -0.920548  \n",
       "149     -1.397064    -1.315444  \n",
       "\n",
       "[150 rows x 7 columns]"
      ]
     },
     "metadata": {},
     "output_type": "display_data"
    },
    {
     "name": "stdout",
     "output_type": "stream",
     "text": [
      "----------------------------------------------------------------------------------------------------\n"
     ]
    },
    {
     "data": {
      "text/html": [
       "<h3>Run 4</h3>"
      ],
      "text/plain": [
       "<IPython.core.display.HTML object>"
      ]
     },
     "metadata": {},
     "output_type": "display_data"
    },
    {
     "data": {
      "text/html": [
       "<div>\n",
       "<style scoped>\n",
       "    .dataframe tbody tr th:only-of-type {\n",
       "        vertical-align: middle;\n",
       "    }\n",
       "\n",
       "    .dataframe tbody tr th {\n",
       "        vertical-align: top;\n",
       "    }\n",
       "\n",
       "    .dataframe thead th {\n",
       "        text-align: right;\n",
       "    }\n",
       "</style>\n",
       "<table border=\"1\" class=\"dataframe\">\n",
       "  <thead>\n",
       "    <tr style=\"text-align: right;\">\n",
       "      <th></th>\n",
       "      <th>id</th>\n",
       "      <th>td_clusterid_kmeans</th>\n",
       "      <th>td_distance_kmeans</th>\n",
       "      <th>sepal_length</th>\n",
       "      <th>sepal_width</th>\n",
       "      <th>petal_length</th>\n",
       "      <th>petal_width</th>\n",
       "    </tr>\n",
       "  </thead>\n",
       "  <tbody>\n",
       "    <tr>\n",
       "      <th>0</th>\n",
       "      <td>76</td>\n",
       "      <td>3</td>\n",
       "      <td>0.927553</td>\n",
       "      <td>1.159173</td>\n",
       "      <td>-0.592373</td>\n",
       "      <td>0.592246</td>\n",
       "      <td>0.264142</td>\n",
       "    </tr>\n",
       "    <tr>\n",
       "      <th>1</th>\n",
       "      <td>101</td>\n",
       "      <td>3</td>\n",
       "      <td>0.737629</td>\n",
       "      <td>-0.052506</td>\n",
       "      <td>-0.822570</td>\n",
       "      <td>0.762758</td>\n",
       "      <td>0.922303</td>\n",
       "    </tr>\n",
       "    <tr>\n",
       "      <th>2</th>\n",
       "      <td>40</td>\n",
       "      <td>1</td>\n",
       "      <td>0.525019</td>\n",
       "      <td>-1.021849</td>\n",
       "      <td>1.019004</td>\n",
       "      <td>-1.397064</td>\n",
       "      <td>-1.183812</td>\n",
       "    </tr>\n",
       "    <tr>\n",
       "      <th>3</th>\n",
       "      <td>122</td>\n",
       "      <td>0</td>\n",
       "      <td>1.328120</td>\n",
       "      <td>2.249683</td>\n",
       "      <td>-0.592373</td>\n",
       "      <td>1.672157</td>\n",
       "      <td>1.053935</td>\n",
       "    </tr>\n",
       "    <tr>\n",
       "      <th>4</th>\n",
       "      <td>80</td>\n",
       "      <td>2</td>\n",
       "      <td>0.115446</td>\n",
       "      <td>-0.416010</td>\n",
       "      <td>-1.513160</td>\n",
       "      <td>0.023872</td>\n",
       "      <td>-0.130755</td>\n",
       "    </tr>\n",
       "    <tr>\n",
       "      <th>...</th>\n",
       "      <td>...</td>\n",
       "      <td>...</td>\n",
       "      <td>...</td>\n",
       "      <td>...</td>\n",
       "      <td>...</td>\n",
       "      <td>...</td>\n",
       "      <td>...</td>\n",
       "    </tr>\n",
       "    <tr>\n",
       "      <th>145</th>\n",
       "      <td>103</td>\n",
       "      <td>3</td>\n",
       "      <td>0.663717</td>\n",
       "      <td>0.553333</td>\n",
       "      <td>-0.362176</td>\n",
       "      <td>1.046945</td>\n",
       "      <td>0.790671</td>\n",
       "    </tr>\n",
       "    <tr>\n",
       "      <th>146</th>\n",
       "      <td>132</td>\n",
       "      <td>0</td>\n",
       "      <td>0.801106</td>\n",
       "      <td>0.674501</td>\n",
       "      <td>-0.592373</td>\n",
       "      <td>1.046945</td>\n",
       "      <td>1.317199</td>\n",
       "    </tr>\n",
       "    <tr>\n",
       "      <th>147</th>\n",
       "      <td>145</td>\n",
       "      <td>0</td>\n",
       "      <td>0.452856</td>\n",
       "      <td>1.038005</td>\n",
       "      <td>-0.131979</td>\n",
       "      <td>0.819596</td>\n",
       "      <td>1.448832</td>\n",
       "    </tr>\n",
       "    <tr>\n",
       "      <th>148</th>\n",
       "      <td>23</td>\n",
       "      <td>1</td>\n",
       "      <td>0.461896</td>\n",
       "      <td>-0.900681</td>\n",
       "      <td>0.558611</td>\n",
       "      <td>-1.169714</td>\n",
       "      <td>-0.920548</td>\n",
       "    </tr>\n",
       "    <tr>\n",
       "      <th>149</th>\n",
       "      <td>2</td>\n",
       "      <td>1</td>\n",
       "      <td>0.316281</td>\n",
       "      <td>-1.385353</td>\n",
       "      <td>0.328414</td>\n",
       "      <td>-1.397064</td>\n",
       "      <td>-1.315444</td>\n",
       "    </tr>\n",
       "  </tbody>\n",
       "</table>\n",
       "<p>150 rows × 7 columns</p>\n",
       "</div>"
      ],
      "text/plain": [
       "      id  td_clusterid_kmeans  td_distance_kmeans  sepal_length  sepal_width   \n",
       "0     76                    3            0.927553      1.159173    -0.592373  \\\n",
       "1    101                    3            0.737629     -0.052506    -0.822570   \n",
       "2     40                    1            0.525019     -1.021849     1.019004   \n",
       "3    122                    0            1.328120      2.249683    -0.592373   \n",
       "4     80                    2            0.115446     -0.416010    -1.513160   \n",
       "..   ...                  ...                 ...           ...          ...   \n",
       "145  103                    3            0.663717      0.553333    -0.362176   \n",
       "146  132                    0            0.801106      0.674501    -0.592373   \n",
       "147  145                    0            0.452856      1.038005    -0.131979   \n",
       "148   23                    1            0.461896     -0.900681     0.558611   \n",
       "149    2                    1            0.316281     -1.385353     0.328414   \n",
       "\n",
       "     petal_length  petal_width  \n",
       "0        0.592246     0.264142  \n",
       "1        0.762758     0.922303  \n",
       "2       -1.397064    -1.183812  \n",
       "3        1.672157     1.053935  \n",
       "4        0.023872    -0.130755  \n",
       "..            ...          ...  \n",
       "145      1.046945     0.790671  \n",
       "146      1.046945     1.317199  \n",
       "147      0.819596     1.448832  \n",
       "148     -1.169714    -0.920548  \n",
       "149     -1.397064    -1.315444  \n",
       "\n",
       "[150 rows x 7 columns]"
      ]
     },
     "metadata": {},
     "output_type": "display_data"
    },
    {
     "name": "stdout",
     "output_type": "stream",
     "text": [
      "----------------------------------------------------------------------------------------------------\n"
     ]
    },
    {
     "data": {
      "text/html": [
       "<h3>Run 5</h3>"
      ],
      "text/plain": [
       "<IPython.core.display.HTML object>"
      ]
     },
     "metadata": {},
     "output_type": "display_data"
    },
    {
     "data": {
      "text/html": [
       "<div>\n",
       "<style scoped>\n",
       "    .dataframe tbody tr th:only-of-type {\n",
       "        vertical-align: middle;\n",
       "    }\n",
       "\n",
       "    .dataframe tbody tr th {\n",
       "        vertical-align: top;\n",
       "    }\n",
       "\n",
       "    .dataframe thead th {\n",
       "        text-align: right;\n",
       "    }\n",
       "</style>\n",
       "<table border=\"1\" class=\"dataframe\">\n",
       "  <thead>\n",
       "    <tr style=\"text-align: right;\">\n",
       "      <th></th>\n",
       "      <th>id</th>\n",
       "      <th>td_clusterid_kmeans</th>\n",
       "      <th>td_distance_kmeans</th>\n",
       "      <th>sepal_length</th>\n",
       "      <th>sepal_width</th>\n",
       "      <th>petal_length</th>\n",
       "      <th>petal_width</th>\n",
       "    </tr>\n",
       "  </thead>\n",
       "  <tbody>\n",
       "    <tr>\n",
       "      <th>0</th>\n",
       "      <td>76</td>\n",
       "      <td>3</td>\n",
       "      <td>0.942353</td>\n",
       "      <td>1.159173</td>\n",
       "      <td>-0.592373</td>\n",
       "      <td>0.592246</td>\n",
       "      <td>0.264142</td>\n",
       "    </tr>\n",
       "    <tr>\n",
       "      <th>1</th>\n",
       "      <td>101</td>\n",
       "      <td>6</td>\n",
       "      <td>0.624745</td>\n",
       "      <td>-0.052506</td>\n",
       "      <td>-0.822570</td>\n",
       "      <td>0.762758</td>\n",
       "      <td>0.922303</td>\n",
       "    </tr>\n",
       "    <tr>\n",
       "      <th>2</th>\n",
       "      <td>40</td>\n",
       "      <td>1</td>\n",
       "      <td>0.525019</td>\n",
       "      <td>-1.021849</td>\n",
       "      <td>1.019004</td>\n",
       "      <td>-1.397064</td>\n",
       "      <td>-1.183812</td>\n",
       "    </tr>\n",
       "    <tr>\n",
       "      <th>3</th>\n",
       "      <td>122</td>\n",
       "      <td>0</td>\n",
       "      <td>1.096971</td>\n",
       "      <td>2.249683</td>\n",
       "      <td>-0.592373</td>\n",
       "      <td>1.672157</td>\n",
       "      <td>1.053935</td>\n",
       "    </tr>\n",
       "    <tr>\n",
       "      <th>4</th>\n",
       "      <td>80</td>\n",
       "      <td>2</td>\n",
       "      <td>0.275180</td>\n",
       "      <td>-0.416010</td>\n",
       "      <td>-1.513160</td>\n",
       "      <td>0.023872</td>\n",
       "      <td>-0.130755</td>\n",
       "    </tr>\n",
       "    <tr>\n",
       "      <th>...</th>\n",
       "      <td>...</td>\n",
       "      <td>...</td>\n",
       "      <td>...</td>\n",
       "      <td>...</td>\n",
       "      <td>...</td>\n",
       "      <td>...</td>\n",
       "      <td>...</td>\n",
       "    </tr>\n",
       "    <tr>\n",
       "      <th>145</th>\n",
       "      <td>103</td>\n",
       "      <td>3</td>\n",
       "      <td>0.561728</td>\n",
       "      <td>0.553333</td>\n",
       "      <td>-0.362176</td>\n",
       "      <td>1.046945</td>\n",
       "      <td>0.790671</td>\n",
       "    </tr>\n",
       "    <tr>\n",
       "      <th>146</th>\n",
       "      <td>132</td>\n",
       "      <td>3</td>\n",
       "      <td>0.929822</td>\n",
       "      <td>0.674501</td>\n",
       "      <td>-0.592373</td>\n",
       "      <td>1.046945</td>\n",
       "      <td>1.317199</td>\n",
       "    </tr>\n",
       "    <tr>\n",
       "      <th>147</th>\n",
       "      <td>145</td>\n",
       "      <td>0</td>\n",
       "      <td>0.614598</td>\n",
       "      <td>1.038005</td>\n",
       "      <td>-0.131979</td>\n",
       "      <td>0.819596</td>\n",
       "      <td>1.448832</td>\n",
       "    </tr>\n",
       "    <tr>\n",
       "      <th>148</th>\n",
       "      <td>23</td>\n",
       "      <td>1</td>\n",
       "      <td>0.461896</td>\n",
       "      <td>-0.900681</td>\n",
       "      <td>0.558611</td>\n",
       "      <td>-1.169714</td>\n",
       "      <td>-0.920548</td>\n",
       "    </tr>\n",
       "    <tr>\n",
       "      <th>149</th>\n",
       "      <td>2</td>\n",
       "      <td>1</td>\n",
       "      <td>0.316281</td>\n",
       "      <td>-1.385353</td>\n",
       "      <td>0.328414</td>\n",
       "      <td>-1.397064</td>\n",
       "      <td>-1.315444</td>\n",
       "    </tr>\n",
       "  </tbody>\n",
       "</table>\n",
       "<p>150 rows × 7 columns</p>\n",
       "</div>"
      ],
      "text/plain": [
       "      id  td_clusterid_kmeans  td_distance_kmeans  sepal_length  sepal_width   \n",
       "0     76                    3            0.942353      1.159173    -0.592373  \\\n",
       "1    101                    6            0.624745     -0.052506    -0.822570   \n",
       "2     40                    1            0.525019     -1.021849     1.019004   \n",
       "3    122                    0            1.096971      2.249683    -0.592373   \n",
       "4     80                    2            0.275180     -0.416010    -1.513160   \n",
       "..   ...                  ...                 ...           ...          ...   \n",
       "145  103                    3            0.561728      0.553333    -0.362176   \n",
       "146  132                    3            0.929822      0.674501    -0.592373   \n",
       "147  145                    0            0.614598      1.038005    -0.131979   \n",
       "148   23                    1            0.461896     -0.900681     0.558611   \n",
       "149    2                    1            0.316281     -1.385353     0.328414   \n",
       "\n",
       "     petal_length  petal_width  \n",
       "0        0.592246     0.264142  \n",
       "1        0.762758     0.922303  \n",
       "2       -1.397064    -1.183812  \n",
       "3        1.672157     1.053935  \n",
       "4        0.023872    -0.130755  \n",
       "..            ...          ...  \n",
       "145      1.046945     0.790671  \n",
       "146      1.046945     1.317199  \n",
       "147      0.819596     1.448832  \n",
       "148     -1.169714    -0.920548  \n",
       "149     -1.397064    -1.315444  \n",
       "\n",
       "[150 rows x 7 columns]"
      ]
     },
     "metadata": {},
     "output_type": "display_data"
    },
    {
     "name": "stdout",
     "output_type": "stream",
     "text": [
      "----------------------------------------------------------------------------------------------------\n"
     ]
    }
   ],
   "source": [
    "for i, r in enumerate(tdkmeans_all.results_tables[:50]):\n",
    "    display(HTML(f\"<h3>Run {i}</h3>\"))\n",
    "    display(r)\n",
    "    print(\"-\"*100)"
   ]
  }
 ],
 "metadata": {
  "kernelspec": {
   "display_name": "Python 3 (ipykernel)",
   "language": "python",
   "name": "python3"
  },
  "language_info": {
   "codemirror_mode": {
    "name": "ipython",
    "version": 3
   },
   "file_extension": ".py",
   "mimetype": "text/x-python",
   "name": "python",
   "nbconvert_exporter": "python",
   "pygments_lexer": "ipython3",
   "version": "3.9.7"
  },
  "toc": {
   "base_numbering": 1,
   "nav_menu": {},
   "number_sections": false,
   "sideBar": true,
   "skip_h1_title": false,
   "title_cell": "Table of Contents",
   "title_sidebar": "Contents",
   "toc_cell": false,
   "toc_position": {
    "height": "calc(100% - 180px)",
    "left": "10px",
    "top": "150px",
    "width": "303px"
   },
   "toc_section_display": true,
   "toc_window_display": true
  },
  "vscode": {
   "interpreter": {
    "hash": "40d3a090f54c6569ab1632332b64b2c03c39dcf918b08424e98f38b5ae0af88f"
   }
  }
 },
 "nbformat": 4,
 "nbformat_minor": 5
}
